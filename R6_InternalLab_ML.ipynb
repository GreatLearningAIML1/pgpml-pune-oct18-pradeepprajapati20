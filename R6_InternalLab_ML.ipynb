{
  "nbformat": 4,
  "nbformat_minor": 0,
  "metadata": {
    "colab": {
      "name": "R6_InternalLab_ML.ipynb",
      "version": "0.3.2",
      "provenance": [],
      "collapsed_sections": [
        "YJRBuqXhOB7_"
      ]
    },
    "kernelspec": {
      "name": "python3",
      "display_name": "Python 3"
    },
    "accelerator": "GPU"
  },
  "cells": [
    {
      "metadata": {
        "colab_type": "text",
        "id": "sb7Epo0VOB58"
      },
      "cell_type": "markdown",
      "source": [
        "### Load tensorflow"
      ]
    },
    {
      "metadata": {
        "colab_type": "code",
        "id": "fHpCNRv1OB5-",
        "colab": {}
      },
      "cell_type": "code",
      "source": [
        "import tensorflow as tf\n",
        "tf.enable_eager_execution()"
      ],
      "execution_count": 0,
      "outputs": []
    },
    {
      "metadata": {
        "colab_type": "code",
        "id": "tnSsH8sNOB6F",
        "slideshow": {
          "slide_type": "fragment"
        },
        "colab": {}
      },
      "cell_type": "code",
      "source": [
        "#Reset Default graph - Needed only for Jupyter notebook\n",
        "tf.reset_default_graph()"
      ],
      "execution_count": 0,
      "outputs": []
    },
    {
      "metadata": {
        "colab_type": "text",
        "id": "DxJDmJqqOB6K",
        "slideshow": {
          "slide_type": "slide"
        }
      },
      "cell_type": "markdown",
      "source": [
        "### Collect Data"
      ]
    },
    {
      "metadata": {
        "colab_type": "code",
        "id": "FhllFLyKOB6N",
        "colab": {}
      },
      "cell_type": "code",
      "source": [
        "import pandas as pd"
      ],
      "execution_count": 0,
      "outputs": []
    },
    {
      "metadata": {
        "id": "I7Objluv19Lw",
        "colab_type": "code",
        "colab": {}
      },
      "cell_type": "code",
      "source": [
        "from google.colab import drive"
      ],
      "execution_count": 0,
      "outputs": []
    },
    {
      "metadata": {
        "id": "Zwh9Vzws2XzQ",
        "colab_type": "code",
        "outputId": "7f951a75-6f82-4632-a305-7093834d8e92",
        "colab": {
          "base_uri": "https://localhost:8080/",
          "height": 34
        }
      },
      "cell_type": "code",
      "source": [
        "drive.mount('/content/gdrive')"
      ],
      "execution_count": 52,
      "outputs": [
        {
          "output_type": "stream",
          "text": [
            "Drive already mounted at /content/gdrive; to attempt to forcibly remount, call drive.mount(\"/content/gdrive\", force_remount=True).\n"
          ],
          "name": "stdout"
        }
      ]
    },
    {
      "metadata": {
        "colab_type": "code",
        "id": "B4yQKMiJOB6R",
        "colab": {}
      },
      "cell_type": "code",
      "source": [
        "\n",
        "\n",
        "data = pd.read_csv('/content/gdrive/My Drive/Colab Notebooks/prices.csv')"
      ],
      "execution_count": 0,
      "outputs": []
    },
    {
      "metadata": {
        "colab_type": "text",
        "id": "fgkX6SEqOB6W"
      },
      "cell_type": "markdown",
      "source": [
        "### Check all columns in the dataset"
      ]
    },
    {
      "metadata": {
        "colab_type": "code",
        "id": "7K8pWsNQOB6X",
        "outputId": "6178beaa-7651-46a5-e2b8-1d6d63588c46",
        "colab": {
          "base_uri": "https://localhost:8080/",
          "height": 204
        }
      },
      "cell_type": "code",
      "source": [
        "data.head(5)"
      ],
      "execution_count": 100,
      "outputs": [
        {
          "output_type": "execute_result",
          "data": {
            "text/html": [
              "<div>\n",
              "<style scoped>\n",
              "    .dataframe tbody tr th:only-of-type {\n",
              "        vertical-align: middle;\n",
              "    }\n",
              "\n",
              "    .dataframe tbody tr th {\n",
              "        vertical-align: top;\n",
              "    }\n",
              "\n",
              "    .dataframe thead th {\n",
              "        text-align: right;\n",
              "    }\n",
              "</style>\n",
              "<table border=\"1\" class=\"dataframe\">\n",
              "  <thead>\n",
              "    <tr style=\"text-align: right;\">\n",
              "      <th></th>\n",
              "      <th>date</th>\n",
              "      <th>symbol</th>\n",
              "      <th>open</th>\n",
              "      <th>close</th>\n",
              "      <th>low</th>\n",
              "      <th>high</th>\n",
              "      <th>volume</th>\n",
              "    </tr>\n",
              "  </thead>\n",
              "  <tbody>\n",
              "    <tr>\n",
              "      <th>0</th>\n",
              "      <td>2016-01-05 00:00:00</td>\n",
              "      <td>WLTW</td>\n",
              "      <td>123.430000</td>\n",
              "      <td>125.839996</td>\n",
              "      <td>122.309998</td>\n",
              "      <td>126.250000</td>\n",
              "      <td>2163600.0</td>\n",
              "    </tr>\n",
              "    <tr>\n",
              "      <th>1</th>\n",
              "      <td>2016-01-06 00:00:00</td>\n",
              "      <td>WLTW</td>\n",
              "      <td>125.239998</td>\n",
              "      <td>119.980003</td>\n",
              "      <td>119.940002</td>\n",
              "      <td>125.540001</td>\n",
              "      <td>2386400.0</td>\n",
              "    </tr>\n",
              "    <tr>\n",
              "      <th>2</th>\n",
              "      <td>2016-01-07 00:00:00</td>\n",
              "      <td>WLTW</td>\n",
              "      <td>116.379997</td>\n",
              "      <td>114.949997</td>\n",
              "      <td>114.930000</td>\n",
              "      <td>119.739998</td>\n",
              "      <td>2489500.0</td>\n",
              "    </tr>\n",
              "    <tr>\n",
              "      <th>3</th>\n",
              "      <td>2016-01-08 00:00:00</td>\n",
              "      <td>WLTW</td>\n",
              "      <td>115.480003</td>\n",
              "      <td>116.620003</td>\n",
              "      <td>113.500000</td>\n",
              "      <td>117.440002</td>\n",
              "      <td>2006300.0</td>\n",
              "    </tr>\n",
              "    <tr>\n",
              "      <th>4</th>\n",
              "      <td>2016-01-11 00:00:00</td>\n",
              "      <td>WLTW</td>\n",
              "      <td>117.010002</td>\n",
              "      <td>114.970001</td>\n",
              "      <td>114.089996</td>\n",
              "      <td>117.330002</td>\n",
              "      <td>1408600.0</td>\n",
              "    </tr>\n",
              "  </tbody>\n",
              "</table>\n",
              "</div>"
            ],
            "text/plain": [
              "                  date symbol        open       close         low        high  \\\n",
              "0  2016-01-05 00:00:00   WLTW  123.430000  125.839996  122.309998  126.250000   \n",
              "1  2016-01-06 00:00:00   WLTW  125.239998  119.980003  119.940002  125.540001   \n",
              "2  2016-01-07 00:00:00   WLTW  116.379997  114.949997  114.930000  119.739998   \n",
              "3  2016-01-08 00:00:00   WLTW  115.480003  116.620003  113.500000  117.440002   \n",
              "4  2016-01-11 00:00:00   WLTW  117.010002  114.970001  114.089996  117.330002   \n",
              "\n",
              "      volume  \n",
              "0  2163600.0  \n",
              "1  2386400.0  \n",
              "2  2489500.0  \n",
              "3  2006300.0  \n",
              "4  1408600.0  "
            ]
          },
          "metadata": {
            "tags": []
          },
          "execution_count": 100
        }
      ]
    },
    {
      "metadata": {
        "id": "Un_qyxcf37NZ",
        "colab_type": "code",
        "outputId": "3832abf6-e111-474c-b0ee-5c5e98493a57",
        "colab": {
          "base_uri": "https://localhost:8080/",
          "height": 221
        }
      },
      "cell_type": "code",
      "source": [
        "\n",
        "data.info (10)"
      ],
      "execution_count": 101,
      "outputs": [
        {
          "output_type": "stream",
          "text": [
            "<class 'pandas.core.frame.DataFrame'>\n",
            "RangeIndex: 851264 entries, 0 to 851263\n",
            "Data columns (total 7 columns):\n",
            "date      851264 non-null object\n",
            "symbol    851264 non-null object\n",
            "open      851264 non-null float64\n",
            "close     851264 non-null float64\n",
            "low       851264 non-null float64\n",
            "high      851264 non-null float64\n",
            "volume    851264 non-null float64\n",
            "dtypes: float64(5), object(2)\n",
            "memory usage: 45.5+ MB\n"
          ],
          "name": "stdout"
        }
      ]
    },
    {
      "metadata": {
        "id": "ZeJUIuUT4Jfq",
        "colab_type": "code",
        "outputId": "e09981e7-3dbb-4da6-cc5c-27aa77257e51",
        "colab": {
          "base_uri": "https://localhost:8080/",
          "height": 204
        }
      },
      "cell_type": "code",
      "source": [
        "\n",
        "data.describe().T"
      ],
      "execution_count": 102,
      "outputs": [
        {
          "output_type": "execute_result",
          "data": {
            "text/html": [
              "<div>\n",
              "<style scoped>\n",
              "    .dataframe tbody tr th:only-of-type {\n",
              "        vertical-align: middle;\n",
              "    }\n",
              "\n",
              "    .dataframe tbody tr th {\n",
              "        vertical-align: top;\n",
              "    }\n",
              "\n",
              "    .dataframe thead th {\n",
              "        text-align: right;\n",
              "    }\n",
              "</style>\n",
              "<table border=\"1\" class=\"dataframe\">\n",
              "  <thead>\n",
              "    <tr style=\"text-align: right;\">\n",
              "      <th></th>\n",
              "      <th>count</th>\n",
              "      <th>mean</th>\n",
              "      <th>std</th>\n",
              "      <th>min</th>\n",
              "      <th>25%</th>\n",
              "      <th>50%</th>\n",
              "      <th>75%</th>\n",
              "      <th>max</th>\n",
              "    </tr>\n",
              "  </thead>\n",
              "  <tbody>\n",
              "    <tr>\n",
              "      <th>open</th>\n",
              "      <td>851264.0</td>\n",
              "      <td>7.083699e+01</td>\n",
              "      <td>8.369588e+01</td>\n",
              "      <td>0.85</td>\n",
              "      <td>3.384000e+01</td>\n",
              "      <td>5.277000e+01</td>\n",
              "      <td>7.988000e+01</td>\n",
              "      <td>1.584440e+03</td>\n",
              "    </tr>\n",
              "    <tr>\n",
              "      <th>close</th>\n",
              "      <td>851264.0</td>\n",
              "      <td>7.085711e+01</td>\n",
              "      <td>8.368969e+01</td>\n",
              "      <td>0.86</td>\n",
              "      <td>3.385000e+01</td>\n",
              "      <td>5.280000e+01</td>\n",
              "      <td>7.989000e+01</td>\n",
              "      <td>1.578130e+03</td>\n",
              "    </tr>\n",
              "    <tr>\n",
              "      <th>low</th>\n",
              "      <td>851264.0</td>\n",
              "      <td>7.011841e+01</td>\n",
              "      <td>8.287729e+01</td>\n",
              "      <td>0.83</td>\n",
              "      <td>3.348000e+01</td>\n",
              "      <td>5.223000e+01</td>\n",
              "      <td>7.911000e+01</td>\n",
              "      <td>1.549940e+03</td>\n",
              "    </tr>\n",
              "    <tr>\n",
              "      <th>high</th>\n",
              "      <td>851264.0</td>\n",
              "      <td>7.154348e+01</td>\n",
              "      <td>8.446550e+01</td>\n",
              "      <td>0.88</td>\n",
              "      <td>3.419000e+01</td>\n",
              "      <td>5.331000e+01</td>\n",
              "      <td>8.061000e+01</td>\n",
              "      <td>1.600930e+03</td>\n",
              "    </tr>\n",
              "    <tr>\n",
              "      <th>volume</th>\n",
              "      <td>851264.0</td>\n",
              "      <td>5.415113e+06</td>\n",
              "      <td>1.249468e+07</td>\n",
              "      <td>0.00</td>\n",
              "      <td>1.221500e+06</td>\n",
              "      <td>2.476250e+06</td>\n",
              "      <td>5.222500e+06</td>\n",
              "      <td>8.596434e+08</td>\n",
              "    </tr>\n",
              "  </tbody>\n",
              "</table>\n",
              "</div>"
            ],
            "text/plain": [
              "           count          mean           std   min           25%  \\\n",
              "open    851264.0  7.083699e+01  8.369588e+01  0.85  3.384000e+01   \n",
              "close   851264.0  7.085711e+01  8.368969e+01  0.86  3.385000e+01   \n",
              "low     851264.0  7.011841e+01  8.287729e+01  0.83  3.348000e+01   \n",
              "high    851264.0  7.154348e+01  8.446550e+01  0.88  3.419000e+01   \n",
              "volume  851264.0  5.415113e+06  1.249468e+07  0.00  1.221500e+06   \n",
              "\n",
              "                 50%           75%           max  \n",
              "open    5.277000e+01  7.988000e+01  1.584440e+03  \n",
              "close   5.280000e+01  7.989000e+01  1.578130e+03  \n",
              "low     5.223000e+01  7.911000e+01  1.549940e+03  \n",
              "high    5.331000e+01  8.061000e+01  1.600930e+03  \n",
              "volume  2.476250e+06  5.222500e+06  8.596434e+08  "
            ]
          },
          "metadata": {
            "tags": []
          },
          "execution_count": 102
        }
      ]
    },
    {
      "metadata": {
        "colab_type": "text",
        "id": "7dU6X7MpOB6c"
      },
      "cell_type": "markdown",
      "source": [
        "### Drop columns `date` and  `symbol`"
      ]
    },
    {
      "metadata": {
        "colab_type": "code",
        "id": "lh_6spSKOB6e",
        "colab": {}
      },
      "cell_type": "code",
      "source": [
        "data.drop(columns=['date','symbol'], inplace=True)"
      ],
      "execution_count": 0,
      "outputs": []
    },
    {
      "metadata": {
        "colab_type": "code",
        "id": "xlwbUgTwOB6i",
        "outputId": "964a4a7e-d538-44f8-f5c8-b1db6213553a",
        "colab": {
          "base_uri": "https://localhost:8080/",
          "height": 204
        }
      },
      "cell_type": "code",
      "source": [
        "data.head()"
      ],
      "execution_count": 104,
      "outputs": [
        {
          "output_type": "execute_result",
          "data": {
            "text/html": [
              "<div>\n",
              "<style scoped>\n",
              "    .dataframe tbody tr th:only-of-type {\n",
              "        vertical-align: middle;\n",
              "    }\n",
              "\n",
              "    .dataframe tbody tr th {\n",
              "        vertical-align: top;\n",
              "    }\n",
              "\n",
              "    .dataframe thead th {\n",
              "        text-align: right;\n",
              "    }\n",
              "</style>\n",
              "<table border=\"1\" class=\"dataframe\">\n",
              "  <thead>\n",
              "    <tr style=\"text-align: right;\">\n",
              "      <th></th>\n",
              "      <th>open</th>\n",
              "      <th>close</th>\n",
              "      <th>low</th>\n",
              "      <th>high</th>\n",
              "      <th>volume</th>\n",
              "    </tr>\n",
              "  </thead>\n",
              "  <tbody>\n",
              "    <tr>\n",
              "      <th>0</th>\n",
              "      <td>123.430000</td>\n",
              "      <td>125.839996</td>\n",
              "      <td>122.309998</td>\n",
              "      <td>126.250000</td>\n",
              "      <td>2163600.0</td>\n",
              "    </tr>\n",
              "    <tr>\n",
              "      <th>1</th>\n",
              "      <td>125.239998</td>\n",
              "      <td>119.980003</td>\n",
              "      <td>119.940002</td>\n",
              "      <td>125.540001</td>\n",
              "      <td>2386400.0</td>\n",
              "    </tr>\n",
              "    <tr>\n",
              "      <th>2</th>\n",
              "      <td>116.379997</td>\n",
              "      <td>114.949997</td>\n",
              "      <td>114.930000</td>\n",
              "      <td>119.739998</td>\n",
              "      <td>2489500.0</td>\n",
              "    </tr>\n",
              "    <tr>\n",
              "      <th>3</th>\n",
              "      <td>115.480003</td>\n",
              "      <td>116.620003</td>\n",
              "      <td>113.500000</td>\n",
              "      <td>117.440002</td>\n",
              "      <td>2006300.0</td>\n",
              "    </tr>\n",
              "    <tr>\n",
              "      <th>4</th>\n",
              "      <td>117.010002</td>\n",
              "      <td>114.970001</td>\n",
              "      <td>114.089996</td>\n",
              "      <td>117.330002</td>\n",
              "      <td>1408600.0</td>\n",
              "    </tr>\n",
              "  </tbody>\n",
              "</table>\n",
              "</div>"
            ],
            "text/plain": [
              "         open       close         low        high     volume\n",
              "0  123.430000  125.839996  122.309998  126.250000  2163600.0\n",
              "1  125.239998  119.980003  119.940002  125.540001  2386400.0\n",
              "2  116.379997  114.949997  114.930000  119.739998  2489500.0\n",
              "3  115.480003  116.620003  113.500000  117.440002  2006300.0\n",
              "4  117.010002  114.970001  114.089996  117.330002  1408600.0"
            ]
          },
          "metadata": {
            "tags": []
          },
          "execution_count": 104
        }
      ]
    },
    {
      "metadata": {
        "colab_type": "text",
        "id": "3DBv3WWYOB6q"
      },
      "cell_type": "markdown",
      "source": [
        "### Consider only first 1000 rows in the dataset for building feature set and target set"
      ]
    },
    {
      "metadata": {
        "colab_type": "code",
        "id": "Z_hG9rGBOB6s",
        "colab": {}
      },
      "cell_type": "code",
      "source": [
        "data1 = data.head(1000)"
      ],
      "execution_count": 0,
      "outputs": []
    },
    {
      "metadata": {
        "colab_type": "text",
        "id": "M3UaApqYOB6x"
      },
      "cell_type": "markdown",
      "source": [
        "### Divide the data into train and test sets"
      ]
    },
    {
      "metadata": {
        "colab_type": "code",
        "id": "2EkKAy7fOB6y",
        "colab": {}
      },
      "cell_type": "code",
      "source": [
        "X = data1.drop(\"close\", axis=1)\n",
        "y = data1['close']"
      ],
      "execution_count": 0,
      "outputs": []
    },
    {
      "metadata": {
        "id": "jS5bbOZD8kC2",
        "colab_type": "code",
        "outputId": "6a0ffb74-25c6-4faa-83ab-b31bb72a112c",
        "colab": {
          "base_uri": "https://localhost:8080/",
          "height": 34
        }
      },
      "cell_type": "code",
      "source": [
        "X.shape"
      ],
      "execution_count": 61,
      "outputs": [
        {
          "output_type": "execute_result",
          "data": {
            "text/plain": [
              "(1000, 4)"
            ]
          },
          "metadata": {
            "tags": []
          },
          "execution_count": 61
        }
      ]
    },
    {
      "metadata": {
        "id": "AYx7HP1t8xls",
        "colab_type": "code",
        "colab": {}
      },
      "cell_type": "code",
      "source": [
        "from sklearn.model_selection import train_test_split"
      ],
      "execution_count": 0,
      "outputs": []
    },
    {
      "metadata": {
        "id": "XQ3boxTX7Dub",
        "colab_type": "code",
        "colab": {}
      },
      "cell_type": "code",
      "source": [
        "test_size = 0.30 # taking 70:30 training and test set\n",
        "seed = 7  # Random numbmer seeding for reapeatability of the code\n",
        "X_train, X_test, y_train, y_test = train_test_split(X, y, test_size=test_size, random_state=seed)"
      ],
      "execution_count": 0,
      "outputs": []
    },
    {
      "metadata": {
        "id": "GnRmwewYPWNV",
        "colab_type": "code",
        "colab": {}
      },
      "cell_type": "code",
      "source": [
        ""
      ],
      "execution_count": 0,
      "outputs": []
    },
    {
      "metadata": {
        "colab_type": "text",
        "id": "v6vE4eYCOB62",
        "slideshow": {
          "slide_type": "slide"
        }
      },
      "cell_type": "markdown",
      "source": [
        "## Building the graph in tensorflow"
      ]
    },
    {
      "metadata": {
        "colab_type": "text",
        "id": "xK0zBd1VOB64",
        "slideshow": {
          "slide_type": "slide"
        }
      },
      "cell_type": "markdown",
      "source": [
        "1.Define input data placeholders"
      ]
    },
    {
      "metadata": {
        "colab_type": "code",
        "id": "JDrYlWTuOB66",
        "colab": {}
      },
      "cell_type": "code",
      "source": [
        "#X = X_train.astype(tf.float32, shape=(None,1))\n",
        "#y = y_train.astype(tf.float32, shape=(1,))\n",
        "X_train = X_train.astype('float32')\n",
        "y_train = y_train.astype('float32')"
      ],
      "execution_count": 0,
      "outputs": []
    },
    {
      "metadata": {
        "id": "CTD2D6nXZDp_",
        "colab_type": "code",
        "colab": {
          "base_uri": "https://localhost:8080/",
          "height": 34
        },
        "outputId": "f695e0b6-459f-4124-fa46-6a13e4614e69"
      },
      "cell_type": "code",
      "source": [
        "X_train.shape"
      ],
      "execution_count": 113,
      "outputs": [
        {
          "output_type": "execute_result",
          "data": {
            "text/plain": [
              "(700, 4)"
            ]
          },
          "metadata": {
            "tags": []
          },
          "execution_count": 113
        }
      ]
    },
    {
      "metadata": {
        "colab_type": "text",
        "id": "297_qja4OB7A",
        "slideshow": {
          "slide_type": "slide"
        }
      },
      "cell_type": "markdown",
      "source": [
        "2.Define Weights and Bias"
      ]
    },
    {
      "metadata": {
        "colab_type": "code",
        "id": "L205qPeQOB7B",
        "colab": {}
      },
      "cell_type": "code",
      "source": [
        "w = tf.zeros(shape=(4,),dtype=tf.float32)\n",
        "b = tf.zeros(shape=(1), dtype=tf.float32)"
      ],
      "execution_count": 0,
      "outputs": []
    },
    {
      "metadata": {
        "colab_type": "text",
        "id": "HgtWA-UIOB7F",
        "slideshow": {
          "slide_type": "slide"
        }
      },
      "cell_type": "markdown",
      "source": [
        "3.Prediction"
      ]
    },
    {
      "metadata": {
        "colab_type": "code",
        "id": "JveGlx25OB7H",
        "colab": {}
      },
      "cell_type": "code",
      "source": [
        "def prediction(X, w, b): \n",
        "  xw_matmul = tf.matmul(X, w)\n",
        "  y = tf.add(xw_matmul, b)\n",
        "  return y"
      ],
      "execution_count": 0,
      "outputs": []
    },
    {
      "metadata": {
        "colab_type": "text",
        "id": "TL1hIwf_OB7M",
        "slideshow": {
          "slide_type": "slide"
        }
      },
      "cell_type": "markdown",
      "source": [
        "4.Loss (Cost) Function [Mean square error]"
      ]
    },
    {
      "metadata": {
        "colab_type": "code",
        "id": "8VSWPiGXOB7P",
        "colab": {}
      },
      "cell_type": "code",
      "source": [
        "def loss(y_actual, y_predicted):    \n",
        "    diff = y_actual - y_predicted\n",
        "    sqr = tf.square(diff)\n",
        "    avg = tf.reduce_mean(sqr)\n",
        "    return avg"
      ],
      "execution_count": 0,
      "outputs": []
    },
    {
      "metadata": {
        "colab_type": "text",
        "id": "jzG85FUlOB7U",
        "slideshow": {
          "slide_type": "slide"
        }
      },
      "cell_type": "markdown",
      "source": [
        "5.GradientDescent Optimizer to minimize Loss [GradientDescentOptimizer]"
      ]
    },
    {
      "metadata": {
        "colab_type": "code",
        "id": "cj802w-3OB7X",
        "colab": {}
      },
      "cell_type": "code",
      "source": [
        "def train(X, y_actual, w, b, learning_rate=0.03):    \n",
        "    #Record mathematical operations on 'tape' to calculate loss\n",
        "    with tf.GradientTape() as t:\n",
        "        \n",
        "        t.watch([w,b])\n",
        "        \n",
        "        y_predicted = prediction(X, w, b)\n",
        "        current_loss = loss(y_actual, y_predicted)\n",
        "    \n",
        "    #Calculate Gradients for Loss with respect to Weights and Bias\n",
        "    dw, db = t.gradient(current_loss,[w, b])\n",
        "    \n",
        "    #Update Weights and Bias\n",
        "    w = w - learning_rate*dw\n",
        "    b = b - learning_rate*db\n",
        "    \n",
        "    return w, b"
      ],
      "execution_count": 0,
      "outputs": []
    },
    {
      "metadata": {
        "id": "bPNhEy6NIQcd",
        "colab_type": "code",
        "colab": {}
      },
      "cell_type": "code",
      "source": [
        ""
      ],
      "execution_count": 0,
      "outputs": []
    },
    {
      "metadata": {
        "colab_type": "text",
        "id": "xSypb_u8OB7e",
        "slideshow": {
          "slide_type": "slide"
        }
      },
      "cell_type": "markdown",
      "source": [
        "## Execute the Graph for 100 epochs and observe the loss"
      ]
    },
    {
      "metadata": {
        "colab_type": "code",
        "id": "DVvgj7eQOB7f",
        "outputId": "45564129-52a0-46c0-c8b5-fd9830965644",
        "colab": {
          "base_uri": "https://localhost:8080/",
          "height": 1390
        }
      },
      "cell_type": "code",
      "source": [
        "for i in range(100):    \n",
        "    w, b = train(X_train, y_train, w, b)\n",
        "    print('Current Loss on iteration', i, loss(y_train, prediction(X_train, w, b)).numpy())"
      ],
      "execution_count": 118,
      "outputs": [
        {
          "output_type": "error",
          "ename": "ValueError",
          "evalue": "ignored",
          "traceback": [
            "\u001b[0;31m---------------------------------------------------------------------------\u001b[0m",
            "\u001b[0;31mValueError\u001b[0m                                Traceback (most recent call last)",
            "\u001b[0;32m<ipython-input-118-43722c318cb7>\u001b[0m in \u001b[0;36m<module>\u001b[0;34m()\u001b[0m\n\u001b[1;32m      1\u001b[0m \u001b[0;32mfor\u001b[0m \u001b[0mi\u001b[0m \u001b[0;32min\u001b[0m \u001b[0mrange\u001b[0m\u001b[0;34m(\u001b[0m\u001b[0;36m100\u001b[0m\u001b[0;34m)\u001b[0m\u001b[0;34m:\u001b[0m\u001b[0;34m\u001b[0m\u001b[0;34m\u001b[0m\u001b[0m\n\u001b[0;32m----> 2\u001b[0;31m     \u001b[0mw\u001b[0m\u001b[0;34m,\u001b[0m \u001b[0mb\u001b[0m \u001b[0;34m=\u001b[0m \u001b[0mtrain\u001b[0m\u001b[0;34m(\u001b[0m\u001b[0mX_train\u001b[0m\u001b[0;34m,\u001b[0m \u001b[0my_train\u001b[0m\u001b[0;34m,\u001b[0m \u001b[0mw\u001b[0m\u001b[0;34m,\u001b[0m \u001b[0mb\u001b[0m\u001b[0;34m)\u001b[0m\u001b[0;34m\u001b[0m\u001b[0;34m\u001b[0m\u001b[0m\n\u001b[0m\u001b[1;32m      3\u001b[0m     \u001b[0mprint\u001b[0m\u001b[0;34m(\u001b[0m\u001b[0;34m'Current Loss on iteration'\u001b[0m\u001b[0;34m,\u001b[0m \u001b[0mi\u001b[0m\u001b[0;34m,\u001b[0m \u001b[0mloss\u001b[0m\u001b[0;34m(\u001b[0m\u001b[0my_train\u001b[0m\u001b[0;34m,\u001b[0m \u001b[0mprediction\u001b[0m\u001b[0;34m(\u001b[0m\u001b[0mX_train\u001b[0m\u001b[0;34m,\u001b[0m \u001b[0mw\u001b[0m\u001b[0;34m,\u001b[0m \u001b[0mb\u001b[0m\u001b[0;34m)\u001b[0m\u001b[0;34m)\u001b[0m\u001b[0;34m.\u001b[0m\u001b[0mnumpy\u001b[0m\u001b[0;34m(\u001b[0m\u001b[0;34m)\u001b[0m\u001b[0;34m)\u001b[0m\u001b[0;34m\u001b[0m\u001b[0;34m\u001b[0m\u001b[0m\n",
            "\u001b[0;32m<ipython-input-117-f37070575525>\u001b[0m in \u001b[0;36mtrain\u001b[0;34m(X, y_actual, w, b, learning_rate)\u001b[0m\n\u001b[1;32m      5\u001b[0m         \u001b[0mt\u001b[0m\u001b[0;34m.\u001b[0m\u001b[0mwatch\u001b[0m\u001b[0;34m(\u001b[0m\u001b[0;34m[\u001b[0m\u001b[0mw\u001b[0m\u001b[0;34m,\u001b[0m\u001b[0mb\u001b[0m\u001b[0;34m]\u001b[0m\u001b[0;34m)\u001b[0m\u001b[0;34m\u001b[0m\u001b[0;34m\u001b[0m\u001b[0m\n\u001b[1;32m      6\u001b[0m \u001b[0;34m\u001b[0m\u001b[0m\n\u001b[0;32m----> 7\u001b[0;31m         \u001b[0my_predicted\u001b[0m \u001b[0;34m=\u001b[0m \u001b[0mprediction\u001b[0m\u001b[0;34m(\u001b[0m\u001b[0mX\u001b[0m\u001b[0;34m,\u001b[0m \u001b[0mw\u001b[0m\u001b[0;34m,\u001b[0m \u001b[0mb\u001b[0m\u001b[0;34m)\u001b[0m\u001b[0;34m\u001b[0m\u001b[0;34m\u001b[0m\u001b[0m\n\u001b[0m\u001b[1;32m      8\u001b[0m         \u001b[0mcurrent_loss\u001b[0m \u001b[0;34m=\u001b[0m \u001b[0mloss\u001b[0m\u001b[0;34m(\u001b[0m\u001b[0my_actual\u001b[0m\u001b[0;34m,\u001b[0m \u001b[0my_predicted\u001b[0m\u001b[0;34m)\u001b[0m\u001b[0;34m\u001b[0m\u001b[0;34m\u001b[0m\u001b[0m\n\u001b[1;32m      9\u001b[0m \u001b[0;34m\u001b[0m\u001b[0m\n",
            "\u001b[0;32m<ipython-input-115-b89a35de58f7>\u001b[0m in \u001b[0;36mprediction\u001b[0;34m(X, w, b)\u001b[0m\n\u001b[1;32m      1\u001b[0m \u001b[0;32mdef\u001b[0m \u001b[0mprediction\u001b[0m\u001b[0;34m(\u001b[0m\u001b[0mX\u001b[0m\u001b[0;34m,\u001b[0m \u001b[0mw\u001b[0m\u001b[0;34m,\u001b[0m \u001b[0mb\u001b[0m\u001b[0;34m)\u001b[0m\u001b[0;34m:\u001b[0m\u001b[0;34m\u001b[0m\u001b[0;34m\u001b[0m\u001b[0m\n\u001b[0;32m----> 2\u001b[0;31m   \u001b[0mxw_matmul\u001b[0m \u001b[0;34m=\u001b[0m \u001b[0mtf\u001b[0m\u001b[0;34m.\u001b[0m\u001b[0mmatmul\u001b[0m\u001b[0;34m(\u001b[0m\u001b[0mX\u001b[0m\u001b[0;34m,\u001b[0m \u001b[0mw\u001b[0m\u001b[0;34m)\u001b[0m\u001b[0;34m\u001b[0m\u001b[0;34m\u001b[0m\u001b[0m\n\u001b[0m\u001b[1;32m      3\u001b[0m   \u001b[0my\u001b[0m \u001b[0;34m=\u001b[0m \u001b[0mtf\u001b[0m\u001b[0;34m.\u001b[0m\u001b[0madd\u001b[0m\u001b[0;34m(\u001b[0m\u001b[0mxw_matmul\u001b[0m\u001b[0;34m,\u001b[0m \u001b[0mb\u001b[0m\u001b[0;34m)\u001b[0m\u001b[0;34m\u001b[0m\u001b[0;34m\u001b[0m\u001b[0m\n\u001b[1;32m      4\u001b[0m   \u001b[0;32mreturn\u001b[0m \u001b[0my\u001b[0m\u001b[0;34m\u001b[0m\u001b[0;34m\u001b[0m\u001b[0m\n",
            "\u001b[0;32m/usr/local/lib/python3.6/dist-packages/tensorflow/python/ops/math_ops.py\u001b[0m in \u001b[0;36mmatmul\u001b[0;34m(a, b, transpose_a, transpose_b, adjoint_a, adjoint_b, a_is_sparse, b_is_sparse, name)\u001b[0m\n\u001b[1;32m   2393\u001b[0m     \u001b[0;32mif\u001b[0m \u001b[0mcontext\u001b[0m\u001b[0;34m.\u001b[0m\u001b[0mexecuting_eagerly\u001b[0m\u001b[0;34m(\u001b[0m\u001b[0;34m)\u001b[0m\u001b[0;34m:\u001b[0m\u001b[0;34m\u001b[0m\u001b[0;34m\u001b[0m\u001b[0m\n\u001b[1;32m   2394\u001b[0m       \u001b[0;32mif\u001b[0m \u001b[0;32mnot\u001b[0m \u001b[0misinstance\u001b[0m\u001b[0;34m(\u001b[0m\u001b[0ma\u001b[0m\u001b[0;34m,\u001b[0m \u001b[0;34m(\u001b[0m\u001b[0mops\u001b[0m\u001b[0;34m.\u001b[0m\u001b[0mEagerTensor\u001b[0m\u001b[0;34m,\u001b[0m \u001b[0m_resource_variable_type\u001b[0m\u001b[0;34m)\u001b[0m\u001b[0;34m)\u001b[0m\u001b[0;34m:\u001b[0m\u001b[0;34m\u001b[0m\u001b[0;34m\u001b[0m\u001b[0m\n\u001b[0;32m-> 2395\u001b[0;31m         \u001b[0ma\u001b[0m \u001b[0;34m=\u001b[0m \u001b[0mops\u001b[0m\u001b[0;34m.\u001b[0m\u001b[0mconvert_to_tensor\u001b[0m\u001b[0;34m(\u001b[0m\u001b[0ma\u001b[0m\u001b[0;34m,\u001b[0m \u001b[0mname\u001b[0m\u001b[0;34m=\u001b[0m\u001b[0;34m\"a\"\u001b[0m\u001b[0;34m)\u001b[0m\u001b[0;34m\u001b[0m\u001b[0;34m\u001b[0m\u001b[0m\n\u001b[0m\u001b[1;32m   2396\u001b[0m       \u001b[0;32mif\u001b[0m \u001b[0;32mnot\u001b[0m \u001b[0misinstance\u001b[0m\u001b[0;34m(\u001b[0m\u001b[0mb\u001b[0m\u001b[0;34m,\u001b[0m \u001b[0;34m(\u001b[0m\u001b[0mops\u001b[0m\u001b[0;34m.\u001b[0m\u001b[0mEagerTensor\u001b[0m\u001b[0;34m,\u001b[0m \u001b[0m_resource_variable_type\u001b[0m\u001b[0;34m)\u001b[0m\u001b[0;34m)\u001b[0m\u001b[0;34m:\u001b[0m\u001b[0;34m\u001b[0m\u001b[0;34m\u001b[0m\u001b[0m\n\u001b[1;32m   2397\u001b[0m         \u001b[0mb\u001b[0m \u001b[0;34m=\u001b[0m \u001b[0mops\u001b[0m\u001b[0;34m.\u001b[0m\u001b[0mconvert_to_tensor\u001b[0m\u001b[0;34m(\u001b[0m\u001b[0mb\u001b[0m\u001b[0;34m,\u001b[0m \u001b[0mname\u001b[0m\u001b[0;34m=\u001b[0m\u001b[0;34m\"b\"\u001b[0m\u001b[0;34m)\u001b[0m\u001b[0;34m\u001b[0m\u001b[0;34m\u001b[0m\u001b[0m\n",
            "\u001b[0;32m/usr/local/lib/python3.6/dist-packages/tensorflow/python/framework/ops.py\u001b[0m in \u001b[0;36mconvert_to_tensor\u001b[0;34m(value, dtype, name, preferred_dtype)\u001b[0m\n\u001b[1;32m   1037\u001b[0m     \u001b[0mValueError\u001b[0m\u001b[0;34m:\u001b[0m \u001b[0mIf\u001b[0m \u001b[0mthe\u001b[0m\u001b[0;31m \u001b[0m\u001b[0;31m`\u001b[0m\u001b[0mvalue\u001b[0m\u001b[0;31m`\u001b[0m \u001b[0;32mis\u001b[0m \u001b[0ma\u001b[0m \u001b[0mtensor\u001b[0m \u001b[0;32mnot\u001b[0m \u001b[0mof\u001b[0m \u001b[0mgiven\u001b[0m\u001b[0;31m \u001b[0m\u001b[0;31m`\u001b[0m\u001b[0mdtype\u001b[0m\u001b[0;31m`\u001b[0m \u001b[0;32min\u001b[0m \u001b[0mgraph\u001b[0m \u001b[0mmode\u001b[0m\u001b[0;34m.\u001b[0m\u001b[0;34m\u001b[0m\u001b[0;34m\u001b[0m\u001b[0m\n\u001b[1;32m   1038\u001b[0m   \"\"\"\n\u001b[0;32m-> 1039\u001b[0;31m   \u001b[0;32mreturn\u001b[0m \u001b[0mconvert_to_tensor_v2\u001b[0m\u001b[0;34m(\u001b[0m\u001b[0mvalue\u001b[0m\u001b[0;34m,\u001b[0m \u001b[0mdtype\u001b[0m\u001b[0;34m,\u001b[0m \u001b[0mpreferred_dtype\u001b[0m\u001b[0;34m,\u001b[0m \u001b[0mname\u001b[0m\u001b[0;34m)\u001b[0m\u001b[0;34m\u001b[0m\u001b[0;34m\u001b[0m\u001b[0m\n\u001b[0m\u001b[1;32m   1040\u001b[0m \u001b[0;34m\u001b[0m\u001b[0m\n\u001b[1;32m   1041\u001b[0m \u001b[0;34m\u001b[0m\u001b[0m\n",
            "\u001b[0;32m/usr/local/lib/python3.6/dist-packages/tensorflow/python/framework/ops.py\u001b[0m in \u001b[0;36mconvert_to_tensor_v2\u001b[0;34m(value, dtype, dtype_hint, name)\u001b[0m\n\u001b[1;32m   1095\u001b[0m       \u001b[0mname\u001b[0m\u001b[0;34m=\u001b[0m\u001b[0mname\u001b[0m\u001b[0;34m,\u001b[0m\u001b[0;34m\u001b[0m\u001b[0;34m\u001b[0m\u001b[0m\n\u001b[1;32m   1096\u001b[0m       \u001b[0mpreferred_dtype\u001b[0m\u001b[0;34m=\u001b[0m\u001b[0mdtype_hint\u001b[0m\u001b[0;34m,\u001b[0m\u001b[0;34m\u001b[0m\u001b[0;34m\u001b[0m\u001b[0m\n\u001b[0;32m-> 1097\u001b[0;31m       as_ref=False)\n\u001b[0m\u001b[1;32m   1098\u001b[0m \u001b[0;34m\u001b[0m\u001b[0m\n\u001b[1;32m   1099\u001b[0m \u001b[0;34m\u001b[0m\u001b[0m\n",
            "\u001b[0;32m/usr/local/lib/python3.6/dist-packages/tensorflow/python/framework/ops.py\u001b[0m in \u001b[0;36minternal_convert_to_tensor\u001b[0;34m(value, dtype, name, as_ref, preferred_dtype, ctx, accept_symbolic_tensors)\u001b[0m\n\u001b[1;32m   1173\u001b[0m \u001b[0;34m\u001b[0m\u001b[0m\n\u001b[1;32m   1174\u001b[0m     \u001b[0;32mif\u001b[0m \u001b[0mret\u001b[0m \u001b[0;32mis\u001b[0m \u001b[0;32mNone\u001b[0m\u001b[0;34m:\u001b[0m\u001b[0;34m\u001b[0m\u001b[0;34m\u001b[0m\u001b[0m\n\u001b[0;32m-> 1175\u001b[0;31m       \u001b[0mret\u001b[0m \u001b[0;34m=\u001b[0m \u001b[0mconversion_func\u001b[0m\u001b[0;34m(\u001b[0m\u001b[0mvalue\u001b[0m\u001b[0;34m,\u001b[0m \u001b[0mdtype\u001b[0m\u001b[0;34m=\u001b[0m\u001b[0mdtype\u001b[0m\u001b[0;34m,\u001b[0m \u001b[0mname\u001b[0m\u001b[0;34m=\u001b[0m\u001b[0mname\u001b[0m\u001b[0;34m,\u001b[0m \u001b[0mas_ref\u001b[0m\u001b[0;34m=\u001b[0m\u001b[0mas_ref\u001b[0m\u001b[0;34m)\u001b[0m\u001b[0;34m\u001b[0m\u001b[0;34m\u001b[0m\u001b[0m\n\u001b[0m\u001b[1;32m   1176\u001b[0m \u001b[0;34m\u001b[0m\u001b[0m\n\u001b[1;32m   1177\u001b[0m     \u001b[0;32mif\u001b[0m \u001b[0mret\u001b[0m \u001b[0;32mis\u001b[0m \u001b[0mNotImplemented\u001b[0m\u001b[0;34m:\u001b[0m\u001b[0;34m\u001b[0m\u001b[0;34m\u001b[0m\u001b[0m\n",
            "\u001b[0;32m/usr/local/lib/python3.6/dist-packages/tensorflow/python/framework/constant_op.py\u001b[0m in \u001b[0;36m_constant_tensor_conversion_function\u001b[0;34m(v, dtype, name, as_ref)\u001b[0m\n\u001b[1;32m    302\u001b[0m                                          as_ref=False):\n\u001b[1;32m    303\u001b[0m   \u001b[0m_\u001b[0m \u001b[0;34m=\u001b[0m \u001b[0mas_ref\u001b[0m\u001b[0;34m\u001b[0m\u001b[0;34m\u001b[0m\u001b[0m\n\u001b[0;32m--> 304\u001b[0;31m   \u001b[0;32mreturn\u001b[0m \u001b[0mconstant\u001b[0m\u001b[0;34m(\u001b[0m\u001b[0mv\u001b[0m\u001b[0;34m,\u001b[0m \u001b[0mdtype\u001b[0m\u001b[0;34m=\u001b[0m\u001b[0mdtype\u001b[0m\u001b[0;34m,\u001b[0m \u001b[0mname\u001b[0m\u001b[0;34m=\u001b[0m\u001b[0mname\u001b[0m\u001b[0;34m)\u001b[0m\u001b[0;34m\u001b[0m\u001b[0;34m\u001b[0m\u001b[0m\n\u001b[0m\u001b[1;32m    305\u001b[0m \u001b[0;34m\u001b[0m\u001b[0m\n\u001b[1;32m    306\u001b[0m \u001b[0;34m\u001b[0m\u001b[0m\n",
            "\u001b[0;32m/usr/local/lib/python3.6/dist-packages/tensorflow/python/framework/constant_op.py\u001b[0m in \u001b[0;36mconstant\u001b[0;34m(value, dtype, shape, name)\u001b[0m\n\u001b[1;32m    243\u001b[0m   \"\"\"\n\u001b[1;32m    244\u001b[0m   return _constant_impl(value, dtype, shape, name, verify_shape=False,\n\u001b[0;32m--> 245\u001b[0;31m                         allow_broadcast=True)\n\u001b[0m\u001b[1;32m    246\u001b[0m \u001b[0;34m\u001b[0m\u001b[0m\n\u001b[1;32m    247\u001b[0m \u001b[0;34m\u001b[0m\u001b[0m\n",
            "\u001b[0;32m/usr/local/lib/python3.6/dist-packages/tensorflow/python/framework/constant_op.py\u001b[0m in \u001b[0;36m_constant_impl\u001b[0;34m(value, dtype, shape, name, verify_shape, allow_broadcast)\u001b[0m\n\u001b[1;32m    251\u001b[0m   \u001b[0mctx\u001b[0m \u001b[0;34m=\u001b[0m \u001b[0mcontext\u001b[0m\u001b[0;34m.\u001b[0m\u001b[0mcontext\u001b[0m\u001b[0;34m(\u001b[0m\u001b[0;34m)\u001b[0m\u001b[0;34m\u001b[0m\u001b[0;34m\u001b[0m\u001b[0m\n\u001b[1;32m    252\u001b[0m   \u001b[0;32mif\u001b[0m \u001b[0mctx\u001b[0m\u001b[0;34m.\u001b[0m\u001b[0mexecuting_eagerly\u001b[0m\u001b[0;34m(\u001b[0m\u001b[0;34m)\u001b[0m\u001b[0;34m:\u001b[0m\u001b[0;34m\u001b[0m\u001b[0;34m\u001b[0m\u001b[0m\n\u001b[0;32m--> 253\u001b[0;31m     \u001b[0mt\u001b[0m \u001b[0;34m=\u001b[0m \u001b[0mconvert_to_eager_tensor\u001b[0m\u001b[0;34m(\u001b[0m\u001b[0mvalue\u001b[0m\u001b[0;34m,\u001b[0m \u001b[0mctx\u001b[0m\u001b[0;34m,\u001b[0m \u001b[0mdtype\u001b[0m\u001b[0;34m)\u001b[0m\u001b[0;34m\u001b[0m\u001b[0;34m\u001b[0m\u001b[0m\n\u001b[0m\u001b[1;32m    254\u001b[0m     \u001b[0;32mif\u001b[0m \u001b[0mshape\u001b[0m \u001b[0;32mis\u001b[0m \u001b[0;32mNone\u001b[0m\u001b[0;34m:\u001b[0m\u001b[0;34m\u001b[0m\u001b[0;34m\u001b[0m\u001b[0m\n\u001b[1;32m    255\u001b[0m       \u001b[0;32mreturn\u001b[0m \u001b[0mt\u001b[0m\u001b[0;34m\u001b[0m\u001b[0;34m\u001b[0m\u001b[0m\n",
            "\u001b[0;32m/usr/local/lib/python3.6/dist-packages/tensorflow/python/framework/constant_op.py\u001b[0m in \u001b[0;36mconvert_to_eager_tensor\u001b[0;34m(value, ctx, dtype)\u001b[0m\n\u001b[1;32m    112\u001b[0m     \u001b[0;32mreturn\u001b[0m \u001b[0mt\u001b[0m\u001b[0;34m\u001b[0m\u001b[0;34m\u001b[0m\u001b[0m\n\u001b[1;32m    113\u001b[0m   \u001b[0;32melse\u001b[0m\u001b[0;34m:\u001b[0m\u001b[0;34m\u001b[0m\u001b[0;34m\u001b[0m\u001b[0m\n\u001b[0;32m--> 114\u001b[0;31m     \u001b[0;32mreturn\u001b[0m \u001b[0mops\u001b[0m\u001b[0;34m.\u001b[0m\u001b[0mEagerTensor\u001b[0m\u001b[0;34m(\u001b[0m\u001b[0mvalue\u001b[0m\u001b[0;34m,\u001b[0m \u001b[0mhandle\u001b[0m\u001b[0;34m,\u001b[0m \u001b[0mdevice\u001b[0m\u001b[0;34m,\u001b[0m \u001b[0mdtype\u001b[0m\u001b[0;34m)\u001b[0m\u001b[0;34m\u001b[0m\u001b[0;34m\u001b[0m\u001b[0m\n\u001b[0m\u001b[1;32m    115\u001b[0m \u001b[0;34m\u001b[0m\u001b[0m\n\u001b[1;32m    116\u001b[0m \u001b[0;34m\u001b[0m\u001b[0m\n",
            "\u001b[0;31mValueError\u001b[0m: Can't convert non-rectangular Python sequence to Tensor."
          ]
        }
      ]
    },
    {
      "metadata": {
        "colab_type": "code",
        "id": "9smwOW-1OB7k",
        "colab": {}
      },
      "cell_type": "code",
      "source": [
        "#Ooops cant get it done, will try latter"
      ],
      "execution_count": 0,
      "outputs": []
    },
    {
      "metadata": {
        "colab_type": "code",
        "id": "9JuLI6bSOB7n",
        "colab": {}
      },
      "cell_type": "code",
      "source": [
        ""
      ],
      "execution_count": 0,
      "outputs": []
    },
    {
      "metadata": {
        "colab_type": "text",
        "id": "DOL2ncA1OB7q"
      },
      "cell_type": "markdown",
      "source": [
        "### Get the shapes and values of W and b\n",
        "\n",
        "Hint: Use sess.run(W) to get W."
      ]
    },
    {
      "metadata": {
        "colab_type": "code",
        "id": "ZGvtyTeuOB7r",
        "colab": {}
      },
      "cell_type": "code",
      "source": [
        ""
      ],
      "execution_count": 0,
      "outputs": []
    },
    {
      "metadata": {
        "colab_type": "code",
        "id": "vhDtOv5UOB7x",
        "colab": {}
      },
      "cell_type": "code",
      "source": [
        ""
      ],
      "execution_count": 0,
      "outputs": []
    },
    {
      "metadata": {
        "colab_type": "text",
        "id": "SZqKUEFsOB71"
      },
      "cell_type": "markdown",
      "source": [
        "### Find the Absolute mean square loss difference between training and testing loss."
      ]
    },
    {
      "metadata": {
        "colab_type": "code",
        "id": "97t-grQgOB71",
        "colab": {}
      },
      "cell_type": "code",
      "source": [
        ""
      ],
      "execution_count": 0,
      "outputs": []
    },
    {
      "metadata": {
        "colab_type": "code",
        "id": "KjOInjUROB75",
        "colab": {}
      },
      "cell_type": "code",
      "source": [
        ""
      ],
      "execution_count": 0,
      "outputs": []
    },
    {
      "metadata": {
        "colab_type": "code",
        "id": "CZUAjZ5oOB78",
        "colab": {}
      },
      "cell_type": "code",
      "source": [
        ""
      ],
      "execution_count": 0,
      "outputs": []
    },
    {
      "metadata": {
        "colab_type": "text",
        "id": "YJRBuqXhOB7_"
      },
      "cell_type": "markdown",
      "source": [
        "### Linear Classification using Keras"
      ]
    },
    {
      "metadata": {
        "colab_type": "text",
        "id": "8GoNTWXAOB8C",
        "slideshow": {
          "slide_type": "slide"
        }
      },
      "cell_type": "markdown",
      "source": [
        "### Building the simple Neural Network in Keras with one neuron in the dense hidden layer.\n",
        "#### Use Mean square error as loss function and sgd as optimizer"
      ]
    },
    {
      "metadata": {
        "colab_type": "code",
        "id": "zpeL5rCTOB8D",
        "colab": {}
      },
      "cell_type": "code",
      "source": [
        "#Initialize Sequential Graph (model)\n",
        "model = tf.keras.Sequential()\n",
        "\n",
        "#Add Dense layer for prediction - Keras declares weights and bias automatically\n",
        "model.add(tf.keras.layers.Dense(20, input_shape=(4,)))\n",
        "\n",
        "#Compile the model - add Loss and Gradient Descent optimizer\n",
        "model.compile(optimizer='sgd', loss='mse')"
      ],
      "execution_count": 0,
      "outputs": []
    },
    {
      "metadata": {
        "colab_type": "text",
        "id": "Wt-HYFMEOB8G",
        "slideshow": {
          "slide_type": "slide"
        }
      },
      "cell_type": "markdown",
      "source": [
        "### Execute the model"
      ]
    },
    {
      "metadata": {
        "colab_type": "code",
        "id": "66JGJt7GOB8H",
        "colab": {
          "base_uri": "https://localhost:8080/",
          "height": 3434
        },
        "outputId": "15408f4c-9fb4-4a8f-f8d1-8a88b81b593b"
      },
      "cell_type": "code",
      "source": [
        "model.fit(X_train, y_train, epochs=100)"
      ],
      "execution_count": 72,
      "outputs": [
        {
          "output_type": "stream",
          "text": [
            "Epoch 1/100\n",
            "700/700 [==============================] - 0s 201us/sample - loss: nan\n",
            "Epoch 2/100\n",
            "700/700 [==============================] - 0s 90us/sample - loss: nan\n",
            "Epoch 3/100\n",
            "700/700 [==============================] - 0s 89us/sample - loss: nan\n",
            "Epoch 4/100\n",
            "700/700 [==============================] - 0s 93us/sample - loss: nan\n",
            "Epoch 5/100\n",
            "700/700 [==============================] - 0s 95us/sample - loss: nan\n",
            "Epoch 6/100\n",
            "700/700 [==============================] - 0s 94us/sample - loss: nan\n",
            "Epoch 7/100\n",
            "700/700 [==============================] - 0s 94us/sample - loss: nan\n",
            "Epoch 8/100\n",
            "700/700 [==============================] - 0s 116us/sample - loss: nan\n",
            "Epoch 9/100\n",
            "700/700 [==============================] - 0s 96us/sample - loss: nan\n",
            "Epoch 10/100\n",
            "700/700 [==============================] - 0s 92us/sample - loss: nan\n",
            "Epoch 11/100\n",
            "700/700 [==============================] - 0s 94us/sample - loss: nan\n",
            "Epoch 12/100\n",
            "700/700 [==============================] - 0s 98us/sample - loss: nan\n",
            "Epoch 13/100\n",
            "700/700 [==============================] - 0s 95us/sample - loss: nan\n",
            "Epoch 14/100\n",
            "700/700 [==============================] - 0s 96us/sample - loss: nan\n",
            "Epoch 15/100\n",
            "700/700 [==============================] - 0s 90us/sample - loss: nan\n",
            "Epoch 16/100\n",
            "700/700 [==============================] - 0s 101us/sample - loss: nan\n",
            "Epoch 17/100\n",
            "700/700 [==============================] - 0s 99us/sample - loss: nan\n",
            "Epoch 18/100\n",
            "700/700 [==============================] - 0s 94us/sample - loss: nan\n",
            "Epoch 19/100\n",
            "700/700 [==============================] - 0s 94us/sample - loss: nan\n",
            "Epoch 20/100\n",
            "700/700 [==============================] - 0s 96us/sample - loss: nan\n",
            "Epoch 21/100\n",
            "700/700 [==============================] - 0s 93us/sample - loss: nan\n",
            "Epoch 22/100\n",
            "700/700 [==============================] - 0s 99us/sample - loss: nan\n",
            "Epoch 23/100\n",
            "700/700 [==============================] - 0s 121us/sample - loss: nan\n",
            "Epoch 24/100\n",
            "700/700 [==============================] - 0s 93us/sample - loss: nan\n",
            "Epoch 25/100\n",
            "700/700 [==============================] - 0s 93us/sample - loss: nan\n",
            "Epoch 26/100\n",
            "700/700 [==============================] - 0s 95us/sample - loss: nan\n",
            "Epoch 27/100\n",
            "700/700 [==============================] - 0s 96us/sample - loss: nan\n",
            "Epoch 28/100\n",
            "700/700 [==============================] - 0s 91us/sample - loss: nan\n",
            "Epoch 29/100\n",
            "700/700 [==============================] - 0s 94us/sample - loss: nan\n",
            "Epoch 30/100\n",
            "700/700 [==============================] - 0s 90us/sample - loss: nan\n",
            "Epoch 31/100\n",
            "700/700 [==============================] - 0s 100us/sample - loss: nan\n",
            "Epoch 32/100\n",
            "700/700 [==============================] - 0s 99us/sample - loss: nan\n",
            "Epoch 33/100\n",
            "700/700 [==============================] - 0s 99us/sample - loss: nan\n",
            "Epoch 34/100\n",
            "700/700 [==============================] - 0s 104us/sample - loss: nan\n",
            "Epoch 35/100\n",
            "700/700 [==============================] - 0s 93us/sample - loss: nan\n",
            "Epoch 36/100\n",
            "700/700 [==============================] - 0s 97us/sample - loss: nan\n",
            "Epoch 37/100\n",
            "700/700 [==============================] - 0s 96us/sample - loss: nan\n",
            "Epoch 38/100\n",
            "700/700 [==============================] - 0s 127us/sample - loss: nan\n",
            "Epoch 39/100\n",
            "700/700 [==============================] - 0s 101us/sample - loss: nan\n",
            "Epoch 40/100\n",
            "700/700 [==============================] - 0s 95us/sample - loss: nan\n",
            "Epoch 41/100\n",
            "700/700 [==============================] - 0s 93us/sample - loss: nan\n",
            "Epoch 42/100\n",
            "700/700 [==============================] - 0s 91us/sample - loss: nan\n",
            "Epoch 43/100\n",
            "700/700 [==============================] - 0s 92us/sample - loss: nan\n",
            "Epoch 44/100\n",
            "700/700 [==============================] - 0s 95us/sample - loss: nan\n",
            "Epoch 45/100\n",
            "700/700 [==============================] - 0s 99us/sample - loss: nan\n",
            "Epoch 46/100\n",
            "700/700 [==============================] - 0s 94us/sample - loss: nan\n",
            "Epoch 47/100\n",
            "700/700 [==============================] - 0s 93us/sample - loss: nan\n",
            "Epoch 48/100\n",
            "700/700 [==============================] - 0s 92us/sample - loss: nan\n",
            "Epoch 49/100\n",
            "700/700 [==============================] - 0s 94us/sample - loss: nan\n",
            "Epoch 50/100\n",
            "700/700 [==============================] - 0s 95us/sample - loss: nan\n",
            "Epoch 51/100\n",
            "700/700 [==============================] - 0s 92us/sample - loss: nan\n",
            "Epoch 52/100\n",
            "700/700 [==============================] - 0s 106us/sample - loss: nan\n",
            "Epoch 53/100\n",
            "700/700 [==============================] - 0s 123us/sample - loss: nan\n",
            "Epoch 54/100\n",
            "700/700 [==============================] - 0s 96us/sample - loss: nan\n",
            "Epoch 55/100\n",
            "700/700 [==============================] - 0s 93us/sample - loss: nan\n",
            "Epoch 56/100\n",
            "700/700 [==============================] - 0s 96us/sample - loss: nan\n",
            "Epoch 57/100\n",
            "700/700 [==============================] - 0s 91us/sample - loss: nan\n",
            "Epoch 58/100\n",
            "700/700 [==============================] - 0s 97us/sample - loss: nan\n",
            "Epoch 59/100\n",
            "700/700 [==============================] - 0s 93us/sample - loss: nan\n",
            "Epoch 60/100\n",
            "700/700 [==============================] - 0s 94us/sample - loss: nan\n",
            "Epoch 61/100\n",
            "700/700 [==============================] - 0s 97us/sample - loss: nan\n",
            "Epoch 62/100\n",
            "700/700 [==============================] - 0s 93us/sample - loss: nan\n",
            "Epoch 63/100\n",
            "700/700 [==============================] - 0s 91us/sample - loss: nan\n",
            "Epoch 64/100\n",
            "700/700 [==============================] - 0s 95us/sample - loss: nan\n",
            "Epoch 65/100\n",
            "700/700 [==============================] - 0s 90us/sample - loss: nan\n",
            "Epoch 66/100\n",
            "700/700 [==============================] - 0s 97us/sample - loss: nan\n",
            "Epoch 67/100\n",
            "700/700 [==============================] - 0s 97us/sample - loss: nan\n",
            "Epoch 68/100\n",
            "700/700 [==============================] - 0s 124us/sample - loss: nan\n",
            "Epoch 69/100\n",
            "700/700 [==============================] - 0s 98us/sample - loss: nan\n",
            "Epoch 70/100\n",
            "700/700 [==============================] - 0s 95us/sample - loss: nan\n",
            "Epoch 71/100\n",
            "700/700 [==============================] - 0s 94us/sample - loss: nan\n",
            "Epoch 72/100\n",
            "700/700 [==============================] - 0s 96us/sample - loss: nan\n",
            "Epoch 73/100\n",
            "700/700 [==============================] - 0s 97us/sample - loss: nan\n",
            "Epoch 74/100\n",
            "700/700 [==============================] - 0s 101us/sample - loss: nan\n",
            "Epoch 75/100\n",
            "700/700 [==============================] - 0s 94us/sample - loss: nan\n",
            "Epoch 76/100\n",
            "700/700 [==============================] - 0s 95us/sample - loss: nan\n",
            "Epoch 77/100\n",
            "700/700 [==============================] - 0s 99us/sample - loss: nan\n",
            "Epoch 78/100\n",
            "700/700 [==============================] - 0s 93us/sample - loss: nan\n",
            "Epoch 79/100\n",
            "700/700 [==============================] - 0s 101us/sample - loss: nan\n",
            "Epoch 80/100\n",
            "700/700 [==============================] - 0s 98us/sample - loss: nan\n",
            "Epoch 81/100\n",
            "700/700 [==============================] - 0s 96us/sample - loss: nan\n",
            "Epoch 82/100\n",
            "700/700 [==============================] - 0s 103us/sample - loss: nan\n",
            "Epoch 83/100\n",
            "700/700 [==============================] - 0s 118us/sample - loss: nan\n",
            "Epoch 84/100\n",
            "700/700 [==============================] - 0s 99us/sample - loss: nan\n",
            "Epoch 85/100\n",
            "700/700 [==============================] - 0s 95us/sample - loss: nan\n",
            "Epoch 86/100\n",
            "700/700 [==============================] - 0s 94us/sample - loss: nan\n",
            "Epoch 87/100\n",
            "700/700 [==============================] - 0s 95us/sample - loss: nan\n",
            "Epoch 88/100\n",
            "700/700 [==============================] - 0s 110us/sample - loss: nan\n",
            "Epoch 89/100\n",
            "700/700 [==============================] - 0s 101us/sample - loss: nan\n",
            "Epoch 90/100\n",
            "700/700 [==============================] - 0s 93us/sample - loss: nan\n",
            "Epoch 91/100\n",
            "700/700 [==============================] - 0s 94us/sample - loss: nan\n",
            "Epoch 92/100\n",
            "700/700 [==============================] - 0s 92us/sample - loss: nan\n",
            "Epoch 93/100\n",
            "700/700 [==============================] - 0s 97us/sample - loss: nan\n",
            "Epoch 94/100\n",
            "700/700 [==============================] - 0s 94us/sample - loss: nan\n",
            "Epoch 95/100\n",
            "700/700 [==============================] - 0s 96us/sample - loss: nan\n",
            "Epoch 96/100\n",
            "700/700 [==============================] - 0s 93us/sample - loss: nan\n",
            "Epoch 97/100\n",
            "700/700 [==============================] - 0s 123us/sample - loss: nan\n",
            "Epoch 98/100\n",
            "700/700 [==============================] - 0s 97us/sample - loss: nan\n",
            "Epoch 99/100\n",
            "700/700 [==============================] - 0s 91us/sample - loss: nan\n",
            "Epoch 100/100\n",
            "700/700 [==============================] - 0s 99us/sample - loss: nan\n"
          ],
          "name": "stdout"
        },
        {
          "output_type": "execute_result",
          "data": {
            "text/plain": [
              "<tensorflow.python.keras.callbacks.History at 0x7f0a0cb67be0>"
            ]
          },
          "metadata": {
            "tags": []
          },
          "execution_count": 72
        }
      ]
    },
    {
      "metadata": {
        "id": "PPc_BHWy0zZs",
        "colab_type": "text"
      },
      "cell_type": "markdown",
      "source": [
        "### Classification using Keras "
      ]
    },
    {
      "metadata": {
        "id": "6gqwYIsC0zZt",
        "colab_type": "code",
        "colab": {}
      },
      "cell_type": "code",
      "source": [
        ""
      ],
      "execution_count": 0,
      "outputs": []
    },
    {
      "metadata": {
        "id": "eZClDSrv0zZy",
        "colab_type": "text"
      },
      "cell_type": "markdown",
      "source": [
        "### Load the given Iris data using pandas (Iris.csv)"
      ]
    },
    {
      "metadata": {
        "id": "-HaungzT0zZ0",
        "colab_type": "code",
        "colab": {}
      },
      "cell_type": "code",
      "source": [
        "iris = pd.read_csv('/content/gdrive/My Drive/Colab Notebooks/11_Iris.csv')"
      ],
      "execution_count": 0,
      "outputs": []
    },
    {
      "metadata": {
        "id": "FrUVJyI70zZ3",
        "colab_type": "text"
      },
      "cell_type": "markdown",
      "source": [
        "### Splitting the data into feature set and target set"
      ]
    },
    {
      "metadata": {
        "id": "NljsWlU60zZ4",
        "colab_type": "code",
        "colab": {
          "base_uri": "https://localhost:8080/",
          "height": 204
        },
        "outputId": "70324b78-abfe-4da4-847b-95baa3b4e3ac"
      },
      "cell_type": "code",
      "source": [
        "iris.head()"
      ],
      "execution_count": 125,
      "outputs": [
        {
          "output_type": "execute_result",
          "data": {
            "text/html": [
              "<div>\n",
              "<style scoped>\n",
              "    .dataframe tbody tr th:only-of-type {\n",
              "        vertical-align: middle;\n",
              "    }\n",
              "\n",
              "    .dataframe tbody tr th {\n",
              "        vertical-align: top;\n",
              "    }\n",
              "\n",
              "    .dataframe thead th {\n",
              "        text-align: right;\n",
              "    }\n",
              "</style>\n",
              "<table border=\"1\" class=\"dataframe\">\n",
              "  <thead>\n",
              "    <tr style=\"text-align: right;\">\n",
              "      <th></th>\n",
              "      <th>Id</th>\n",
              "      <th>SepalLengthCm</th>\n",
              "      <th>SepalWidthCm</th>\n",
              "      <th>PetalLengthCm</th>\n",
              "      <th>PetalWidthCm</th>\n",
              "      <th>Species</th>\n",
              "    </tr>\n",
              "  </thead>\n",
              "  <tbody>\n",
              "    <tr>\n",
              "      <th>0</th>\n",
              "      <td>1</td>\n",
              "      <td>5.1</td>\n",
              "      <td>3.5</td>\n",
              "      <td>1.4</td>\n",
              "      <td>0.2</td>\n",
              "      <td>0</td>\n",
              "    </tr>\n",
              "    <tr>\n",
              "      <th>1</th>\n",
              "      <td>2</td>\n",
              "      <td>4.9</td>\n",
              "      <td>3.0</td>\n",
              "      <td>1.4</td>\n",
              "      <td>0.2</td>\n",
              "      <td>0</td>\n",
              "    </tr>\n",
              "    <tr>\n",
              "      <th>2</th>\n",
              "      <td>3</td>\n",
              "      <td>4.7</td>\n",
              "      <td>3.2</td>\n",
              "      <td>1.3</td>\n",
              "      <td>0.2</td>\n",
              "      <td>0</td>\n",
              "    </tr>\n",
              "    <tr>\n",
              "      <th>3</th>\n",
              "      <td>4</td>\n",
              "      <td>4.6</td>\n",
              "      <td>3.1</td>\n",
              "      <td>1.5</td>\n",
              "      <td>0.2</td>\n",
              "      <td>0</td>\n",
              "    </tr>\n",
              "    <tr>\n",
              "      <th>4</th>\n",
              "      <td>5</td>\n",
              "      <td>5.0</td>\n",
              "      <td>3.6</td>\n",
              "      <td>1.4</td>\n",
              "      <td>0.2</td>\n",
              "      <td>0</td>\n",
              "    </tr>\n",
              "  </tbody>\n",
              "</table>\n",
              "</div>"
            ],
            "text/plain": [
              "   Id  SepalLengthCm  SepalWidthCm  PetalLengthCm  PetalWidthCm  Species\n",
              "0   1            5.1           3.5            1.4           0.2        0\n",
              "1   2            4.9           3.0            1.4           0.2        0\n",
              "2   3            4.7           3.2            1.3           0.2        0\n",
              "3   4            4.6           3.1            1.5           0.2        0\n",
              "4   5            5.0           3.6            1.4           0.2        0"
            ]
          },
          "metadata": {
            "tags": []
          },
          "execution_count": 125
        }
      ]
    },
    {
      "metadata": {
        "id": "bYgIyYqHcZWK",
        "colab_type": "code",
        "colab": {}
      },
      "cell_type": "code",
      "source": [
        ""
      ],
      "execution_count": 0,
      "outputs": []
    },
    {
      "metadata": {
        "id": "OmFOac_S0zZ7",
        "colab_type": "text"
      },
      "cell_type": "markdown",
      "source": [
        "### Target set has different categories. So, Label encode them. And convert into one-hot vectors using get_dummies in pandas."
      ]
    },
    {
      "metadata": {
        "id": "RhXN4UZT0zZ8",
        "colab_type": "code",
        "colab": {}
      },
      "cell_type": "code",
      "source": [
        "from sklearn.feature_extraction.text import CountVectorizer  #DT does not take strings as input for the model fit step...."
      ],
      "execution_count": 0,
      "outputs": []
    },
    {
      "metadata": {
        "id": "yUosoYEpeFq-",
        "colab_type": "code",
        "colab": {}
      },
      "cell_type": "code",
      "source": [
        "for feature in iris.columns: # Loop through all columns in the dataframe\n",
        "    if iris[feature].dtype == 'object': # Only apply for columns with categorical strings\n",
        "        iris[feature] = pd.Categorical(iris[feature]).codes # Replace strings with an integer"
      ],
      "execution_count": 0,
      "outputs": []
    },
    {
      "metadata": {
        "id": "kEHl31ubedlP",
        "colab_type": "code",
        "colab": {}
      },
      "cell_type": "code",
      "source": [
        "X_iris = iris.drop(columns=['Id', 'Species'])\n",
        "y_iris = iris['Species']"
      ],
      "execution_count": 0,
      "outputs": []
    },
    {
      "metadata": {
        "id": "66-0pYexefBi",
        "colab_type": "code",
        "colab": {
          "base_uri": "https://localhost:8080/",
          "height": 119
        },
        "outputId": "cca67b95-d1cf-446c-c36e-a34b21a3ee9e"
      },
      "cell_type": "code",
      "source": [
        "y_iris.head()"
      ],
      "execution_count": 129,
      "outputs": [
        {
          "output_type": "execute_result",
          "data": {
            "text/plain": [
              "0    0\n",
              "1    0\n",
              "2    0\n",
              "3    0\n",
              "4    0\n",
              "Name: Species, dtype: int8"
            ]
          },
          "metadata": {
            "tags": []
          },
          "execution_count": 129
        }
      ]
    },
    {
      "metadata": {
        "id": "_56Eb1x70zaC",
        "colab_type": "text"
      },
      "cell_type": "markdown",
      "source": [
        "### Divide the dataset into Training and test (70:30)"
      ]
    },
    {
      "metadata": {
        "id": "V6m596ex0zaD",
        "colab_type": "code",
        "colab": {}
      },
      "cell_type": "code",
      "source": [
        "test_size = 0.30 # taking 70:30 training and test set\n",
        "seed = 7  # Random numbmer seeding for reapeatability of the code\n",
        "X_train, X_test, y_train, y_test = train_test_split(X_iris, y_iris, test_size=test_size, random_state=seed)"
      ],
      "execution_count": 0,
      "outputs": []
    },
    {
      "metadata": {
        "id": "2BD8F-Wye0lV",
        "colab_type": "code",
        "colab": {
          "base_uri": "https://localhost:8080/",
          "height": 34
        },
        "outputId": "cd8dcb6d-ca61-44e4-fcf7-8849404757bc"
      },
      "cell_type": "code",
      "source": [
        "X_train.shape"
      ],
      "execution_count": 139,
      "outputs": [
        {
          "output_type": "execute_result",
          "data": {
            "text/plain": [
              "(105, 4)"
            ]
          },
          "metadata": {
            "tags": []
          },
          "execution_count": 139
        }
      ]
    },
    {
      "metadata": {
        "id": "lnd0QGRKfuzZ",
        "colab_type": "code",
        "colab": {
          "base_uri": "https://localhost:8080/",
          "height": 173
        },
        "outputId": "f4483dc5-3bc9-4632-c705-541472d68b4a"
      },
      "cell_type": "code",
      "source": [
        "iris.groupby('Species').count()"
      ],
      "execution_count": 140,
      "outputs": [
        {
          "output_type": "execute_result",
          "data": {
            "text/html": [
              "<div>\n",
              "<style scoped>\n",
              "    .dataframe tbody tr th:only-of-type {\n",
              "        vertical-align: middle;\n",
              "    }\n",
              "\n",
              "    .dataframe tbody tr th {\n",
              "        vertical-align: top;\n",
              "    }\n",
              "\n",
              "    .dataframe thead th {\n",
              "        text-align: right;\n",
              "    }\n",
              "</style>\n",
              "<table border=\"1\" class=\"dataframe\">\n",
              "  <thead>\n",
              "    <tr style=\"text-align: right;\">\n",
              "      <th></th>\n",
              "      <th>Id</th>\n",
              "      <th>SepalLengthCm</th>\n",
              "      <th>SepalWidthCm</th>\n",
              "      <th>PetalLengthCm</th>\n",
              "      <th>PetalWidthCm</th>\n",
              "    </tr>\n",
              "    <tr>\n",
              "      <th>Species</th>\n",
              "      <th></th>\n",
              "      <th></th>\n",
              "      <th></th>\n",
              "      <th></th>\n",
              "      <th></th>\n",
              "    </tr>\n",
              "  </thead>\n",
              "  <tbody>\n",
              "    <tr>\n",
              "      <th>0</th>\n",
              "      <td>50</td>\n",
              "      <td>50</td>\n",
              "      <td>50</td>\n",
              "      <td>50</td>\n",
              "      <td>50</td>\n",
              "    </tr>\n",
              "    <tr>\n",
              "      <th>1</th>\n",
              "      <td>50</td>\n",
              "      <td>50</td>\n",
              "      <td>50</td>\n",
              "      <td>50</td>\n",
              "      <td>50</td>\n",
              "    </tr>\n",
              "    <tr>\n",
              "      <th>2</th>\n",
              "      <td>50</td>\n",
              "      <td>50</td>\n",
              "      <td>50</td>\n",
              "      <td>50</td>\n",
              "      <td>50</td>\n",
              "    </tr>\n",
              "  </tbody>\n",
              "</table>\n",
              "</div>"
            ],
            "text/plain": [
              "         Id  SepalLengthCm  SepalWidthCm  PetalLengthCm  PetalWidthCm\n",
              "Species                                                              \n",
              "0        50             50            50             50            50\n",
              "1        50             50            50             50            50\n",
              "2        50             50            50             50            50"
            ]
          },
          "metadata": {
            "tags": []
          },
          "execution_count": 140
        }
      ]
    },
    {
      "metadata": {
        "id": "wVpYiCinmEDm",
        "colab_type": "code",
        "colab": {}
      },
      "cell_type": "code",
      "source": [
        "from sklearn.preprocessing import Normalizer"
      ],
      "execution_count": 0,
      "outputs": []
    },
    {
      "metadata": {
        "id": "eD66qu1Yl2MI",
        "colab_type": "code",
        "colab": {}
      },
      "cell_type": "code",
      "source": [
        "transformer = Normalizer()\n",
        "\n",
        "#X_train = transformer.fit_transform(X_train)"
      ],
      "execution_count": 0,
      "outputs": []
    },
    {
      "metadata": {
        "id": "0DlrLfDC0zaI",
        "colab_type": "text"
      },
      "cell_type": "markdown",
      "source": [
        "### Model\n",
        "Build the model with following layers: <br>\n",
        "1. First dense layer with 10 neurons with input shape 4 (according to the feature set) <br>\n",
        "2. Second Dense layer with 8 neurons <br>\n",
        "3. Output layer with 3 neurons with softmax activation (output layer, 3 neurons as we have 3 classes) <br>\n",
        "4. Use SGD and categorical_crossentropy loss "
      ]
    },
    {
      "metadata": {
        "id": "SAnrtoHe0zaM",
        "colab_type": "code",
        "colab": {}
      },
      "cell_type": "code",
      "source": [
        "#Initialize Sequential Graph (model)\n",
        "model = tf.keras.Sequential()\n",
        "\n",
        "#Add Dense layer for prediction - Keras declares weights and bias automatically\n",
        "model.add(tf.keras.layers.Dense(10, input_shape=(4,)))\n",
        "\n",
        "#Add 2nd hidden layer\n",
        "model.add(tf.keras.layers.Dense(8, activation='sigmoid'))\n",
        "\n",
        "#Add OUTPUT layer\n",
        "model.add(tf.keras.layers.Dense(3, activation='softmax'))\n",
        "\n",
        "#Compile the model - add Loss and Gradient Descent optimizer\n",
        "model.compile(optimizer='sgd', loss='mse')\n",
        "\n",
        "#Create optimizer with non-default learning rate\n",
        "sgd_optimizer = tf.keras.optimizers.SGD(lr=0.03)\n",
        "\n",
        "#Compile the model\n",
        "model.compile(optimizer=sgd_optimizer, loss='sparse_categorical_crossentropy', metrics=['accuracy'])"
      ],
      "execution_count": 0,
      "outputs": []
    },
    {
      "metadata": {
        "id": "Ghd3GFCK0zaR",
        "colab_type": "text"
      },
      "cell_type": "markdown",
      "source": [
        "### Fitting the model and predicting "
      ]
    },
    {
      "metadata": {
        "id": "IIk4uKu70zaV",
        "colab_type": "code",
        "colab": {
          "base_uri": "https://localhost:8080/",
          "height": 3451
        },
        "outputId": "0f63eb7a-665e-4d01-9815-61e2e8c2f891"
      },
      "cell_type": "code",
      "source": [
        "model.fit(X_train,y_train,          \n",
        "          validation_data=(X_test,y_test),\n",
        "          epochs=100,\n",
        "          batch_size=32)"
      ],
      "execution_count": 144,
      "outputs": [
        {
          "output_type": "stream",
          "text": [
            "Train on 105 samples, validate on 45 samples\n",
            "Epoch 1/100\n",
            "105/105 [==============================] - 0s 2ms/sample - loss: 1.1168 - acc: 0.3619 - val_loss: 1.1259 - val_acc: 0.2667\n",
            "Epoch 2/100\n",
            "105/105 [==============================] - 0s 225us/sample - loss: 1.1089 - acc: 0.3619 - val_loss: 1.1182 - val_acc: 0.2667\n",
            "Epoch 3/100\n",
            "105/105 [==============================] - 0s 228us/sample - loss: 1.1051 - acc: 0.3619 - val_loss: 1.1182 - val_acc: 0.2667\n",
            "Epoch 4/100\n",
            "105/105 [==============================] - 0s 225us/sample - loss: 1.1024 - acc: 0.3619 - val_loss: 1.1171 - val_acc: 0.2667\n",
            "Epoch 5/100\n",
            "105/105 [==============================] - 0s 218us/sample - loss: 1.1009 - acc: 0.3619 - val_loss: 1.1141 - val_acc: 0.2667\n",
            "Epoch 6/100\n",
            "105/105 [==============================] - 0s 198us/sample - loss: 1.0990 - acc: 0.3619 - val_loss: 1.1115 - val_acc: 0.2667\n",
            "Epoch 7/100\n",
            "105/105 [==============================] - 0s 212us/sample - loss: 1.0972 - acc: 0.3619 - val_loss: 1.1112 - val_acc: 0.2667\n",
            "Epoch 8/100\n",
            "105/105 [==============================] - 0s 202us/sample - loss: 1.0969 - acc: 0.3619 - val_loss: 1.1069 - val_acc: 0.2667\n",
            "Epoch 9/100\n",
            "105/105 [==============================] - 0s 216us/sample - loss: 1.0952 - acc: 0.3619 - val_loss: 1.1068 - val_acc: 0.2667\n",
            "Epoch 10/100\n",
            "105/105 [==============================] - 0s 218us/sample - loss: 1.0936 - acc: 0.3619 - val_loss: 1.1029 - val_acc: 0.2667\n",
            "Epoch 11/100\n",
            "105/105 [==============================] - 0s 211us/sample - loss: 1.0928 - acc: 0.3619 - val_loss: 1.0998 - val_acc: 0.2667\n",
            "Epoch 12/100\n",
            "105/105 [==============================] - 0s 239us/sample - loss: 1.0932 - acc: 0.3619 - val_loss: 1.0987 - val_acc: 0.2667\n",
            "Epoch 13/100\n",
            "105/105 [==============================] - 0s 218us/sample - loss: 1.0914 - acc: 0.3619 - val_loss: 1.1022 - val_acc: 0.2667\n",
            "Epoch 14/100\n",
            "105/105 [==============================] - 0s 229us/sample - loss: 1.0895 - acc: 0.3619 - val_loss: 1.0994 - val_acc: 0.2667\n",
            "Epoch 15/100\n",
            "105/105 [==============================] - 0s 243us/sample - loss: 1.0878 - acc: 0.3619 - val_loss: 1.0951 - val_acc: 0.2667\n",
            "Epoch 16/100\n",
            "105/105 [==============================] - 0s 229us/sample - loss: 1.0846 - acc: 0.3619 - val_loss: 1.0944 - val_acc: 0.2667\n",
            "Epoch 17/100\n",
            "105/105 [==============================] - 0s 212us/sample - loss: 1.0842 - acc: 0.3619 - val_loss: 1.0898 - val_acc: 0.2667\n",
            "Epoch 18/100\n",
            "105/105 [==============================] - 0s 236us/sample - loss: 1.0799 - acc: 0.3619 - val_loss: 1.0842 - val_acc: 0.3556\n",
            "Epoch 19/100\n",
            "105/105 [==============================] - 0s 218us/sample - loss: 1.0756 - acc: 0.4286 - val_loss: 1.0811 - val_acc: 0.3556\n",
            "Epoch 20/100\n",
            "105/105 [==============================] - 0s 234us/sample - loss: 1.0730 - acc: 0.4571 - val_loss: 1.0758 - val_acc: 0.5778\n",
            "Epoch 21/100\n",
            "105/105 [==============================] - 0s 255us/sample - loss: 1.0689 - acc: 0.6000 - val_loss: 1.0775 - val_acc: 0.2667\n",
            "Epoch 22/100\n",
            "105/105 [==============================] - 0s 221us/sample - loss: 1.0641 - acc: 0.3810 - val_loss: 1.0706 - val_acc: 0.3333\n",
            "Epoch 23/100\n",
            "105/105 [==============================] - 0s 243us/sample - loss: 1.0605 - acc: 0.4667 - val_loss: 1.0673 - val_acc: 0.3333\n",
            "Epoch 24/100\n",
            "105/105 [==============================] - 0s 219us/sample - loss: 1.0556 - acc: 0.4667 - val_loss: 1.0652 - val_acc: 0.3556\n",
            "Epoch 25/100\n",
            "105/105 [==============================] - 0s 307us/sample - loss: 1.0512 - acc: 0.4381 - val_loss: 1.0604 - val_acc: 0.3556\n",
            "Epoch 26/100\n",
            "105/105 [==============================] - 0s 240us/sample - loss: 1.0474 - acc: 0.4000 - val_loss: 1.0559 - val_acc: 0.4444\n",
            "Epoch 27/100\n",
            "105/105 [==============================] - 0s 224us/sample - loss: 1.0426 - acc: 0.5524 - val_loss: 1.0514 - val_acc: 0.4444\n",
            "Epoch 28/100\n",
            "105/105 [==============================] - 0s 217us/sample - loss: 1.0388 - acc: 0.5619 - val_loss: 1.0511 - val_acc: 0.3333\n",
            "Epoch 29/100\n",
            "105/105 [==============================] - 0s 224us/sample - loss: 1.0336 - acc: 0.4381 - val_loss: 1.0451 - val_acc: 0.3778\n",
            "Epoch 30/100\n",
            "105/105 [==============================] - 0s 207us/sample - loss: 1.0269 - acc: 0.4952 - val_loss: 1.0427 - val_acc: 0.3333\n",
            "Epoch 31/100\n",
            "105/105 [==============================] - 0s 258us/sample - loss: 1.0212 - acc: 0.4476 - val_loss: 1.0387 - val_acc: 0.3333\n",
            "Epoch 32/100\n",
            "105/105 [==============================] - 0s 246us/sample - loss: 1.0164 - acc: 0.4476 - val_loss: 1.0320 - val_acc: 0.4000\n",
            "Epoch 33/100\n",
            "105/105 [==============================] - 0s 266us/sample - loss: 1.0112 - acc: 0.5048 - val_loss: 1.0306 - val_acc: 0.3333\n",
            "Epoch 34/100\n",
            "105/105 [==============================] - 0s 230us/sample - loss: 1.0062 - acc: 0.4095 - val_loss: 1.0263 - val_acc: 0.3333\n",
            "Epoch 35/100\n",
            "105/105 [==============================] - 0s 248us/sample - loss: 0.9979 - acc: 0.4095 - val_loss: 1.0240 - val_acc: 0.3111\n",
            "Epoch 36/100\n",
            "105/105 [==============================] - 0s 217us/sample - loss: 0.9911 - acc: 0.4190 - val_loss: 1.0162 - val_acc: 0.3333\n",
            "Epoch 37/100\n",
            "105/105 [==============================] - 0s 218us/sample - loss: 0.9855 - acc: 0.4095 - val_loss: 1.0089 - val_acc: 0.3556\n",
            "Epoch 38/100\n",
            "105/105 [==============================] - 0s 221us/sample - loss: 0.9780 - acc: 0.4381 - val_loss: 1.0006 - val_acc: 0.4667\n",
            "Epoch 39/100\n",
            "105/105 [==============================] - 0s 223us/sample - loss: 0.9717 - acc: 0.5333 - val_loss: 0.9946 - val_acc: 0.4889\n",
            "Epoch 40/100\n",
            "105/105 [==============================] - 0s 228us/sample - loss: 0.9649 - acc: 0.5143 - val_loss: 0.9896 - val_acc: 0.5333\n",
            "Epoch 41/100\n",
            "105/105 [==============================] - 0s 239us/sample - loss: 0.9583 - acc: 0.5524 - val_loss: 0.9787 - val_acc: 0.6444\n",
            "Epoch 42/100\n",
            "105/105 [==============================] - 0s 241us/sample - loss: 0.9512 - acc: 0.6476 - val_loss: 0.9731 - val_acc: 0.6222\n",
            "Epoch 43/100\n",
            "105/105 [==============================] - 0s 202us/sample - loss: 0.9450 - acc: 0.6571 - val_loss: 0.9690 - val_acc: 0.6000\n",
            "Epoch 44/100\n",
            "105/105 [==============================] - 0s 261us/sample - loss: 0.9370 - acc: 0.6190 - val_loss: 0.9633 - val_acc: 0.6222\n",
            "Epoch 45/100\n",
            "105/105 [==============================] - 0s 256us/sample - loss: 0.9279 - acc: 0.6286 - val_loss: 0.9578 - val_acc: 0.6222\n",
            "Epoch 46/100\n",
            "105/105 [==============================] - 0s 212us/sample - loss: 0.9200 - acc: 0.6095 - val_loss: 0.9503 - val_acc: 0.6000\n",
            "Epoch 47/100\n",
            "105/105 [==============================] - 0s 267us/sample - loss: 0.9121 - acc: 0.6476 - val_loss: 0.9450 - val_acc: 0.6000\n",
            "Epoch 48/100\n",
            "105/105 [==============================] - 0s 203us/sample - loss: 0.9051 - acc: 0.6476 - val_loss: 0.9343 - val_acc: 0.6222\n",
            "Epoch 49/100\n",
            "105/105 [==============================] - 0s 245us/sample - loss: 0.8971 - acc: 0.6571 - val_loss: 0.9266 - val_acc: 0.6222\n",
            "Epoch 50/100\n",
            "105/105 [==============================] - 0s 212us/sample - loss: 0.8899 - acc: 0.6667 - val_loss: 0.9188 - val_acc: 0.6222\n",
            "Epoch 51/100\n",
            "105/105 [==============================] - 0s 229us/sample - loss: 0.8822 - acc: 0.6667 - val_loss: 0.9142 - val_acc: 0.6222\n",
            "Epoch 52/100\n",
            "105/105 [==============================] - 0s 256us/sample - loss: 0.8744 - acc: 0.6571 - val_loss: 0.9099 - val_acc: 0.6000\n",
            "Epoch 53/100\n",
            "105/105 [==============================] - 0s 236us/sample - loss: 0.8660 - acc: 0.6476 - val_loss: 0.8999 - val_acc: 0.5333\n",
            "Epoch 54/100\n",
            "105/105 [==============================] - 0s 225us/sample - loss: 0.8591 - acc: 0.6095 - val_loss: 0.8922 - val_acc: 0.6000\n",
            "Epoch 55/100\n",
            "105/105 [==============================] - 0s 210us/sample - loss: 0.8506 - acc: 0.6286 - val_loss: 0.8870 - val_acc: 0.6000\n",
            "Epoch 56/100\n",
            "105/105 [==============================] - 0s 245us/sample - loss: 0.8441 - acc: 0.6381 - val_loss: 0.8790 - val_acc: 0.6222\n",
            "Epoch 57/100\n",
            "105/105 [==============================] - 0s 230us/sample - loss: 0.8359 - acc: 0.6762 - val_loss: 0.8751 - val_acc: 0.6222\n",
            "Epoch 58/100\n",
            "105/105 [==============================] - 0s 216us/sample - loss: 0.8301 - acc: 0.6190 - val_loss: 0.8676 - val_acc: 0.6222\n",
            "Epoch 59/100\n",
            "105/105 [==============================] - 0s 219us/sample - loss: 0.8211 - acc: 0.6667 - val_loss: 0.8601 - val_acc: 0.6222\n",
            "Epoch 60/100\n",
            "105/105 [==============================] - 0s 222us/sample - loss: 0.8138 - acc: 0.6762 - val_loss: 0.8529 - val_acc: 0.6000\n",
            "Epoch 61/100\n",
            "105/105 [==============================] - 0s 374us/sample - loss: 0.8074 - acc: 0.6571 - val_loss: 0.8450 - val_acc: 0.6222\n",
            "Epoch 62/100\n",
            "105/105 [==============================] - 0s 237us/sample - loss: 0.8003 - acc: 0.6190 - val_loss: 0.8412 - val_acc: 0.6222\n",
            "Epoch 63/100\n",
            "105/105 [==============================] - 0s 231us/sample - loss: 0.7947 - acc: 0.6762 - val_loss: 0.8335 - val_acc: 0.5778\n",
            "Epoch 64/100\n",
            "105/105 [==============================] - 0s 267us/sample - loss: 0.7869 - acc: 0.6476 - val_loss: 0.8289 - val_acc: 0.6222\n",
            "Epoch 65/100\n",
            "105/105 [==============================] - 0s 235us/sample - loss: 0.7800 - acc: 0.6476 - val_loss: 0.8229 - val_acc: 0.6222\n",
            "Epoch 66/100\n",
            "105/105 [==============================] - 0s 242us/sample - loss: 0.7734 - acc: 0.6762 - val_loss: 0.8152 - val_acc: 0.7333\n",
            "Epoch 67/100\n",
            "105/105 [==============================] - 0s 236us/sample - loss: 0.7671 - acc: 0.6667 - val_loss: 0.8095 - val_acc: 0.7111\n",
            "Epoch 68/100\n",
            "105/105 [==============================] - 0s 225us/sample - loss: 0.7610 - acc: 0.6286 - val_loss: 0.8049 - val_acc: 0.6444\n",
            "Epoch 69/100\n",
            "105/105 [==============================] - 0s 218us/sample - loss: 0.7548 - acc: 0.6667 - val_loss: 0.8004 - val_acc: 0.7778\n",
            "Epoch 70/100\n",
            "105/105 [==============================] - 0s 224us/sample - loss: 0.7492 - acc: 0.6571 - val_loss: 0.7941 - val_acc: 0.6222\n",
            "Epoch 71/100\n",
            "105/105 [==============================] - 0s 214us/sample - loss: 0.7428 - acc: 0.6762 - val_loss: 0.7876 - val_acc: 0.6889\n",
            "Epoch 72/100\n",
            "105/105 [==============================] - 0s 270us/sample - loss: 0.7393 - acc: 0.6000 - val_loss: 0.7821 - val_acc: 0.6667\n",
            "Epoch 73/100\n",
            "105/105 [==============================] - 0s 277us/sample - loss: 0.7324 - acc: 0.6381 - val_loss: 0.7775 - val_acc: 0.6889\n",
            "Epoch 74/100\n",
            "105/105 [==============================] - 0s 233us/sample - loss: 0.7262 - acc: 0.6952 - val_loss: 0.7755 - val_acc: 0.6444\n",
            "Epoch 75/100\n",
            "105/105 [==============================] - 0s 221us/sample - loss: 0.7215 - acc: 0.6762 - val_loss: 0.7686 - val_acc: 0.7111\n",
            "Epoch 76/100\n",
            "105/105 [==============================] - 0s 225us/sample - loss: 0.7168 - acc: 0.6952 - val_loss: 0.7627 - val_acc: 0.6222\n",
            "Epoch 77/100\n",
            "105/105 [==============================] - 0s 234us/sample - loss: 0.7109 - acc: 0.6762 - val_loss: 0.7577 - val_acc: 0.6444\n",
            "Epoch 78/100\n",
            "105/105 [==============================] - 0s 240us/sample - loss: 0.7062 - acc: 0.6857 - val_loss: 0.7536 - val_acc: 0.6222\n",
            "Epoch 79/100\n",
            "105/105 [==============================] - 0s 246us/sample - loss: 0.7021 - acc: 0.6857 - val_loss: 0.7503 - val_acc: 0.6222\n",
            "Epoch 80/100\n",
            "105/105 [==============================] - 0s 276us/sample - loss: 0.6962 - acc: 0.6857 - val_loss: 0.7464 - val_acc: 0.6222\n",
            "Epoch 81/100\n",
            "105/105 [==============================] - 0s 219us/sample - loss: 0.6915 - acc: 0.6857 - val_loss: 0.7424 - val_acc: 0.6222\n",
            "Epoch 82/100\n",
            "105/105 [==============================] - 0s 220us/sample - loss: 0.6874 - acc: 0.6857 - val_loss: 0.7373 - val_acc: 0.6222\n",
            "Epoch 83/100\n",
            "105/105 [==============================] - 0s 233us/sample - loss: 0.6831 - acc: 0.6857 - val_loss: 0.7331 - val_acc: 0.6222\n",
            "Epoch 84/100\n",
            "105/105 [==============================] - 0s 222us/sample - loss: 0.6791 - acc: 0.6857 - val_loss: 0.7274 - val_acc: 0.6444\n",
            "Epoch 85/100\n",
            "105/105 [==============================] - 0s 236us/sample - loss: 0.6753 - acc: 0.6190 - val_loss: 0.7244 - val_acc: 0.6667\n",
            "Epoch 86/100\n",
            "105/105 [==============================] - 0s 237us/sample - loss: 0.6703 - acc: 0.7238 - val_loss: 0.7207 - val_acc: 0.6444\n",
            "Epoch 87/100\n",
            "105/105 [==============================] - 0s 251us/sample - loss: 0.6662 - acc: 0.6762 - val_loss: 0.7174 - val_acc: 0.6889\n",
            "Epoch 88/100\n",
            "105/105 [==============================] - 0s 213us/sample - loss: 0.6619 - acc: 0.7429 - val_loss: 0.7132 - val_acc: 0.7556\n",
            "Epoch 89/100\n",
            "105/105 [==============================] - 0s 243us/sample - loss: 0.6586 - acc: 0.6857 - val_loss: 0.7109 - val_acc: 0.6222\n",
            "Epoch 90/100\n",
            "105/105 [==============================] - 0s 217us/sample - loss: 0.6543 - acc: 0.7048 - val_loss: 0.7071 - val_acc: 0.6222\n",
            "Epoch 91/100\n",
            "105/105 [==============================] - 0s 221us/sample - loss: 0.6511 - acc: 0.6857 - val_loss: 0.7043 - val_acc: 0.6667\n",
            "Epoch 92/100\n",
            "105/105 [==============================] - 0s 222us/sample - loss: 0.6482 - acc: 0.6571 - val_loss: 0.7002 - val_acc: 0.6667\n",
            "Epoch 93/100\n",
            "105/105 [==============================] - 0s 221us/sample - loss: 0.6443 - acc: 0.6952 - val_loss: 0.6973 - val_acc: 0.6667\n",
            "Epoch 94/100\n",
            "105/105 [==============================] - 0s 248us/sample - loss: 0.6413 - acc: 0.6952 - val_loss: 0.6944 - val_acc: 0.6667\n",
            "Epoch 95/100\n",
            "105/105 [==============================] - 0s 257us/sample - loss: 0.6376 - acc: 0.7048 - val_loss: 0.6921 - val_acc: 0.6222\n",
            "Epoch 96/100\n",
            "105/105 [==============================] - 0s 331us/sample - loss: 0.6347 - acc: 0.6952 - val_loss: 0.6883 - val_acc: 0.6222\n",
            "Epoch 97/100\n",
            "105/105 [==============================] - 0s 333us/sample - loss: 0.6314 - acc: 0.7048 - val_loss: 0.6849 - val_acc: 0.7556\n",
            "Epoch 98/100\n",
            "105/105 [==============================] - 0s 259us/sample - loss: 0.6285 - acc: 0.7524 - val_loss: 0.6832 - val_acc: 0.6222\n",
            "Epoch 99/100\n",
            "105/105 [==============================] - 0s 232us/sample - loss: 0.6257 - acc: 0.7238 - val_loss: 0.6805 - val_acc: 0.6222\n",
            "Epoch 100/100\n",
            "105/105 [==============================] - 0s 237us/sample - loss: 0.6222 - acc: 0.6857 - val_loss: 0.6775 - val_acc: 0.6444\n"
          ],
          "name": "stdout"
        },
        {
          "output_type": "execute_result",
          "data": {
            "text/plain": [
              "<tensorflow.python.keras.callbacks.History at 0x7f0a02408ef0>"
            ]
          },
          "metadata": {
            "tags": []
          },
          "execution_count": 144
        }
      ]
    },
    {
      "metadata": {
        "id": "YSDnf_7D0zaX",
        "colab_type": "code",
        "colab": {}
      },
      "cell_type": "code",
      "source": [
        ""
      ],
      "execution_count": 0,
      "outputs": []
    },
    {
      "metadata": {
        "id": "jbNanxOp0zaf",
        "colab_type": "text"
      },
      "cell_type": "markdown",
      "source": [
        "### Report Accuracy of the predicted values"
      ]
    },
    {
      "metadata": {
        "id": "mPzJf9MI0zag",
        "colab_type": "code",
        "colab": {
          "base_uri": "https://localhost:8080/",
          "height": 34
        },
        "outputId": "e9c5faed-d21b-4ca9-fc57-dd5c26bfd79a"
      },
      "cell_type": "code",
      "source": [
        "#Model prediction\n",
        "prediction = model.predict(X_test[0:1])\n",
        "\n",
        "#Print prediction\n",
        "print(prediction[0])"
      ],
      "execution_count": 145,
      "outputs": [
        {
          "output_type": "stream",
          "text": [
            "[0.13263123 0.43596855 0.4314002 ]\n"
          ],
          "name": "stdout"
        }
      ]
    },
    {
      "metadata": {
        "id": "hbhCoCZTjD_p",
        "colab_type": "code",
        "colab": {}
      },
      "cell_type": "code",
      "source": [
        "import numpy as np"
      ],
      "execution_count": 0,
      "outputs": []
    },
    {
      "metadata": {
        "id": "LZTNKQvsi5mQ",
        "colab_type": "code",
        "colab": {
          "base_uri": "https://localhost:8080/",
          "height": 34
        },
        "outputId": "b3bc3817-ee66-4c16-f627-4deb8fa098a6"
      },
      "cell_type": "code",
      "source": [
        "\n",
        "#Get predicted number with highest probability\n",
        "predicted_num = np.argmax(prediction[0])\n",
        "\n",
        "#Print the number\n",
        "print(predicted_num)"
      ],
      "execution_count": 147,
      "outputs": [
        {
          "output_type": "stream",
          "text": [
            "1\n"
          ],
          "name": "stdout"
        }
      ]
    }
  ]
}