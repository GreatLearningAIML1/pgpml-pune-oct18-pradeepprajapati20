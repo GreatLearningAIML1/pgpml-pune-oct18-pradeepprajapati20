{
  "nbformat": 4,
  "nbformat_minor": 0,
  "metadata": {
    "colab": {
      "name": "Recommendation Systems_R5_Project.ipynb",
      "version": "0.3.2",
      "provenance": [],
      "collapsed_sections": []
    },
    "language_info": {
      "codemirror_mode": {
        "name": "ipython",
        "version": 3
      },
      "file_extension": ".py",
      "mimetype": "text/x-python",
      "name": "python",
      "nbconvert_exporter": "python",
      "pygments_lexer": "ipython3",
      "version": "3.6.6"
    },
    "kernelspec": {
      "name": "python3",
      "display_name": "Python 3"
    },
    "accelerator": "GPU"
  },
  "cells": [
    {
      "cell_type": "code",
      "metadata": {
        "id": "x-miEpMr-6Ui",
        "colab_type": "code",
        "colab": {}
      },
      "source": [
        "import numpy as np\n",
        "import pandas as pd"
      ],
      "execution_count": 0,
      "outputs": []
    },
    {
      "cell_type": "code",
      "metadata": {
        "id": "W7h9JYrj-8ev",
        "colab_type": "code",
        "colab": {}
      },
      "source": [
        "from google.colab import drive"
      ],
      "execution_count": 0,
      "outputs": []
    },
    {
      "cell_type": "code",
      "metadata": {
        "id": "BRRQJz5u_HH9",
        "colab_type": "code",
        "colab": {
          "base_uri": "https://localhost:8080/",
          "height": 34
        },
        "outputId": "cf194a62-3fb0-4e71-d39b-5f169ded0f4f"
      },
      "source": [
        "drive.mount('/content/drive')"
      ],
      "execution_count": 2,
      "outputs": [
        {
          "output_type": "stream",
          "text": [
            "Drive already mounted at /content/drive; to attempt to forcibly remount, call drive.mount(\"/content/drive\", force_remount=True).\n"
          ],
          "name": "stdout"
        }
      ]
    },
    {
      "cell_type": "code",
      "metadata": {
        "id": "sVpzdMwz_MBT",
        "colab_type": "code",
        "colab": {}
      },
      "source": [
        "import os\n",
        "os.chdir(\"/content/drive/My Drive/Colab Notebooks/\")"
      ],
      "execution_count": 0,
      "outputs": []
    },
    {
      "cell_type": "code",
      "metadata": {
        "id": "NxwW_e0g_nVc",
        "colab_type": "code",
        "colab": {
          "base_uri": "https://localhost:8080/",
          "height": 272
        },
        "outputId": "92177490-5f82-4488-891f-aa48630cab89"
      },
      "source": [
        "!pip install surprise"
      ],
      "execution_count": 6,
      "outputs": [
        {
          "output_type": "stream",
          "text": [
            "Collecting surprise\n",
            "  Downloading https://files.pythonhosted.org/packages/61/de/e5cba8682201fcf9c3719a6fdda95693468ed061945493dea2dd37c5618b/surprise-0.1-py2.py3-none-any.whl\n",
            "Collecting scikit-surprise (from surprise)\n",
            "\u001b[?25l  Downloading https://files.pythonhosted.org/packages/4d/fc/cd4210b247d1dca421c25994740cbbf03c5e980e31881f10eaddf45fdab0/scikit-surprise-1.0.6.tar.gz (3.3MB)\n",
            "\u001b[K     |████████████████████████████████| 3.3MB 2.8MB/s \n",
            "\u001b[?25hRequirement already satisfied: joblib>=0.11 in /usr/local/lib/python3.6/dist-packages (from scikit-surprise->surprise) (0.12.5)\n",
            "Requirement already satisfied: numpy>=1.11.2 in /usr/local/lib/python3.6/dist-packages (from scikit-surprise->surprise) (1.16.3)\n",
            "Requirement already satisfied: scipy>=1.0.0 in /usr/local/lib/python3.6/dist-packages (from scikit-surprise->surprise) (1.2.1)\n",
            "Requirement already satisfied: six>=1.10.0 in /usr/local/lib/python3.6/dist-packages (from scikit-surprise->surprise) (1.12.0)\n",
            "Building wheels for collected packages: scikit-surprise\n",
            "  Building wheel for scikit-surprise (setup.py) ... \u001b[?25l\u001b[?25hdone\n",
            "  Stored in directory: /root/.cache/pip/wheels/ec/c0/55/3a28eab06b53c220015063ebbdb81213cd3dcbb72c088251ec\n",
            "Successfully built scikit-surprise\n",
            "Installing collected packages: scikit-surprise, surprise\n",
            "Successfully installed scikit-surprise-1.0.6 surprise-0.1\n"
          ],
          "name": "stdout"
        }
      ]
    },
    {
      "cell_type": "code",
      "metadata": {
        "id": "yfzaGGpS-6Uv",
        "colab_type": "code",
        "colab": {}
      },
      "source": [
        "from surprise import Dataset,Reader\n",
        "reader = Reader(rating_scale=(1, 5))"
      ],
      "execution_count": 0,
      "outputs": []
    },
    {
      "cell_type": "markdown",
      "metadata": {
        "id": "2gccvtJb-6U3",
        "colab_type": "text"
      },
      "source": [
        "# 1. Read and explore the dataset. (Rename column, plot histograms, find data characteristics)"
      ]
    },
    {
      "cell_type": "code",
      "metadata": {
        "id": "QOM7qkE_-6U6",
        "colab_type": "code",
        "colab": {}
      },
      "source": [
        "column = ['UserID', 'Item', 'Rating', 'TimeStamp']"
      ],
      "execution_count": 0,
      "outputs": []
    },
    {
      "cell_type": "code",
      "metadata": {
        "id": "GtQXmSwr-6VD",
        "colab_type": "code",
        "colab": {}
      },
      "source": [
        "df = pd.read_csv('ratings_Electronics.csv', names=column)"
      ],
      "execution_count": 0,
      "outputs": []
    },
    {
      "cell_type": "code",
      "metadata": {
        "id": "mJb9ax9S-6VM",
        "colab_type": "code",
        "colab": {
          "base_uri": "https://localhost:8080/",
          "height": 204
        },
        "outputId": "89fa68c4-a8c2-4bc2-e5f0-77bc538571db"
      },
      "source": [
        "df.head()"
      ],
      "execution_count": 8,
      "outputs": [
        {
          "output_type": "execute_result",
          "data": {
            "text/html": [
              "<div>\n",
              "<style scoped>\n",
              "    .dataframe tbody tr th:only-of-type {\n",
              "        vertical-align: middle;\n",
              "    }\n",
              "\n",
              "    .dataframe tbody tr th {\n",
              "        vertical-align: top;\n",
              "    }\n",
              "\n",
              "    .dataframe thead th {\n",
              "        text-align: right;\n",
              "    }\n",
              "</style>\n",
              "<table border=\"1\" class=\"dataframe\">\n",
              "  <thead>\n",
              "    <tr style=\"text-align: right;\">\n",
              "      <th></th>\n",
              "      <th>UserID</th>\n",
              "      <th>Item</th>\n",
              "      <th>Rating</th>\n",
              "      <th>TimeStamp</th>\n",
              "    </tr>\n",
              "  </thead>\n",
              "  <tbody>\n",
              "    <tr>\n",
              "      <th>0</th>\n",
              "      <td>AKM1MP6P0OYPR</td>\n",
              "      <td>0132793040</td>\n",
              "      <td>5.0</td>\n",
              "      <td>1365811200</td>\n",
              "    </tr>\n",
              "    <tr>\n",
              "      <th>1</th>\n",
              "      <td>A2CX7LUOHB2NDG</td>\n",
              "      <td>0321732944</td>\n",
              "      <td>5.0</td>\n",
              "      <td>1341100800</td>\n",
              "    </tr>\n",
              "    <tr>\n",
              "      <th>2</th>\n",
              "      <td>A2NWSAGRHCP8N5</td>\n",
              "      <td>0439886341</td>\n",
              "      <td>1.0</td>\n",
              "      <td>1367193600</td>\n",
              "    </tr>\n",
              "    <tr>\n",
              "      <th>3</th>\n",
              "      <td>A2WNBOD3WNDNKT</td>\n",
              "      <td>0439886341</td>\n",
              "      <td>3.0</td>\n",
              "      <td>1374451200</td>\n",
              "    </tr>\n",
              "    <tr>\n",
              "      <th>4</th>\n",
              "      <td>A1GI0U4ZRJA8WN</td>\n",
              "      <td>0439886341</td>\n",
              "      <td>1.0</td>\n",
              "      <td>1334707200</td>\n",
              "    </tr>\n",
              "  </tbody>\n",
              "</table>\n",
              "</div>"
            ],
            "text/plain": [
              "           UserID        Item  Rating   TimeStamp\n",
              "0   AKM1MP6P0OYPR  0132793040     5.0  1365811200\n",
              "1  A2CX7LUOHB2NDG  0321732944     5.0  1341100800\n",
              "2  A2NWSAGRHCP8N5  0439886341     1.0  1367193600\n",
              "3  A2WNBOD3WNDNKT  0439886341     3.0  1374451200\n",
              "4  A1GI0U4ZRJA8WN  0439886341     1.0  1334707200"
            ]
          },
          "metadata": {
            "tags": []
          },
          "execution_count": 8
        }
      ]
    },
    {
      "cell_type": "code",
      "metadata": {
        "id": "9FcMQgXC-6Vb",
        "colab_type": "code",
        "colab": {
          "base_uri": "https://localhost:8080/",
          "height": 34
        },
        "outputId": "bdc3e1aa-b14e-47f7-e532-7afed8300777"
      },
      "source": [
        "df.shape"
      ],
      "execution_count": 9,
      "outputs": [
        {
          "output_type": "execute_result",
          "data": {
            "text/plain": [
              "(7824482, 4)"
            ]
          },
          "metadata": {
            "tags": []
          },
          "execution_count": 9
        }
      ]
    },
    {
      "cell_type": "code",
      "metadata": {
        "id": "pX12kD1h-6Vo",
        "colab_type": "code",
        "colab": {
          "base_uri": "https://localhost:8080/",
          "height": 281
        },
        "outputId": "86210cf6-50dc-479b-b272-3c7824eb3a98"
      },
      "source": [
        "plt = df.hist(column='Rating')"
      ],
      "execution_count": 10,
      "outputs": [
        {
          "output_type": "display_data",
          "data": {
            "image/png": "[encoded data removed]",
            "text/plain": [
              "<Figure size 432x288 with 1 Axes>"
            ]
          },
          "metadata": {
            "tags": []
          }
        }
      ]
    },
    {
      "cell_type": "code",
      "metadata": {
        "id": "auELih2A-6V3",
        "colab_type": "code",
        "colab": {}
      },
      "source": [
        "# Mostly users have given the rating 5 to products. So number of users for the 5 ratings are more"
      ],
      "execution_count": 0,
      "outputs": []
    },
    {
      "cell_type": "code",
      "metadata": {
        "id": "uGjLvG0Y-6WJ",
        "colab_type": "code",
        "colab": {}
      },
      "source": [
        "# Find the top 10 most popular Products Reviewed"
      ],
      "execution_count": 0,
      "outputs": []
    },
    {
      "cell_type": "code",
      "metadata": {
        "id": "eAdkEOh3-6WT",
        "colab_type": "code",
        "colab": {
          "base_uri": "https://localhost:8080/",
          "height": 374
        },
        "outputId": "6f32c087-6b35-40af-9d4f-49565908429a"
      },
      "source": [
        "df.Item.value_counts().head(20)"
      ],
      "execution_count": 13,
      "outputs": [
        {
          "output_type": "execute_result",
          "data": {
            "text/plain": [
              "B0074BW614    18244\n",
              "B00DR0PDNE    16454\n",
              "B007WTAJTO    14172\n",
              "B0019EHU8G    12285\n",
              "B006GWO5WK    12226\n",
              "B003ELYQGG    11617\n",
              "B003ES5ZUU    10276\n",
              "B007R5YDYA     9907\n",
              "B00622AG6S     9823\n",
              "B0002L5R78     9487\n",
              "B008OHNZI0     8966\n",
              "B003LR7ME6     8840\n",
              "B000LRMS66     8715\n",
              "B009SYZ8OC     8370\n",
              "B00BGA9WK2     7561\n",
              "B004QK7HI8     7060\n",
              "B009A5204K     7059\n",
              "B00BGGDVOO     6893\n",
              "B0098F5W0Q     6616\n",
              "B002MAPRYU     6599\n",
              "Name: Item, dtype: int64"
            ]
          },
          "metadata": {
            "tags": []
          },
          "execution_count": 13
        }
      ]
    },
    {
      "cell_type": "code",
      "metadata": {
        "id": "L7Lavh9q-6Wi",
        "colab_type": "code",
        "colab": {
          "base_uri": "https://localhost:8080/",
          "height": 34
        },
        "outputId": "44306e95-c1f7-4f5a-f20d-78af2c2a832e"
      },
      "source": [
        "print(\"total unique users - \",len(df[\"UserID\"].unique()))"
      ],
      "execution_count": 14,
      "outputs": [
        {
          "output_type": "stream",
          "text": [
            "total unique users -  4201696\n"
          ],
          "name": "stdout"
        }
      ]
    },
    {
      "cell_type": "code",
      "metadata": {
        "id": "q67kfVgy-6Wy",
        "colab_type": "code",
        "colab": {
          "base_uri": "https://localhost:8080/",
          "height": 119
        },
        "outputId": "e0c9ae3e-7308-4db5-b457-98b128f3a734"
      },
      "source": [
        "# Top users who has provided the reviews the most\n",
        "df[\"UserID\"].value_counts().head()"
      ],
      "execution_count": 15,
      "outputs": [
        {
          "output_type": "execute_result",
          "data": {
            "text/plain": [
              "A5JLAU2ARJ0BO     520\n",
              "ADLVFFE4VBT8      501\n",
              "A3OXHLG6DIBRW8    498\n",
              "A6FIAB28IS79      431\n",
              "A680RUE1FDO8B     406\n",
              "Name: UserID, dtype: int64"
            ]
          },
          "metadata": {
            "tags": []
          },
          "execution_count": 15
        }
      ]
    },
    {
      "cell_type": "markdown",
      "metadata": {
        "id": "by5ib7-p-6XA",
        "colab_type": "text"
      },
      "source": [
        "# 2. Take subset of dataset to make it less sparse/more dense. (For example, keep the users only who has given 50 or more number of ratings )"
      ]
    },
    {
      "cell_type": "code",
      "metadata": {
        "id": "eoLTgn-Q-6XF",
        "colab_type": "code",
        "colab": {}
      },
      "source": [
        "# I am taking the user who has contributed in more than 50 reviews"
      ],
      "execution_count": 0,
      "outputs": []
    },
    {
      "cell_type": "code",
      "metadata": {
        "id": "jNch6OiZ-6XS",
        "colab_type": "code",
        "colab": {}
      },
      "source": [
        "data = df.UserID.value_counts().reset_index(name=\"count\").query(\"count > 150\")[\"index\"]"
      ],
      "execution_count": 0,
      "outputs": []
    },
    {
      "cell_type": "code",
      "metadata": {
        "id": "Tf3VqFgq-6Xc",
        "colab_type": "code",
        "colab": {
          "base_uri": "https://localhost:8080/",
          "height": 34
        },
        "outputId": "317d0625-fd2f-4d43-8a37-b89ba4ffcace"
      },
      "source": [
        "data.shape"
      ],
      "execution_count": 38,
      "outputs": [
        {
          "output_type": "execute_result",
          "data": {
            "text/plain": [
              "(98,)"
            ]
          },
          "metadata": {
            "tags": []
          },
          "execution_count": 38
        }
      ]
    },
    {
      "cell_type": "code",
      "metadata": {
        "id": "uO0F2UNQ-6X3",
        "colab_type": "code",
        "colab": {}
      },
      "source": [
        "data = data.unique()"
      ],
      "execution_count": 0,
      "outputs": []
    },
    {
      "cell_type": "code",
      "metadata": {
        "id": "PLLVEeLW-6YH",
        "colab_type": "code",
        "colab": {}
      },
      "source": [
        "df = df[df.UserID.isin([key for key in data])]"
      ],
      "execution_count": 0,
      "outputs": []
    },
    {
      "cell_type": "code",
      "metadata": {
        "scrolled": true,
        "id": "pM1vjrLz-6YW",
        "colab_type": "code",
        "colab": {
          "base_uri": "https://localhost:8080/",
          "height": 34
        },
        "outputId": "93e1d589-36e0-4ea3-cd6e-ab4b13778a72"
      },
      "source": [
        "df.shape"
      ],
      "execution_count": 41,
      "outputs": [
        {
          "output_type": "execute_result",
          "data": {
            "text/plain": [
              "(21810, 4)"
            ]
          },
          "metadata": {
            "tags": []
          },
          "execution_count": 41
        }
      ]
    },
    {
      "cell_type": "code",
      "metadata": {
        "id": "MMQiJz5c-6Yr",
        "colab_type": "code",
        "colab": {}
      },
      "source": [
        "# Now we have the data for users who are present in more than 50 reviews"
      ],
      "execution_count": 0,
      "outputs": []
    },
    {
      "cell_type": "markdown",
      "metadata": {
        "id": "UtD1CD8c-6Y6",
        "colab_type": "text"
      },
      "source": [
        "# 3. Split the data randomly into train and test dataset. (For example split it in 70/30 ratio)"
      ]
    },
    {
      "cell_type": "code",
      "metadata": {
        "id": "J6ZFO-U6-6Y-",
        "colab_type": "code",
        "colab": {}
      },
      "source": [
        "from IPython.core.interactiveshell import InteractiveShell\n",
        "InteractiveShell.ast_node_interactivity = \"all\""
      ],
      "execution_count": 0,
      "outputs": []
    },
    {
      "cell_type": "code",
      "metadata": {
        "id": "KaYZhHFW-6ZJ",
        "colab_type": "code",
        "colab": {}
      },
      "source": [
        "data = Dataset.load_from_df(df[['UserID', 'Item', 'Rating']], reader)"
      ],
      "execution_count": 0,
      "outputs": []
    },
    {
      "cell_type": "code",
      "metadata": {
        "id": "mbR4E744-6ZU",
        "colab_type": "code",
        "colab": {}
      },
      "source": [
        "# Split data to train and test\n",
        "from surprise.model_selection import train_test_split\n",
        "trainset, testset = train_test_split(data, test_size=.30,random_state=123)\n"
      ],
      "execution_count": 0,
      "outputs": []
    },
    {
      "cell_type": "code",
      "metadata": {
        "id": "obZav03z-6Zl",
        "colab_type": "code",
        "colab": {
          "base_uri": "https://localhost:8080/",
          "height": 80
        },
        "outputId": "d2666d1d-39db-47f2-ef06-fdb859830bd4"
      },
      "source": [
        "df[(df.UserID==trainset.to_raw_uid(0)) & (df.Item == trainset.to_raw_iid(0))]"
      ],
      "execution_count": 45,
      "outputs": [
        {
          "output_type": "execute_result",
          "data": {
            "text/html": [
              "<div>\n",
              "<style scoped>\n",
              "    .dataframe tbody tr th:only-of-type {\n",
              "        vertical-align: middle;\n",
              "    }\n",
              "\n",
              "    .dataframe tbody tr th {\n",
              "        vertical-align: top;\n",
              "    }\n",
              "\n",
              "    .dataframe thead th {\n",
              "        text-align: right;\n",
              "    }\n",
              "</style>\n",
              "<table border=\"1\" class=\"dataframe\">\n",
              "  <thead>\n",
              "    <tr style=\"text-align: right;\">\n",
              "      <th></th>\n",
              "      <th>UserID</th>\n",
              "      <th>Item</th>\n",
              "      <th>Rating</th>\n",
              "      <th>TimeStamp</th>\n",
              "    </tr>\n",
              "  </thead>\n",
              "  <tbody>\n",
              "    <tr>\n",
              "      <th>7820967</th>\n",
              "      <td>A3W4D8XOGLWUN5</td>\n",
              "      <td>B00KC7VY3S</td>\n",
              "      <td>4.0</td>\n",
              "      <td>1403136000</td>\n",
              "    </tr>\n",
              "  </tbody>\n",
              "</table>\n",
              "</div>"
            ],
            "text/plain": [
              "                 UserID        Item  Rating   TimeStamp\n",
              "7820967  A3W4D8XOGLWUN5  B00KC7VY3S     4.0  1403136000"
            ]
          },
          "metadata": {
            "tags": []
          },
          "execution_count": 45
        }
      ]
    },
    {
      "cell_type": "code",
      "metadata": {
        "id": "z-gMwOY9FLue",
        "colab_type": "code",
        "colab": {}
      },
      "source": [
        ""
      ],
      "execution_count": 0,
      "outputs": []
    },
    {
      "cell_type": "code",
      "metadata": {
        "id": "vWmDmW1QFNL2",
        "colab_type": "code",
        "colab": {}
      },
      "source": [
        ""
      ],
      "execution_count": 0,
      "outputs": []
    },
    {
      "cell_type": "markdown",
      "metadata": {
        "id": "3ffTH1YK-6Zy",
        "colab_type": "text"
      },
      "source": [
        "# 4. Build Popularity Recommender model."
      ]
    },
    {
      "cell_type": "code",
      "metadata": {
        "id": "Hi1jIkbE-6Z2",
        "colab_type": "code",
        "colab": {}
      },
      "source": [
        "# I am leaving this as am not finding a way to get Popularity based recommender model with Surprise Library which was taught to us."
      ],
      "execution_count": 0,
      "outputs": []
    },
    {
      "cell_type": "markdown",
      "metadata": {
        "id": "ydK2aPzd-6Z9",
        "colab_type": "text"
      },
      "source": [
        "# 5. Build Collaborative Filtering model"
      ]
    },
    {
      "cell_type": "code",
      "metadata": {
        "id": "32LX5Y7c-6Z_",
        "colab_type": "code",
        "colab": {
          "base_uri": "https://localhost:8080/",
          "height": 34
        },
        "outputId": "55fce874-ba3f-4b8e-bbf9-2b63a656fe3c"
      },
      "source": [
        "# user item rating data can be obtained as follows\n",
        "user_records = trainset.ur\n",
        "type(user_records)"
      ],
      "execution_count": 46,
      "outputs": [
        {
          "output_type": "execute_result",
          "data": {
            "text/plain": [
              "collections.defaultdict"
            ]
          },
          "metadata": {
            "tags": []
          },
          "execution_count": 46
        }
      ]
    },
    {
      "cell_type": "code",
      "metadata": {
        "id": "OKB-F60T-6aX",
        "colab_type": "code",
        "colab": {
          "base_uri": "https://localhost:8080/",
          "height": 1853
        },
        "outputId": "128cf3ea-adfa-4a2f-e8c7-fa6311a43ead"
      },
      "source": [
        "user_records[0]"
      ],
      "execution_count": 47,
      "outputs": [
        {
          "output_type": "execute_result",
          "data": {
            "text/plain": [
              "[(0, 4.0),\n",
              " (81, 4.0),\n",
              " (195, 3.0),\n",
              " (278, 4.0),\n",
              " (306, 4.0),\n",
              " (445, 4.0),\n",
              " (501, 5.0),\n",
              " (897, 4.0),\n",
              " (957, 4.0),\n",
              " (1071, 3.0),\n",
              " (1363, 4.0),\n",
              " (1480, 4.0),\n",
              " (1530, 4.0),\n",
              " (1592, 4.0),\n",
              " (1691, 4.0),\n",
              " (1789, 3.0),\n",
              " (2013, 2.0),\n",
              " (2060, 3.0),\n",
              " (237, 4.0),\n",
              " (2958, 4.0),\n",
              " (457, 4.0),\n",
              " (3249, 4.0),\n",
              " (3319, 4.0),\n",
              " (3538, 4.0),\n",
              " (1621, 4.0),\n",
              " (3713, 4.0),\n",
              " (3842, 4.0),\n",
              " (654, 4.0),\n",
              " (3986, 4.0),\n",
              " (4003, 4.0),\n",
              " (4036, 4.0),\n",
              " (4153, 4.0),\n",
              " (3483, 5.0),\n",
              " (4247, 2.0),\n",
              " (4371, 5.0),\n",
              " (4394, 4.0),\n",
              " (4533, 3.0),\n",
              " (4573, 3.0),\n",
              " (4600, 3.0),\n",
              " (4657, 4.0),\n",
              " (4798, 3.0),\n",
              " (4825, 4.0),\n",
              " (4858, 4.0),\n",
              " (4873, 4.0),\n",
              " (5009, 4.0),\n",
              " (5111, 5.0),\n",
              " (5149, 4.0),\n",
              " (5168, 3.0),\n",
              " (5235, 4.0),\n",
              " (5271, 4.0),\n",
              " (5332, 4.0),\n",
              " (5495, 4.0),\n",
              " (5507, 4.0),\n",
              " (5778, 4.0),\n",
              " (4658, 2.0),\n",
              " (5935, 5.0),\n",
              " (5974, 5.0),\n",
              " (2433, 3.0),\n",
              " (6209, 4.0),\n",
              " (5630, 5.0),\n",
              " (6251, 5.0),\n",
              " (6350, 4.0),\n",
              " (6412, 4.0),\n",
              " (6604, 4.0),\n",
              " (2124, 4.0),\n",
              " (2903, 4.0),\n",
              " (6763, 5.0),\n",
              " (6994, 3.0),\n",
              " (4521, 4.0),\n",
              " (7083, 4.0),\n",
              " (7111, 4.0),\n",
              " (425, 4.0),\n",
              " (7258, 2.0),\n",
              " (7348, 4.0),\n",
              " (7459, 4.0),\n",
              " (7466, 4.0),\n",
              " (7691, 2.0),\n",
              " (7129, 4.0),\n",
              " (7761, 4.0),\n",
              " (7771, 4.0),\n",
              " (7775, 3.0),\n",
              " (7859, 3.0),\n",
              " (7871, 1.0),\n",
              " (7959, 2.0),\n",
              " (8022, 4.0),\n",
              " (27, 4.0),\n",
              " (8058, 4.0),\n",
              " (8128, 4.0),\n",
              " (6976, 4.0),\n",
              " (6165, 4.0),\n",
              " (8405, 4.0),\n",
              " (8793, 5.0),\n",
              " (9025, 4.0),\n",
              " (2734, 3.0),\n",
              " (8319, 4.0),\n",
              " (9430, 2.0),\n",
              " (585, 4.0),\n",
              " (8486, 3.0),\n",
              " (9698, 5.0),\n",
              " (9760, 4.0),\n",
              " (9858, 5.0),\n",
              " (9877, 4.0),\n",
              " (9899, 4.0),\n",
              " (9947, 4.0),\n",
              " (1338, 4.0),\n",
              " (10057, 4.0),\n",
              " (4179, 3.0),\n",
              " (10273, 4.0)]"
            ]
          },
          "metadata": {
            "tags": []
          },
          "execution_count": 47
        }
      ]
    },
    {
      "cell_type": "code",
      "metadata": {
        "id": "JYMZDjXM-6aj",
        "colab_type": "code",
        "colab": {
          "base_uri": "https://localhost:8080/",
          "height": 34
        },
        "outputId": "6c85ea30-6a2b-4fd5-d310-af09d09d3883"
      },
      "source": [
        "trainset.to_raw_iid(0)"
      ],
      "execution_count": 48,
      "outputs": [
        {
          "output_type": "execute_result",
          "data": {
            "text/plain": [
              "'B00KC7VY3S'"
            ]
          },
          "metadata": {
            "tags": []
          },
          "execution_count": 48
        }
      ]
    },
    {
      "cell_type": "code",
      "metadata": {
        "id": "xoHt7xcC-6ax",
        "colab_type": "code",
        "colab": {
          "base_uri": "https://localhost:8080/",
          "height": 34
        },
        "outputId": "78be4f01-05c3-4ce9-d8c1-6ac5c2be2787"
      },
      "source": [
        "trainset.to_raw_uid(0)"
      ],
      "execution_count": 49,
      "outputs": [
        {
          "output_type": "execute_result",
          "data": {
            "text/plain": [
              "'A3W4D8XOGLWUN5'"
            ]
          },
          "metadata": {
            "tags": []
          },
          "execution_count": 49
        }
      ]
    },
    {
      "cell_type": "code",
      "metadata": {
        "id": "bZyYvIvU-6a9",
        "colab_type": "code",
        "colab": {
          "base_uri": "https://localhost:8080/",
          "height": 80
        },
        "outputId": "d1fc9e52-dd32-48d5-c908-08c921d9ae95"
      },
      "source": [
        "df[(df.UserID==trainset.to_raw_uid(0)) & (df.Item == trainset.to_raw_iid(0))]"
      ],
      "execution_count": 50,
      "outputs": [
        {
          "output_type": "execute_result",
          "data": {
            "text/html": [
              "<div>\n",
              "<style scoped>\n",
              "    .dataframe tbody tr th:only-of-type {\n",
              "        vertical-align: middle;\n",
              "    }\n",
              "\n",
              "    .dataframe tbody tr th {\n",
              "        vertical-align: top;\n",
              "    }\n",
              "\n",
              "    .dataframe thead th {\n",
              "        text-align: right;\n",
              "    }\n",
              "</style>\n",
              "<table border=\"1\" class=\"dataframe\">\n",
              "  <thead>\n",
              "    <tr style=\"text-align: right;\">\n",
              "      <th></th>\n",
              "      <th>UserID</th>\n",
              "      <th>Item</th>\n",
              "      <th>Rating</th>\n",
              "      <th>TimeStamp</th>\n",
              "    </tr>\n",
              "  </thead>\n",
              "  <tbody>\n",
              "    <tr>\n",
              "      <th>7820967</th>\n",
              "      <td>A3W4D8XOGLWUN5</td>\n",
              "      <td>B00KC7VY3S</td>\n",
              "      <td>4.0</td>\n",
              "      <td>1403136000</td>\n",
              "    </tr>\n",
              "  </tbody>\n",
              "</table>\n",
              "</div>"
            ],
            "text/plain": [
              "                 UserID        Item  Rating   TimeStamp\n",
              "7820967  A3W4D8XOGLWUN5  B00KC7VY3S     4.0  1403136000"
            ]
          },
          "metadata": {
            "tags": []
          },
          "execution_count": 50
        }
      ]
    },
    {
      "cell_type": "code",
      "metadata": {
        "id": "wxzr40cP-6bS",
        "colab_type": "code",
        "colab": {
          "base_uri": "https://localhost:8080/",
          "height": 1683
        },
        "outputId": "90daff56-646e-4b39-88bb-208c84c203df"
      },
      "source": [
        "for keys in user_records.keys():\n",
        "    print(keys)"
      ],
      "execution_count": 51,
      "outputs": [
        {
          "output_type": "stream",
          "text": [
            "0\n",
            "1\n",
            "2\n",
            "3\n",
            "4\n",
            "5\n",
            "6\n",
            "7\n",
            "8\n",
            "9\n",
            "10\n",
            "11\n",
            "12\n",
            "13\n",
            "14\n",
            "15\n",
            "16\n",
            "17\n",
            "18\n",
            "19\n",
            "20\n",
            "21\n",
            "22\n",
            "23\n",
            "24\n",
            "25\n",
            "26\n",
            "27\n",
            "28\n",
            "29\n",
            "30\n",
            "31\n",
            "32\n",
            "33\n",
            "34\n",
            "35\n",
            "36\n",
            "37\n",
            "38\n",
            "39\n",
            "40\n",
            "41\n",
            "42\n",
            "43\n",
            "44\n",
            "45\n",
            "46\n",
            "47\n",
            "48\n",
            "49\n",
            "50\n",
            "51\n",
            "52\n",
            "53\n",
            "54\n",
            "55\n",
            "56\n",
            "57\n",
            "58\n",
            "59\n",
            "60\n",
            "61\n",
            "62\n",
            "63\n",
            "64\n",
            "65\n",
            "66\n",
            "67\n",
            "68\n",
            "69\n",
            "70\n",
            "71\n",
            "72\n",
            "73\n",
            "74\n",
            "75\n",
            "76\n",
            "77\n",
            "78\n",
            "79\n",
            "80\n",
            "81\n",
            "82\n",
            "83\n",
            "84\n",
            "85\n",
            "86\n",
            "87\n",
            "88\n",
            "89\n",
            "90\n",
            "91\n",
            "92\n",
            "93\n",
            "94\n",
            "95\n",
            "96\n",
            "97\n"
          ],
          "name": "stdout"
        }
      ]
    },
    {
      "cell_type": "code",
      "metadata": {
        "id": "JQ-a_iKc-6bc",
        "colab_type": "code",
        "colab": {
          "base_uri": "https://localhost:8080/",
          "height": 1853
        },
        "outputId": "00b702f3-f610-41c0-d717-c7af9b56c617"
      },
      "source": [
        "user_records[0]"
      ],
      "execution_count": 52,
      "outputs": [
        {
          "output_type": "execute_result",
          "data": {
            "text/plain": [
              "[(0, 4.0),\n",
              " (81, 4.0),\n",
              " (195, 3.0),\n",
              " (278, 4.0),\n",
              " (306, 4.0),\n",
              " (445, 4.0),\n",
              " (501, 5.0),\n",
              " (897, 4.0),\n",
              " (957, 4.0),\n",
              " (1071, 3.0),\n",
              " (1363, 4.0),\n",
              " (1480, 4.0),\n",
              " (1530, 4.0),\n",
              " (1592, 4.0),\n",
              " (1691, 4.0),\n",
              " (1789, 3.0),\n",
              " (2013, 2.0),\n",
              " (2060, 3.0),\n",
              " (237, 4.0),\n",
              " (2958, 4.0),\n",
              " (457, 4.0),\n",
              " (3249, 4.0),\n",
              " (3319, 4.0),\n",
              " (3538, 4.0),\n",
              " (1621, 4.0),\n",
              " (3713, 4.0),\n",
              " (3842, 4.0),\n",
              " (654, 4.0),\n",
              " (3986, 4.0),\n",
              " (4003, 4.0),\n",
              " (4036, 4.0),\n",
              " (4153, 4.0),\n",
              " (3483, 5.0),\n",
              " (4247, 2.0),\n",
              " (4371, 5.0),\n",
              " (4394, 4.0),\n",
              " (4533, 3.0),\n",
              " (4573, 3.0),\n",
              " (4600, 3.0),\n",
              " (4657, 4.0),\n",
              " (4798, 3.0),\n",
              " (4825, 4.0),\n",
              " (4858, 4.0),\n",
              " (4873, 4.0),\n",
              " (5009, 4.0),\n",
              " (5111, 5.0),\n",
              " (5149, 4.0),\n",
              " (5168, 3.0),\n",
              " (5235, 4.0),\n",
              " (5271, 4.0),\n",
              " (5332, 4.0),\n",
              " (5495, 4.0),\n",
              " (5507, 4.0),\n",
              " (5778, 4.0),\n",
              " (4658, 2.0),\n",
              " (5935, 5.0),\n",
              " (5974, 5.0),\n",
              " (2433, 3.0),\n",
              " (6209, 4.0),\n",
              " (5630, 5.0),\n",
              " (6251, 5.0),\n",
              " (6350, 4.0),\n",
              " (6412, 4.0),\n",
              " (6604, 4.0),\n",
              " (2124, 4.0),\n",
              " (2903, 4.0),\n",
              " (6763, 5.0),\n",
              " (6994, 3.0),\n",
              " (4521, 4.0),\n",
              " (7083, 4.0),\n",
              " (7111, 4.0),\n",
              " (425, 4.0),\n",
              " (7258, 2.0),\n",
              " (7348, 4.0),\n",
              " (7459, 4.0),\n",
              " (7466, 4.0),\n",
              " (7691, 2.0),\n",
              " (7129, 4.0),\n",
              " (7761, 4.0),\n",
              " (7771, 4.0),\n",
              " (7775, 3.0),\n",
              " (7859, 3.0),\n",
              " (7871, 1.0),\n",
              " (7959, 2.0),\n",
              " (8022, 4.0),\n",
              " (27, 4.0),\n",
              " (8058, 4.0),\n",
              " (8128, 4.0),\n",
              " (6976, 4.0),\n",
              " (6165, 4.0),\n",
              " (8405, 4.0),\n",
              " (8793, 5.0),\n",
              " (9025, 4.0),\n",
              " (2734, 3.0),\n",
              " (8319, 4.0),\n",
              " (9430, 2.0),\n",
              " (585, 4.0),\n",
              " (8486, 3.0),\n",
              " (9698, 5.0),\n",
              " (9760, 4.0),\n",
              " (9858, 5.0),\n",
              " (9877, 4.0),\n",
              " (9899, 4.0),\n",
              " (9947, 4.0),\n",
              " (1338, 4.0),\n",
              " (10057, 4.0),\n",
              " (4179, 3.0),\n",
              " (10273, 4.0)]"
            ]
          },
          "metadata": {
            "tags": []
          },
          "execution_count": 52
        }
      ]
    },
    {
      "cell_type": "code",
      "metadata": {
        "id": "-i4T1Nqg-6bm",
        "colab_type": "code",
        "colab": {
          "base_uri": "https://localhost:8080/",
          "height": 51
        },
        "outputId": "cb561629-e8d6-4dfc-c60b-2956e4b3269b"
      },
      "source": [
        "# However the ids are the inner ids and not the raw ids\n",
        "# raw ids can be obatined as follows\n",
        "\n",
        "print(trainset.to_raw_uid(0))\n",
        "print(trainset.to_raw_iid(1066))"
      ],
      "execution_count": 53,
      "outputs": [
        {
          "output_type": "stream",
          "text": [
            "A3W4D8XOGLWUN5\n",
            "B001120WQ8\n"
          ],
          "name": "stdout"
        }
      ]
    },
    {
      "cell_type": "code",
      "metadata": {
        "id": "Jk9HPPlW-6bw",
        "colab_type": "code",
        "colab": {}
      },
      "source": [
        "from surprise import KNNWithMeans\n",
        "from surprise import accuracy"
      ],
      "execution_count": 0,
      "outputs": []
    },
    {
      "cell_type": "code",
      "metadata": {
        "scrolled": true,
        "id": "NoQt_HhQ-6b1",
        "colab_type": "code",
        "colab": {
          "base_uri": "https://localhost:8080/",
          "height": 85
        },
        "outputId": "506bb5d7-df51-4221-a28c-a771dd8f3813"
      },
      "source": [
        "algo = KNNWithMeans(k=5, sim_options={'name': 'pearson_baseline', 'user_based': False})\n",
        "algo.fit(trainset)"
      ],
      "execution_count": 55,
      "outputs": [
        {
          "output_type": "stream",
          "text": [
            "Estimating biases using als...\n",
            "Computing the pearson_baseline similarity matrix...\n",
            "Done computing similarity matrix.\n"
          ],
          "name": "stdout"
        },
        {
          "output_type": "execute_result",
          "data": {
            "text/plain": [
              "<surprise.prediction_algorithms.knns.KNNWithMeans at 0x7efd8bd22ac8>"
            ]
          },
          "metadata": {
            "tags": []
          },
          "execution_count": 55
        }
      ]
    },
    {
      "cell_type": "code",
      "metadata": {
        "id": "HkQ4xH5LBw4M",
        "colab_type": "code",
        "colab": {}
      },
      "source": [
        ""
      ],
      "execution_count": 0,
      "outputs": []
    },
    {
      "cell_type": "code",
      "metadata": {
        "id": "NfO8Ceud-6cH",
        "colab_type": "code",
        "colab": {
          "base_uri": "https://localhost:8080/",
          "height": 34
        },
        "outputId": "802b3c6b-7988-4154-b552-3b6068ec7a9d"
      },
      "source": [
        "# Evaluating Model Performance\n",
        "\n",
        "len(testset)"
      ],
      "execution_count": 56,
      "outputs": [
        {
          "output_type": "execute_result",
          "data": {
            "text/plain": [
              "6543"
            ]
          },
          "metadata": {
            "tags": []
          },
          "execution_count": 56
        }
      ]
    },
    {
      "cell_type": "code",
      "metadata": {
        "id": "0MNLn5ZMCENq",
        "colab_type": "code",
        "colab": {
          "base_uri": "https://localhost:8080/",
          "height": 102
        },
        "outputId": "f77c35f7-8700-4c5a-debf-42cfdf973106"
      },
      "source": [
        "testset[0:5]"
      ],
      "execution_count": 57,
      "outputs": [
        {
          "output_type": "execute_result",
          "data": {
            "text/plain": [
              "[('ABQWMANK4AR63', 'B002V8C3W2', 4.0),\n",
              " ('A3J8A5L5AF5TX9', 'B001O4EPHA', 5.0),\n",
              " ('A3V7D0LH8L7BG0', 'B000QSF2FY', 4.0),\n",
              " ('A1ODOGXEYECQQ8', 'B001QFYCXO', 3.0),\n",
              " ('A1UQBFCERIP7VJ', 'B0009U7XH4', 5.0)]"
            ]
          },
          "metadata": {
            "tags": []
          },
          "execution_count": 57
        }
      ]
    },
    {
      "cell_type": "code",
      "metadata": {
        "id": "hgCsTbs7CIHY",
        "colab_type": "code",
        "colab": {
          "base_uri": "https://localhost:8080/",
          "height": 51
        },
        "outputId": "a88b2b48-6ee1-405e-cdb3-cb4195f7b5bd"
      },
      "source": [
        "# Evalute on test set\n",
        "test_pred = algo.test(testset)\n",
        "\n",
        "# compute RMSE\n",
        "accuracy.rmse(test_pred)"
      ],
      "execution_count": 58,
      "outputs": [
        {
          "output_type": "stream",
          "text": [
            "RMSE: 1.0241\n"
          ],
          "name": "stdout"
        },
        {
          "output_type": "execute_result",
          "data": {
            "text/plain": [
              "1.0241147290103727"
            ]
          },
          "metadata": {
            "tags": []
          },
          "execution_count": 58
        }
      ]
    },
    {
      "cell_type": "code",
      "metadata": {
        "id": "Z1nOkiBKCVke",
        "colab_type": "code",
        "colab": {
          "base_uri": "https://localhost:8080/",
          "height": 34
        },
        "outputId": "48501188-d8e4-4b27-fe36-8c05bc663011"
      },
      "source": [
        "test_pred[0]"
      ],
      "execution_count": 59,
      "outputs": [
        {
          "output_type": "execute_result",
          "data": {
            "text/plain": [
              "Prediction(uid='ABQWMANK4AR63', iid='B002V8C3W2', r_ui=4.0, est=5, details={'actual_k': 0, 'was_impossible': False})"
            ]
          },
          "metadata": {
            "tags": []
          },
          "execution_count": 59
        }
      ]
    },
    {
      "cell_type": "code",
      "metadata": {
        "id": "ejYUUdenCcf6",
        "colab_type": "code",
        "colab": {
          "base_uri": "https://localhost:8080/",
          "height": 34
        },
        "outputId": "1535097b-56cf-4521-aa39-f6de8e539e61"
      },
      "source": [
        "# View a particular prediction\n",
        "test_pred[12]\n",
        "\n",
        "# To access a particular value, say estimate simply mention test_pred[12].est"
      ],
      "execution_count": 60,
      "outputs": [
        {
          "output_type": "execute_result",
          "data": {
            "text/plain": [
              "Prediction(uid='A34BZM6S9L7QI4', iid='B008BERH08', r_ui=5.0, est=4.0, details={'actual_k': 0, 'was_impossible': False})"
            ]
          },
          "metadata": {
            "tags": []
          },
          "execution_count": 60
        }
      ]
    },
    {
      "cell_type": "code",
      "metadata": {
        "id": "44VClpE_CfJH",
        "colab_type": "code",
        "colab": {
          "base_uri": "https://localhost:8080/",
          "height": 34
        },
        "outputId": "d93a8dc7-fe25-4961-8c5c-8de8cf91cf7d"
      },
      "source": [
        "test_pred[12].details[\"actual_k\"]"
      ],
      "execution_count": 61,
      "outputs": [
        {
          "output_type": "execute_result",
          "data": {
            "text/plain": [
              "0"
            ]
          },
          "metadata": {
            "tags": []
          },
          "execution_count": 61
        }
      ]
    },
    {
      "cell_type": "code",
      "metadata": {
        "id": "CzKNH5Hs-6cO",
        "colab_type": "code",
        "colab": {}
      },
      "source": [
        "#Generating Top N Reccomendations\n",
        "testset_new = trainset.build_anti_testset()\n"
      ],
      "execution_count": 0,
      "outputs": []
    },
    {
      "cell_type": "code",
      "metadata": {
        "id": "rbJXl1ESGkZN",
        "colab_type": "code",
        "colab": {
          "base_uri": "https://localhost:8080/",
          "height": 34
        },
        "outputId": "d72bb55c-136e-47df-9d72-ff56d7c302f0"
      },
      "source": [
        "len(testset_new)"
      ],
      "execution_count": 67,
      "outputs": [
        {
          "output_type": "execute_result",
          "data": {
            "text/plain": [
              "991781"
            ]
          },
          "metadata": {
            "tags": []
          },
          "execution_count": 67
        }
      ]
    },
    {
      "cell_type": "code",
      "metadata": {
        "id": "vAej9knnGn5l",
        "colab_type": "code",
        "colab": {
          "base_uri": "https://localhost:8080/",
          "height": 102
        },
        "outputId": "acd98014-e1d1-42a2-94fa-ee187dbd1b6a"
      },
      "source": [
        "testset_new[0:5]"
      ],
      "execution_count": 68,
      "outputs": [
        {
          "output_type": "execute_result",
          "data": {
            "text/plain": [
              "[('A3W4D8XOGLWUN5', 'B004SD2562', 4.312176590030785),\n",
              " ('A3W4D8XOGLWUN5', 'B00BXF5FVU', 4.312176590030785),\n",
              " ('A3W4D8XOGLWUN5', 'B004Z9XZHM', 4.312176590030785),\n",
              " ('A3W4D8XOGLWUN5', 'B009SPUY5O', 4.312176590030785),\n",
              " ('A3W4D8XOGLWUN5', 'B0044CL1N0', 4.312176590030785)]"
            ]
          },
          "metadata": {
            "tags": []
          },
          "execution_count": 68
        }
      ]
    },
    {
      "cell_type": "code",
      "metadata": {
        "id": "tmz-4zxJGn1d",
        "colab_type": "code",
        "colab": {}
      },
      "source": [
        "predictions = algo.test(testset_new[0:10000])"
      ],
      "execution_count": 0,
      "outputs": []
    },
    {
      "cell_type": "code",
      "metadata": {
        "id": "jMIeAATfGnwt",
        "colab_type": "code",
        "colab": {
          "base_uri": "https://localhost:8080/",
          "height": 34
        },
        "outputId": "8cd56ef6-062a-42b5-b9b3-a2909c7041ab"
      },
      "source": [
        "predictions[0]"
      ],
      "execution_count": 70,
      "outputs": [
        {
          "output_type": "execute_result",
          "data": {
            "text/plain": [
              "Prediction(uid='A3W4D8XOGLWUN5', iid='B004SD2562', r_ui=4.312176590030785, est=1, details={'actual_k': 0, 'was_impossible': False})"
            ]
          },
          "metadata": {
            "tags": []
          },
          "execution_count": 70
        }
      ]
    },
    {
      "cell_type": "code",
      "metadata": {
        "id": "URcg1RSjGxyT",
        "colab_type": "code",
        "colab": {}
      },
      "source": [
        "predictions_df = pd.DataFrame([[x.uid,x.est, x.iid] for x in predictions])"
      ],
      "execution_count": 0,
      "outputs": []
    },
    {
      "cell_type": "code",
      "metadata": {
        "id": "vxl5w4R-G4aC",
        "colab_type": "code",
        "colab": {
          "base_uri": "https://localhost:8080/",
          "height": 80
        },
        "outputId": "d92dbf23-6e55-4dca-c9a8-88e9999a5b9b"
      },
      "source": [
        "predictions_df.head(1)"
      ],
      "execution_count": 72,
      "outputs": [
        {
          "output_type": "execute_result",
          "data": {
            "text/html": [
              "<div>\n",
              "<style scoped>\n",
              "    .dataframe tbody tr th:only-of-type {\n",
              "        vertical-align: middle;\n",
              "    }\n",
              "\n",
              "    .dataframe tbody tr th {\n",
              "        vertical-align: top;\n",
              "    }\n",
              "\n",
              "    .dataframe thead th {\n",
              "        text-align: right;\n",
              "    }\n",
              "</style>\n",
              "<table border=\"1\" class=\"dataframe\">\n",
              "  <thead>\n",
              "    <tr style=\"text-align: right;\">\n",
              "      <th></th>\n",
              "      <th>0</th>\n",
              "      <th>1</th>\n",
              "      <th>2</th>\n",
              "    </tr>\n",
              "  </thead>\n",
              "  <tbody>\n",
              "    <tr>\n",
              "      <th>0</th>\n",
              "      <td>A3W4D8XOGLWUN5</td>\n",
              "      <td>1.0</td>\n",
              "      <td>B004SD2562</td>\n",
              "    </tr>\n",
              "  </tbody>\n",
              "</table>\n",
              "</div>"
            ],
            "text/plain": [
              "                0    1           2\n",
              "0  A3W4D8XOGLWUN5  1.0  B004SD2562"
            ]
          },
          "metadata": {
            "tags": []
          },
          "execution_count": 72
        }
      ]
    },
    {
      "cell_type": "code",
      "metadata": {
        "id": "R7LFzd7qG8px",
        "colab_type": "code",
        "colab": {}
      },
      "source": [
        "predictions_df.columns = [\"userId\",\"est_rating\", \"item\"]\n",
        "predictions_df.sort_values(by = [\"userId\", \"est_rating\"],ascending=False,inplace=True)"
      ],
      "execution_count": 0,
      "outputs": []
    },
    {
      "cell_type": "code",
      "metadata": {
        "id": "dfiLRbQ9HCf5",
        "colab_type": "code",
        "colab": {}
      },
      "source": [
        "top_10_recos = predictions_df.groupby(\"userId\").head(10).reset_index(drop=True)"
      ],
      "execution_count": 0,
      "outputs": []
    },
    {
      "cell_type": "code",
      "metadata": {
        "id": "569G9UcVGnsj",
        "colab_type": "code",
        "colab": {
          "base_uri": "https://localhost:8080/",
          "height": 359
        },
        "outputId": "d5512996-dd30-4e86-ba54-055e6d39a0e8"
      },
      "source": [
        "top_10_recos"
      ],
      "execution_count": 75,
      "outputs": [
        {
          "output_type": "execute_result",
          "data": {
            "text/html": [
              "<div>\n",
              "<style scoped>\n",
              "    .dataframe tbody tr th:only-of-type {\n",
              "        vertical-align: middle;\n",
              "    }\n",
              "\n",
              "    .dataframe tbody tr th {\n",
              "        vertical-align: top;\n",
              "    }\n",
              "\n",
              "    .dataframe thead th {\n",
              "        text-align: right;\n",
              "    }\n",
              "</style>\n",
              "<table border=\"1\" class=\"dataframe\">\n",
              "  <thead>\n",
              "    <tr style=\"text-align: right;\">\n",
              "      <th></th>\n",
              "      <th>userId</th>\n",
              "      <th>est_rating</th>\n",
              "      <th>item</th>\n",
              "    </tr>\n",
              "  </thead>\n",
              "  <tbody>\n",
              "    <tr>\n",
              "      <th>0</th>\n",
              "      <td>A3W4D8XOGLWUN5</td>\n",
              "      <td>5.0</td>\n",
              "      <td>B004Z9XZHM</td>\n",
              "    </tr>\n",
              "    <tr>\n",
              "      <th>1</th>\n",
              "      <td>A3W4D8XOGLWUN5</td>\n",
              "      <td>5.0</td>\n",
              "      <td>B0044CL1N0</td>\n",
              "    </tr>\n",
              "    <tr>\n",
              "      <th>2</th>\n",
              "      <td>A3W4D8XOGLWUN5</td>\n",
              "      <td>5.0</td>\n",
              "      <td>B002JKEM58</td>\n",
              "    </tr>\n",
              "    <tr>\n",
              "      <th>3</th>\n",
              "      <td>A3W4D8XOGLWUN5</td>\n",
              "      <td>5.0</td>\n",
              "      <td>B008EQYRRY</td>\n",
              "    </tr>\n",
              "    <tr>\n",
              "      <th>4</th>\n",
              "      <td>A3W4D8XOGLWUN5</td>\n",
              "      <td>5.0</td>\n",
              "      <td>B001HU4ASU</td>\n",
              "    </tr>\n",
              "    <tr>\n",
              "      <th>5</th>\n",
              "      <td>A3W4D8XOGLWUN5</td>\n",
              "      <td>5.0</td>\n",
              "      <td>B0011FQUUW</td>\n",
              "    </tr>\n",
              "    <tr>\n",
              "      <th>6</th>\n",
              "      <td>A3W4D8XOGLWUN5</td>\n",
              "      <td>5.0</td>\n",
              "      <td>B00011KM38</td>\n",
              "    </tr>\n",
              "    <tr>\n",
              "      <th>7</th>\n",
              "      <td>A3W4D8XOGLWUN5</td>\n",
              "      <td>5.0</td>\n",
              "      <td>B0064IBPJM</td>\n",
              "    </tr>\n",
              "    <tr>\n",
              "      <th>8</th>\n",
              "      <td>A3W4D8XOGLWUN5</td>\n",
              "      <td>5.0</td>\n",
              "      <td>B008S8WA18</td>\n",
              "    </tr>\n",
              "    <tr>\n",
              "      <th>9</th>\n",
              "      <td>A3W4D8XOGLWUN5</td>\n",
              "      <td>5.0</td>\n",
              "      <td>B00026Q16O</td>\n",
              "    </tr>\n",
              "  </tbody>\n",
              "</table>\n",
              "</div>"
            ],
            "text/plain": [
              "           userId  est_rating        item\n",
              "0  A3W4D8XOGLWUN5         5.0  B004Z9XZHM\n",
              "1  A3W4D8XOGLWUN5         5.0  B0044CL1N0\n",
              "2  A3W4D8XOGLWUN5         5.0  B002JKEM58\n",
              "3  A3W4D8XOGLWUN5         5.0  B008EQYRRY\n",
              "4  A3W4D8XOGLWUN5         5.0  B001HU4ASU\n",
              "5  A3W4D8XOGLWUN5         5.0  B0011FQUUW\n",
              "6  A3W4D8XOGLWUN5         5.0  B00011KM38\n",
              "7  A3W4D8XOGLWUN5         5.0  B0064IBPJM\n",
              "8  A3W4D8XOGLWUN5         5.0  B008S8WA18\n",
              "9  A3W4D8XOGLWUN5         5.0  B00026Q16O"
            ]
          },
          "metadata": {
            "tags": []
          },
          "execution_count": 75
        }
      ]
    }
  ]
}