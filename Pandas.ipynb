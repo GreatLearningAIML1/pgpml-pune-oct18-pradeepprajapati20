{
 "cells": [
  {
   "cell_type": "markdown",
   "metadata": {},
   "source": [
    "# Introduction to Pandas\n",
    "\n",
    "In this section, we will learn how to use pandas for data analysis. You can think of pandas as an extremely powerful version of Excel, with a lot more features. In this section of the course, you should go through the notebooks in this order:\n",
    "\n",
    "* Series\n",
    "* DataFrames\n",
    "* Missing Data\n",
    "* GroupBy\n",
    "* Merging,Joining,and Concatenating\n",
    "* Operations\n",
    "* Data Input and Output"
   ]
  },
  {
   "cell_type": "markdown",
   "metadata": {},
   "source": [
    "# Series"
   ]
  },
  {
   "cell_type": "markdown",
   "metadata": {},
   "source": [
    "The first main data type we will learn about for pandas is the Series data type. Let's import Pandas and explore the Series object.\n",
    "\n",
    "A Series is very similar to a NumPy array (in fact it is built on top of the NumPy array object). What differentiates the NumPy array from a Series, is that a Series can have axis labels, meaning it can be indexed by a label, instead of just a number location. It also doesn't need to hold numeric data, it can hold any arbitrary Python Object.\n",
    "\n",
    "Let's explore this concept through some examples:"
   ]
  },
  {
   "cell_type": "code",
   "execution_count": 1,
   "metadata": {
    "collapsed": true
   },
   "outputs": [],
   "source": [
    "import numpy as np\n",
    "import pandas as pd"
   ]
  },
  {
   "cell_type": "markdown",
   "metadata": {},
   "source": [
    "### Creating a Series\n",
    "\n",
    "You can convert a list,numpy array, or dictionary to a Series:"
   ]
  },
  {
   "cell_type": "code",
   "execution_count": 2,
   "metadata": {
    "collapsed": true
   },
   "outputs": [],
   "source": [
    "labels = ['a','b','c']\n",
    "labelsDuplicate = ['a','a','c']\n",
    "my_list = [10,20,30]\n",
    "arr = np.array([10,20,30])\n",
    "d = {'a':10,'b':20,'c':30}"
   ]
  },
  {
   "cell_type": "markdown",
   "metadata": {},
   "source": [
    "** Using Lists**"
   ]
  },
  {
   "cell_type": "code",
   "execution_count": 3,
   "metadata": {},
   "outputs": [
    {
     "data": {
      "text/plain": [
       "0    10\n",
       "1    20\n",
       "2    30\n",
       "dtype: int64"
      ]
     },
     "execution_count": 3,
     "metadata": {},
     "output_type": "execute_result"
    }
   ],
   "source": [
    "pd.Series(data=my_list)"
   ]
  },
  {
   "cell_type": "code",
   "execution_count": 4,
   "metadata": {},
   "outputs": [
    {
     "data": {
      "text/plain": [
       "a    10\n",
       "a    20\n",
       "c    30\n",
       "dtype: int64"
      ]
     },
     "execution_count": 4,
     "metadata": {},
     "output_type": "execute_result"
    }
   ],
   "source": [
    "pd.Series(data=my_list,index=labelsDuplicate)"
   ]
  },
  {
   "cell_type": "code",
   "execution_count": 5,
   "metadata": {},
   "outputs": [
    {
     "data": {
      "text/plain": [
       "a    10\n",
       "b    20\n",
       "c    30\n",
       "dtype: int64"
      ]
     },
     "execution_count": 5,
     "metadata": {},
     "output_type": "execute_result"
    }
   ],
   "source": [
    "pd.Series(my_list,labels)"
   ]
  },
  {
   "cell_type": "markdown",
   "metadata": {},
   "source": [
    "** NumPy Arrays **"
   ]
  },
  {
   "cell_type": "code",
   "execution_count": 6,
   "metadata": {},
   "outputs": [
    {
     "data": {
      "text/plain": [
       "0    10\n",
       "1    20\n",
       "2    30\n",
       "dtype: int64"
      ]
     },
     "execution_count": 6,
     "metadata": {},
     "output_type": "execute_result"
    }
   ],
   "source": [
    "pd.Series(arr)"
   ]
  },
  {
   "cell_type": "code",
   "execution_count": 7,
   "metadata": {},
   "outputs": [
    {
     "data": {
      "text/plain": [
       "a    10\n",
       "b    20\n",
       "c    30\n",
       "dtype: int64"
      ]
     },
     "execution_count": 7,
     "metadata": {},
     "output_type": "execute_result"
    }
   ],
   "source": [
    "pd.Series(arr,labels)"
   ]
  },
  {
   "cell_type": "markdown",
   "metadata": {},
   "source": [
    "** Dictionary**"
   ]
  },
  {
   "cell_type": "code",
   "execution_count": 8,
   "metadata": {},
   "outputs": [
    {
     "data": {
      "text/plain": [
       "a    10\n",
       "b    20\n",
       "c    30\n",
       "dtype: int64"
      ]
     },
     "execution_count": 8,
     "metadata": {},
     "output_type": "execute_result"
    }
   ],
   "source": [
    "pd.Series(d)"
   ]
  },
  {
   "cell_type": "markdown",
   "metadata": {},
   "source": [
    "### Data in a Series\n",
    "\n",
    "A pandas Series can hold a variety of object types:"
   ]
  },
  {
   "cell_type": "markdown",
   "metadata": {},
   "source": [
    "pd.Series(data=labels)"
   ]
  },
  {
   "cell_type": "code",
   "execution_count": 9,
   "metadata": {},
   "outputs": [
    {
     "data": {
      "text/plain": [
       "0      <built-in function sum>\n",
       "1    <built-in function print>\n",
       "2      <built-in function len>\n",
       "dtype: object"
      ]
     },
     "execution_count": 9,
     "metadata": {},
     "output_type": "execute_result"
    }
   ],
   "source": [
    "# Even functions (although unlikely that you will use this)\n",
    "pd.Series([sum,print,len])"
   ]
  },
  {
   "cell_type": "markdown",
   "metadata": {},
   "source": [
    "## Using an Index\n",
    "\n",
    "The key to using a Series is understanding its index. Pandas makes use of these index names or numbers by allowing for fast look ups of information (works like a hash table or dictionary).\n",
    "\n",
    "Let's see some examples of how to grab information from a Series. Let us create two sereis, ser1 and ser2:"
   ]
  },
  {
   "cell_type": "code",
   "execution_count": 10,
   "metadata": {
    "collapsed": true
   },
   "outputs": [],
   "source": [
    "ser1 = pd.Series([1,2,3,4],index = ['USA', 'Germany','USSR', 'Japan'])      "
   ]
  },
  {
   "cell_type": "code",
   "execution_count": 11,
   "metadata": {},
   "outputs": [
    {
     "data": {
      "text/plain": [
       "USA        1\n",
       "Germany    2\n",
       "USSR       3\n",
       "Japan      4\n",
       "dtype: int64"
      ]
     },
     "execution_count": 11,
     "metadata": {},
     "output_type": "execute_result"
    }
   ],
   "source": [
    "ser1"
   ]
  },
  {
   "cell_type": "code",
   "execution_count": 12,
   "metadata": {
    "collapsed": true
   },
   "outputs": [],
   "source": [
    "ser2 = pd.Series([1,2,5,4],index = ['USA', 'Germany','Italy', 'Japan'])"
   ]
  },
  {
   "cell_type": "code",
   "execution_count": 13,
   "metadata": {},
   "outputs": [
    {
     "data": {
      "text/plain": [
       "USA        1\n",
       "Germany    2\n",
       "Italy      5\n",
       "Japan      4\n",
       "dtype: int64"
      ]
     },
     "execution_count": 13,
     "metadata": {},
     "output_type": "execute_result"
    }
   ],
   "source": [
    "ser2"
   ]
  },
  {
   "cell_type": "code",
   "execution_count": 14,
   "metadata": {},
   "outputs": [
    {
     "data": {
      "text/plain": [
       "1"
      ]
     },
     "execution_count": 14,
     "metadata": {},
     "output_type": "execute_result"
    }
   ],
   "source": [
    "ser1['USA']"
   ]
  },
  {
   "cell_type": "markdown",
   "metadata": {},
   "source": [
    "Operations are then also done based off of index:"
   ]
  },
  {
   "cell_type": "code",
   "execution_count": 15,
   "metadata": {},
   "outputs": [
    {
     "data": {
      "text/plain": [
       "Germany    4.0\n",
       "Italy      NaN\n",
       "Japan      8.0\n",
       "USA        2.0\n",
       "USSR       NaN\n",
       "dtype: float64"
      ]
     },
     "execution_count": 15,
     "metadata": {},
     "output_type": "execute_result"
    }
   ],
   "source": [
    "ser1 + ser2"
   ]
  },
  {
   "cell_type": "markdown",
   "metadata": {},
   "source": [
    "# DataFrames\n",
    "\n",
    "DataFrames are the workhorse of pandas and are directly inspired by the R programming language. We can think of a DataFrame as a bunch of Series objects put together to share the same index. Let's use pandas to explore this topic!"
   ]
  },
  {
   "cell_type": "code",
   "execution_count": 16,
   "metadata": {
    "collapsed": true
   },
   "outputs": [],
   "source": [
    "from numpy.random import randn"
   ]
  },
  {
   "cell_type": "code",
   "execution_count": 17,
   "metadata": {
    "collapsed": true
   },
   "outputs": [],
   "source": [
    "np.random.seed(18052018)"
   ]
  },
  {
   "cell_type": "code",
   "execution_count": 18,
   "metadata": {
    "collapsed": true
   },
   "outputs": [],
   "source": [
    "df = pd.DataFrame(randn(5,4),index='A B C D new'.split(),columns='W X Y Z'.split())"
   ]
  },
  {
   "cell_type": "code",
   "execution_count": 19,
   "metadata": {},
   "outputs": [
    {
     "data": {
      "text/plain": [
       "['A', 'B', 'C', 'D', 'E']"
      ]
     },
     "execution_count": 19,
     "metadata": {},
     "output_type": "execute_result"
    }
   ],
   "source": [
    "'A B C D E'.split()"
   ]
  },
  {
   "cell_type": "code",
   "execution_count": 20,
   "metadata": {},
   "outputs": [
    {
     "data": {
      "text/plain": [
       "array([[ 1.65102952, -0.07753874, -1.22767616, -1.9875938 ],\n",
       "       [-1.48421625,  0.13800942,  0.02364818, -0.17660049],\n",
       "       [-0.62512174,  0.73838134,  0.24771635, -2.29343407],\n",
       "       [-1.16139499,  0.48900478, -0.68882367, -1.43946687],\n",
       "       [ 0.95914303,  0.98527949, -2.16908131, -0.4291437 ]])"
      ]
     },
     "execution_count": 20,
     "metadata": {},
     "output_type": "execute_result"
    }
   ],
   "source": [
    "randn(5,4)"
   ]
  },
  {
   "cell_type": "code",
   "execution_count": 21,
   "metadata": {},
   "outputs": [
    {
     "data": {
      "text/html": [
       "<div>\n",
       "<style scoped>\n",
       "    .dataframe tbody tr th:only-of-type {\n",
       "        vertical-align: middle;\n",
       "    }\n",
       "\n",
       "    .dataframe tbody tr th {\n",
       "        vertical-align: top;\n",
       "    }\n",
       "\n",
       "    .dataframe thead th {\n",
       "        text-align: right;\n",
       "    }\n",
       "</style>\n",
       "<table border=\"1\" class=\"dataframe\">\n",
       "  <thead>\n",
       "    <tr style=\"text-align: right;\">\n",
       "      <th></th>\n",
       "      <th>W</th>\n",
       "      <th>X</th>\n",
       "      <th>Y</th>\n",
       "      <th>Z</th>\n",
       "    </tr>\n",
       "  </thead>\n",
       "  <tbody>\n",
       "    <tr>\n",
       "      <th>A</th>\n",
       "      <td>-0.250223</td>\n",
       "      <td>-0.563542</td>\n",
       "      <td>1.550688</td>\n",
       "      <td>-0.972780</td>\n",
       "    </tr>\n",
       "    <tr>\n",
       "      <th>B</th>\n",
       "      <td>0.250881</td>\n",
       "      <td>1.561496</td>\n",
       "      <td>-0.806814</td>\n",
       "      <td>0.895329</td>\n",
       "    </tr>\n",
       "    <tr>\n",
       "      <th>C</th>\n",
       "      <td>1.998788</td>\n",
       "      <td>-0.997966</td>\n",
       "      <td>-0.056742</td>\n",
       "      <td>-0.980185</td>\n",
       "    </tr>\n",
       "    <tr>\n",
       "      <th>D</th>\n",
       "      <td>0.931698</td>\n",
       "      <td>-0.839301</td>\n",
       "      <td>0.095641</td>\n",
       "      <td>1.571638</td>\n",
       "    </tr>\n",
       "    <tr>\n",
       "      <th>new</th>\n",
       "      <td>0.085332</td>\n",
       "      <td>1.581096</td>\n",
       "      <td>0.531872</td>\n",
       "      <td>-0.031923</td>\n",
       "    </tr>\n",
       "  </tbody>\n",
       "</table>\n",
       "</div>"
      ],
      "text/plain": [
       "            W         X         Y         Z\n",
       "A   -0.250223 -0.563542  1.550688 -0.972780\n",
       "B    0.250881  1.561496 -0.806814  0.895329\n",
       "C    1.998788 -0.997966 -0.056742 -0.980185\n",
       "D    0.931698 -0.839301  0.095641  1.571638\n",
       "new  0.085332  1.581096  0.531872 -0.031923"
      ]
     },
     "execution_count": 21,
     "metadata": {},
     "output_type": "execute_result"
    }
   ],
   "source": [
    "df"
   ]
  },
  {
   "cell_type": "markdown",
   "metadata": {},
   "source": [
    "## Selection and Indexing\n",
    "\n",
    "Let's learn the various methods to grab data from a DataFrame"
   ]
  },
  {
   "cell_type": "code",
   "execution_count": 22,
   "metadata": {},
   "outputs": [
    {
     "data": {
      "text/plain": [
       "A     -0.250223\n",
       "B      0.250881\n",
       "C      1.998788\n",
       "D      0.931698\n",
       "new    0.085332\n",
       "Name: W, dtype: float64"
      ]
     },
     "execution_count": 22,
     "metadata": {},
     "output_type": "execute_result"
    }
   ],
   "source": [
    "df['W']"
   ]
  },
  {
   "cell_type": "code",
   "execution_count": 23,
   "metadata": {},
   "outputs": [
    {
     "data": {
      "text/html": [
       "<div>\n",
       "<style scoped>\n",
       "    .dataframe tbody tr th:only-of-type {\n",
       "        vertical-align: middle;\n",
       "    }\n",
       "\n",
       "    .dataframe tbody tr th {\n",
       "        vertical-align: top;\n",
       "    }\n",
       "\n",
       "    .dataframe thead th {\n",
       "        text-align: right;\n",
       "    }\n",
       "</style>\n",
       "<table border=\"1\" class=\"dataframe\">\n",
       "  <thead>\n",
       "    <tr style=\"text-align: right;\">\n",
       "      <th></th>\n",
       "      <th>W</th>\n",
       "      <th>Z</th>\n",
       "    </tr>\n",
       "  </thead>\n",
       "  <tbody>\n",
       "    <tr>\n",
       "      <th>A</th>\n",
       "      <td>-0.250223</td>\n",
       "      <td>-0.972780</td>\n",
       "    </tr>\n",
       "    <tr>\n",
       "      <th>B</th>\n",
       "      <td>0.250881</td>\n",
       "      <td>0.895329</td>\n",
       "    </tr>\n",
       "    <tr>\n",
       "      <th>C</th>\n",
       "      <td>1.998788</td>\n",
       "      <td>-0.980185</td>\n",
       "    </tr>\n",
       "    <tr>\n",
       "      <th>D</th>\n",
       "      <td>0.931698</td>\n",
       "      <td>1.571638</td>\n",
       "    </tr>\n",
       "    <tr>\n",
       "      <th>new</th>\n",
       "      <td>0.085332</td>\n",
       "      <td>-0.031923</td>\n",
       "    </tr>\n",
       "  </tbody>\n",
       "</table>\n",
       "</div>"
      ],
      "text/plain": [
       "            W         Z\n",
       "A   -0.250223 -0.972780\n",
       "B    0.250881  0.895329\n",
       "C    1.998788 -0.980185\n",
       "D    0.931698  1.571638\n",
       "new  0.085332 -0.031923"
      ]
     },
     "execution_count": 23,
     "metadata": {},
     "output_type": "execute_result"
    }
   ],
   "source": [
    "# Pass a list of column names\n",
    "df[['W','Z']]"
   ]
  },
  {
   "cell_type": "code",
   "execution_count": 24,
   "metadata": {},
   "outputs": [
    {
     "data": {
      "text/plain": [
       "A     -0.250223\n",
       "B      0.250881\n",
       "C      1.998788\n",
       "D      0.931698\n",
       "new    0.085332\n",
       "Name: W, dtype: float64"
      ]
     },
     "execution_count": 24,
     "metadata": {},
     "output_type": "execute_result"
    }
   ],
   "source": [
    "# SQL Syntax (NOT RECOMMENDED!)\n",
    "df.W"
   ]
  },
  {
   "cell_type": "markdown",
   "metadata": {},
   "source": [
    "DataFrame Columns are just Series"
   ]
  },
  {
   "cell_type": "code",
   "execution_count": 25,
   "metadata": {},
   "outputs": [
    {
     "data": {
      "text/plain": [
       "pandas.core.series.Series"
      ]
     },
     "execution_count": 25,
     "metadata": {},
     "output_type": "execute_result"
    }
   ],
   "source": [
    "type(df['W'])"
   ]
  },
  {
   "cell_type": "markdown",
   "metadata": {},
   "source": [
    "**Creating a new column:**"
   ]
  },
  {
   "cell_type": "code",
   "execution_count": 26,
   "metadata": {
    "collapsed": true
   },
   "outputs": [],
   "source": [
    "df['new'] = df['W'] + df['Y']"
   ]
  },
  {
   "cell_type": "code",
   "execution_count": 27,
   "metadata": {},
   "outputs": [
    {
     "data": {
      "text/html": [
       "<div>\n",
       "<style scoped>\n",
       "    .dataframe tbody tr th:only-of-type {\n",
       "        vertical-align: middle;\n",
       "    }\n",
       "\n",
       "    .dataframe tbody tr th {\n",
       "        vertical-align: top;\n",
       "    }\n",
       "\n",
       "    .dataframe thead th {\n",
       "        text-align: right;\n",
       "    }\n",
       "</style>\n",
       "<table border=\"1\" class=\"dataframe\">\n",
       "  <thead>\n",
       "    <tr style=\"text-align: right;\">\n",
       "      <th></th>\n",
       "      <th>W</th>\n",
       "      <th>X</th>\n",
       "      <th>Y</th>\n",
       "      <th>Z</th>\n",
       "      <th>new</th>\n",
       "    </tr>\n",
       "  </thead>\n",
       "  <tbody>\n",
       "    <tr>\n",
       "      <th>A</th>\n",
       "      <td>-0.250223</td>\n",
       "      <td>-0.563542</td>\n",
       "      <td>1.550688</td>\n",
       "      <td>-0.972780</td>\n",
       "      <td>1.300465</td>\n",
       "    </tr>\n",
       "    <tr>\n",
       "      <th>B</th>\n",
       "      <td>0.250881</td>\n",
       "      <td>1.561496</td>\n",
       "      <td>-0.806814</td>\n",
       "      <td>0.895329</td>\n",
       "      <td>-0.555932</td>\n",
       "    </tr>\n",
       "    <tr>\n",
       "      <th>C</th>\n",
       "      <td>1.998788</td>\n",
       "      <td>-0.997966</td>\n",
       "      <td>-0.056742</td>\n",
       "      <td>-0.980185</td>\n",
       "      <td>1.942047</td>\n",
       "    </tr>\n",
       "    <tr>\n",
       "      <th>D</th>\n",
       "      <td>0.931698</td>\n",
       "      <td>-0.839301</td>\n",
       "      <td>0.095641</td>\n",
       "      <td>1.571638</td>\n",
       "      <td>1.027339</td>\n",
       "    </tr>\n",
       "    <tr>\n",
       "      <th>new</th>\n",
       "      <td>0.085332</td>\n",
       "      <td>1.581096</td>\n",
       "      <td>0.531872</td>\n",
       "      <td>-0.031923</td>\n",
       "      <td>0.617204</td>\n",
       "    </tr>\n",
       "  </tbody>\n",
       "</table>\n",
       "</div>"
      ],
      "text/plain": [
       "            W         X         Y         Z       new\n",
       "A   -0.250223 -0.563542  1.550688 -0.972780  1.300465\n",
       "B    0.250881  1.561496 -0.806814  0.895329 -0.555932\n",
       "C    1.998788 -0.997966 -0.056742 -0.980185  1.942047\n",
       "D    0.931698 -0.839301  0.095641  1.571638  1.027339\n",
       "new  0.085332  1.581096  0.531872 -0.031923  0.617204"
      ]
     },
     "execution_count": 27,
     "metadata": {},
     "output_type": "execute_result"
    }
   ],
   "source": [
    "df"
   ]
  },
  {
   "cell_type": "markdown",
   "metadata": {},
   "source": [
    "** Removing Columns**"
   ]
  },
  {
   "cell_type": "code",
   "execution_count": 28,
   "metadata": {},
   "outputs": [
    {
     "data": {
      "text/html": [
       "<div>\n",
       "<style scoped>\n",
       "    .dataframe tbody tr th:only-of-type {\n",
       "        vertical-align: middle;\n",
       "    }\n",
       "\n",
       "    .dataframe tbody tr th {\n",
       "        vertical-align: top;\n",
       "    }\n",
       "\n",
       "    .dataframe thead th {\n",
       "        text-align: right;\n",
       "    }\n",
       "</style>\n",
       "<table border=\"1\" class=\"dataframe\">\n",
       "  <thead>\n",
       "    <tr style=\"text-align: right;\">\n",
       "      <th></th>\n",
       "      <th>W</th>\n",
       "      <th>X</th>\n",
       "      <th>Y</th>\n",
       "      <th>Z</th>\n",
       "    </tr>\n",
       "  </thead>\n",
       "  <tbody>\n",
       "    <tr>\n",
       "      <th>A</th>\n",
       "      <td>-0.250223</td>\n",
       "      <td>-0.563542</td>\n",
       "      <td>1.550688</td>\n",
       "      <td>-0.972780</td>\n",
       "    </tr>\n",
       "    <tr>\n",
       "      <th>B</th>\n",
       "      <td>0.250881</td>\n",
       "      <td>1.561496</td>\n",
       "      <td>-0.806814</td>\n",
       "      <td>0.895329</td>\n",
       "    </tr>\n",
       "    <tr>\n",
       "      <th>C</th>\n",
       "      <td>1.998788</td>\n",
       "      <td>-0.997966</td>\n",
       "      <td>-0.056742</td>\n",
       "      <td>-0.980185</td>\n",
       "    </tr>\n",
       "    <tr>\n",
       "      <th>D</th>\n",
       "      <td>0.931698</td>\n",
       "      <td>-0.839301</td>\n",
       "      <td>0.095641</td>\n",
       "      <td>1.571638</td>\n",
       "    </tr>\n",
       "    <tr>\n",
       "      <th>new</th>\n",
       "      <td>0.085332</td>\n",
       "      <td>1.581096</td>\n",
       "      <td>0.531872</td>\n",
       "      <td>-0.031923</td>\n",
       "    </tr>\n",
       "  </tbody>\n",
       "</table>\n",
       "</div>"
      ],
      "text/plain": [
       "            W         X         Y         Z\n",
       "A   -0.250223 -0.563542  1.550688 -0.972780\n",
       "B    0.250881  1.561496 -0.806814  0.895329\n",
       "C    1.998788 -0.997966 -0.056742 -0.980185\n",
       "D    0.931698 -0.839301  0.095641  1.571638\n",
       "new  0.085332  1.581096  0.531872 -0.031923"
      ]
     },
     "execution_count": 28,
     "metadata": {},
     "output_type": "execute_result"
    }
   ],
   "source": [
    "df.drop('new',axis=1)"
   ]
  },
  {
   "cell_type": "code",
   "execution_count": 29,
   "metadata": {},
   "outputs": [
    {
     "data": {
      "text/html": [
       "<div>\n",
       "<style scoped>\n",
       "    .dataframe tbody tr th:only-of-type {\n",
       "        vertical-align: middle;\n",
       "    }\n",
       "\n",
       "    .dataframe tbody tr th {\n",
       "        vertical-align: top;\n",
       "    }\n",
       "\n",
       "    .dataframe thead th {\n",
       "        text-align: right;\n",
       "    }\n",
       "</style>\n",
       "<table border=\"1\" class=\"dataframe\">\n",
       "  <thead>\n",
       "    <tr style=\"text-align: right;\">\n",
       "      <th></th>\n",
       "      <th>W</th>\n",
       "      <th>X</th>\n",
       "      <th>Y</th>\n",
       "      <th>Z</th>\n",
       "      <th>new</th>\n",
       "    </tr>\n",
       "  </thead>\n",
       "  <tbody>\n",
       "    <tr>\n",
       "      <th>A</th>\n",
       "      <td>-0.250223</td>\n",
       "      <td>-0.563542</td>\n",
       "      <td>1.550688</td>\n",
       "      <td>-0.972780</td>\n",
       "      <td>1.300465</td>\n",
       "    </tr>\n",
       "    <tr>\n",
       "      <th>B</th>\n",
       "      <td>0.250881</td>\n",
       "      <td>1.561496</td>\n",
       "      <td>-0.806814</td>\n",
       "      <td>0.895329</td>\n",
       "      <td>-0.555932</td>\n",
       "    </tr>\n",
       "    <tr>\n",
       "      <th>C</th>\n",
       "      <td>1.998788</td>\n",
       "      <td>-0.997966</td>\n",
       "      <td>-0.056742</td>\n",
       "      <td>-0.980185</td>\n",
       "      <td>1.942047</td>\n",
       "    </tr>\n",
       "    <tr>\n",
       "      <th>D</th>\n",
       "      <td>0.931698</td>\n",
       "      <td>-0.839301</td>\n",
       "      <td>0.095641</td>\n",
       "      <td>1.571638</td>\n",
       "      <td>1.027339</td>\n",
       "    </tr>\n",
       "    <tr>\n",
       "      <th>new</th>\n",
       "      <td>0.085332</td>\n",
       "      <td>1.581096</td>\n",
       "      <td>0.531872</td>\n",
       "      <td>-0.031923</td>\n",
       "      <td>0.617204</td>\n",
       "    </tr>\n",
       "  </tbody>\n",
       "</table>\n",
       "</div>"
      ],
      "text/plain": [
       "            W         X         Y         Z       new\n",
       "A   -0.250223 -0.563542  1.550688 -0.972780  1.300465\n",
       "B    0.250881  1.561496 -0.806814  0.895329 -0.555932\n",
       "C    1.998788 -0.997966 -0.056742 -0.980185  1.942047\n",
       "D    0.931698 -0.839301  0.095641  1.571638  1.027339\n",
       "new  0.085332  1.581096  0.531872 -0.031923  0.617204"
      ]
     },
     "execution_count": 29,
     "metadata": {},
     "output_type": "execute_result"
    }
   ],
   "source": [
    "# Not inplace unless specified!\n",
    "df"
   ]
  },
  {
   "cell_type": "code",
   "execution_count": 30,
   "metadata": {
    "collapsed": true
   },
   "outputs": [],
   "source": [
    "df.drop('new',axis=1,inplace=True)"
   ]
  },
  {
   "cell_type": "code",
   "execution_count": 31,
   "metadata": {},
   "outputs": [
    {
     "data": {
      "text/html": [
       "<div>\n",
       "<style scoped>\n",
       "    .dataframe tbody tr th:only-of-type {\n",
       "        vertical-align: middle;\n",
       "    }\n",
       "\n",
       "    .dataframe tbody tr th {\n",
       "        vertical-align: top;\n",
       "    }\n",
       "\n",
       "    .dataframe thead th {\n",
       "        text-align: right;\n",
       "    }\n",
       "</style>\n",
       "<table border=\"1\" class=\"dataframe\">\n",
       "  <thead>\n",
       "    <tr style=\"text-align: right;\">\n",
       "      <th></th>\n",
       "      <th>W</th>\n",
       "      <th>X</th>\n",
       "      <th>Y</th>\n",
       "      <th>Z</th>\n",
       "    </tr>\n",
       "  </thead>\n",
       "  <tbody>\n",
       "    <tr>\n",
       "      <th>A</th>\n",
       "      <td>-0.250223</td>\n",
       "      <td>-0.563542</td>\n",
       "      <td>1.550688</td>\n",
       "      <td>-0.972780</td>\n",
       "    </tr>\n",
       "    <tr>\n",
       "      <th>B</th>\n",
       "      <td>0.250881</td>\n",
       "      <td>1.561496</td>\n",
       "      <td>-0.806814</td>\n",
       "      <td>0.895329</td>\n",
       "    </tr>\n",
       "    <tr>\n",
       "      <th>C</th>\n",
       "      <td>1.998788</td>\n",
       "      <td>-0.997966</td>\n",
       "      <td>-0.056742</td>\n",
       "      <td>-0.980185</td>\n",
       "    </tr>\n",
       "    <tr>\n",
       "      <th>D</th>\n",
       "      <td>0.931698</td>\n",
       "      <td>-0.839301</td>\n",
       "      <td>0.095641</td>\n",
       "      <td>1.571638</td>\n",
       "    </tr>\n",
       "    <tr>\n",
       "      <th>new</th>\n",
       "      <td>0.085332</td>\n",
       "      <td>1.581096</td>\n",
       "      <td>0.531872</td>\n",
       "      <td>-0.031923</td>\n",
       "    </tr>\n",
       "  </tbody>\n",
       "</table>\n",
       "</div>"
      ],
      "text/plain": [
       "            W         X         Y         Z\n",
       "A   -0.250223 -0.563542  1.550688 -0.972780\n",
       "B    0.250881  1.561496 -0.806814  0.895329\n",
       "C    1.998788 -0.997966 -0.056742 -0.980185\n",
       "D    0.931698 -0.839301  0.095641  1.571638\n",
       "new  0.085332  1.581096  0.531872 -0.031923"
      ]
     },
     "execution_count": 31,
     "metadata": {},
     "output_type": "execute_result"
    }
   ],
   "source": [
    "df"
   ]
  },
  {
   "cell_type": "markdown",
   "metadata": {},
   "source": [
    "Can also drop rows this way:"
   ]
  },
  {
   "cell_type": "code",
   "execution_count": 32,
   "metadata": {
    "collapsed": true
   },
   "outputs": [],
   "source": [
    "df.drop('new',axis=0, inplace=True)"
   ]
  },
  {
   "cell_type": "markdown",
   "metadata": {},
   "source": [
    "** Selecting Rows**"
   ]
  },
  {
   "cell_type": "code",
   "execution_count": 33,
   "metadata": {},
   "outputs": [
    {
     "data": {
      "text/plain": [
       "W   -0.250223\n",
       "X   -0.563542\n",
       "Y    1.550688\n",
       "Z   -0.972780\n",
       "Name: A, dtype: float64"
      ]
     },
     "execution_count": 33,
     "metadata": {},
     "output_type": "execute_result"
    }
   ],
   "source": [
    "df.loc['A']"
   ]
  },
  {
   "cell_type": "code",
   "execution_count": 34,
   "metadata": {},
   "outputs": [
    {
     "data": {
      "text/html": [
       "<div>\n",
       "<style scoped>\n",
       "    .dataframe tbody tr th:only-of-type {\n",
       "        vertical-align: middle;\n",
       "    }\n",
       "\n",
       "    .dataframe tbody tr th {\n",
       "        vertical-align: top;\n",
       "    }\n",
       "\n",
       "    .dataframe thead th {\n",
       "        text-align: right;\n",
       "    }\n",
       "</style>\n",
       "<table border=\"1\" class=\"dataframe\">\n",
       "  <thead>\n",
       "    <tr style=\"text-align: right;\">\n",
       "      <th></th>\n",
       "      <th>W</th>\n",
       "      <th>X</th>\n",
       "      <th>Y</th>\n",
       "      <th>Z</th>\n",
       "    </tr>\n",
       "  </thead>\n",
       "  <tbody>\n",
       "    <tr>\n",
       "      <th>A</th>\n",
       "      <td>-0.250223</td>\n",
       "      <td>-0.563542</td>\n",
       "      <td>1.550688</td>\n",
       "      <td>-0.972780</td>\n",
       "    </tr>\n",
       "    <tr>\n",
       "      <th>B</th>\n",
       "      <td>0.250881</td>\n",
       "      <td>1.561496</td>\n",
       "      <td>-0.806814</td>\n",
       "      <td>0.895329</td>\n",
       "    </tr>\n",
       "    <tr>\n",
       "      <th>C</th>\n",
       "      <td>1.998788</td>\n",
       "      <td>-0.997966</td>\n",
       "      <td>-0.056742</td>\n",
       "      <td>-0.980185</td>\n",
       "    </tr>\n",
       "    <tr>\n",
       "      <th>D</th>\n",
       "      <td>0.931698</td>\n",
       "      <td>-0.839301</td>\n",
       "      <td>0.095641</td>\n",
       "      <td>1.571638</td>\n",
       "    </tr>\n",
       "  </tbody>\n",
       "</table>\n",
       "</div>"
      ],
      "text/plain": [
       "          W         X         Y         Z\n",
       "A -0.250223 -0.563542  1.550688 -0.972780\n",
       "B  0.250881  1.561496 -0.806814  0.895329\n",
       "C  1.998788 -0.997966 -0.056742 -0.980185\n",
       "D  0.931698 -0.839301  0.095641  1.571638"
      ]
     },
     "execution_count": 34,
     "metadata": {},
     "output_type": "execute_result"
    }
   ],
   "source": [
    "df"
   ]
  },
  {
   "cell_type": "code",
   "execution_count": 35,
   "metadata": {},
   "outputs": [
    {
     "data": {
      "text/plain": [
       "W    1.998788\n",
       "X   -0.997966\n",
       "Y   -0.056742\n",
       "Z   -0.980185\n",
       "Name: C, dtype: float64"
      ]
     },
     "execution_count": 35,
     "metadata": {},
     "output_type": "execute_result"
    }
   ],
   "source": [
    "df.iloc[2]"
   ]
  },
  {
   "cell_type": "markdown",
   "metadata": {},
   "source": [
    "** Selecting subset of rows and columns **"
   ]
  },
  {
   "cell_type": "code",
   "execution_count": 36,
   "metadata": {},
   "outputs": [
    {
     "data": {
      "text/plain": [
       "-0.8068137617467853"
      ]
     },
     "execution_count": 36,
     "metadata": {},
     "output_type": "execute_result"
    }
   ],
   "source": [
    "df.loc['B','Y']"
   ]
  },
  {
   "cell_type": "code",
   "execution_count": 37,
   "metadata": {},
   "outputs": [
    {
     "data": {
      "text/html": [
       "<div>\n",
       "<style scoped>\n",
       "    .dataframe tbody tr th:only-of-type {\n",
       "        vertical-align: middle;\n",
       "    }\n",
       "\n",
       "    .dataframe tbody tr th {\n",
       "        vertical-align: top;\n",
       "    }\n",
       "\n",
       "    .dataframe thead th {\n",
       "        text-align: right;\n",
       "    }\n",
       "</style>\n",
       "<table border=\"1\" class=\"dataframe\">\n",
       "  <thead>\n",
       "    <tr style=\"text-align: right;\">\n",
       "      <th></th>\n",
       "      <th>W</th>\n",
       "      <th>Y</th>\n",
       "    </tr>\n",
       "  </thead>\n",
       "  <tbody>\n",
       "    <tr>\n",
       "      <th>A</th>\n",
       "      <td>-0.250223</td>\n",
       "      <td>1.550688</td>\n",
       "    </tr>\n",
       "    <tr>\n",
       "      <th>B</th>\n",
       "      <td>0.250881</td>\n",
       "      <td>-0.806814</td>\n",
       "    </tr>\n",
       "  </tbody>\n",
       "</table>\n",
       "</div>"
      ],
      "text/plain": [
       "          W         Y\n",
       "A -0.250223  1.550688\n",
       "B  0.250881 -0.806814"
      ]
     },
     "execution_count": 37,
     "metadata": {},
     "output_type": "execute_result"
    }
   ],
   "source": [
    "df.loc[['A','B'],['W','Y']]"
   ]
  },
  {
   "cell_type": "markdown",
   "metadata": {},
   "source": [
    "### Conditional Selection\n",
    "\n",
    "An important feature of pandas is conditional selection using bracket notation, very similar to numpy:"
   ]
  },
  {
   "cell_type": "code",
   "execution_count": 38,
   "metadata": {},
   "outputs": [
    {
     "data": {
      "text/html": [
       "<div>\n",
       "<style scoped>\n",
       "    .dataframe tbody tr th:only-of-type {\n",
       "        vertical-align: middle;\n",
       "    }\n",
       "\n",
       "    .dataframe tbody tr th {\n",
       "        vertical-align: top;\n",
       "    }\n",
       "\n",
       "    .dataframe thead th {\n",
       "        text-align: right;\n",
       "    }\n",
       "</style>\n",
       "<table border=\"1\" class=\"dataframe\">\n",
       "  <thead>\n",
       "    <tr style=\"text-align: right;\">\n",
       "      <th></th>\n",
       "      <th>W</th>\n",
       "      <th>X</th>\n",
       "      <th>Y</th>\n",
       "      <th>Z</th>\n",
       "    </tr>\n",
       "  </thead>\n",
       "  <tbody>\n",
       "    <tr>\n",
       "      <th>A</th>\n",
       "      <td>-0.250223</td>\n",
       "      <td>-0.563542</td>\n",
       "      <td>1.550688</td>\n",
       "      <td>-0.972780</td>\n",
       "    </tr>\n",
       "    <tr>\n",
       "      <th>B</th>\n",
       "      <td>0.250881</td>\n",
       "      <td>1.561496</td>\n",
       "      <td>-0.806814</td>\n",
       "      <td>0.895329</td>\n",
       "    </tr>\n",
       "    <tr>\n",
       "      <th>C</th>\n",
       "      <td>1.998788</td>\n",
       "      <td>-0.997966</td>\n",
       "      <td>-0.056742</td>\n",
       "      <td>-0.980185</td>\n",
       "    </tr>\n",
       "    <tr>\n",
       "      <th>D</th>\n",
       "      <td>0.931698</td>\n",
       "      <td>-0.839301</td>\n",
       "      <td>0.095641</td>\n",
       "      <td>1.571638</td>\n",
       "    </tr>\n",
       "  </tbody>\n",
       "</table>\n",
       "</div>"
      ],
      "text/plain": [
       "          W         X         Y         Z\n",
       "A -0.250223 -0.563542  1.550688 -0.972780\n",
       "B  0.250881  1.561496 -0.806814  0.895329\n",
       "C  1.998788 -0.997966 -0.056742 -0.980185\n",
       "D  0.931698 -0.839301  0.095641  1.571638"
      ]
     },
     "execution_count": 38,
     "metadata": {},
     "output_type": "execute_result"
    }
   ],
   "source": [
    "df"
   ]
  },
  {
   "cell_type": "code",
   "execution_count": 39,
   "metadata": {},
   "outputs": [
    {
     "data": {
      "text/html": [
       "<div>\n",
       "<style scoped>\n",
       "    .dataframe tbody tr th:only-of-type {\n",
       "        vertical-align: middle;\n",
       "    }\n",
       "\n",
       "    .dataframe tbody tr th {\n",
       "        vertical-align: top;\n",
       "    }\n",
       "\n",
       "    .dataframe thead th {\n",
       "        text-align: right;\n",
       "    }\n",
       "</style>\n",
       "<table border=\"1\" class=\"dataframe\">\n",
       "  <thead>\n",
       "    <tr style=\"text-align: right;\">\n",
       "      <th></th>\n",
       "      <th>W</th>\n",
       "      <th>X</th>\n",
       "      <th>Y</th>\n",
       "      <th>Z</th>\n",
       "    </tr>\n",
       "  </thead>\n",
       "  <tbody>\n",
       "    <tr>\n",
       "      <th>A</th>\n",
       "      <td>False</td>\n",
       "      <td>False</td>\n",
       "      <td>True</td>\n",
       "      <td>False</td>\n",
       "    </tr>\n",
       "    <tr>\n",
       "      <th>B</th>\n",
       "      <td>True</td>\n",
       "      <td>True</td>\n",
       "      <td>False</td>\n",
       "      <td>True</td>\n",
       "    </tr>\n",
       "    <tr>\n",
       "      <th>C</th>\n",
       "      <td>True</td>\n",
       "      <td>False</td>\n",
       "      <td>False</td>\n",
       "      <td>False</td>\n",
       "    </tr>\n",
       "    <tr>\n",
       "      <th>D</th>\n",
       "      <td>True</td>\n",
       "      <td>False</td>\n",
       "      <td>True</td>\n",
       "      <td>True</td>\n",
       "    </tr>\n",
       "  </tbody>\n",
       "</table>\n",
       "</div>"
      ],
      "text/plain": [
       "       W      X      Y      Z\n",
       "A  False  False   True  False\n",
       "B   True   True  False   True\n",
       "C   True  False  False  False\n",
       "D   True  False   True   True"
      ]
     },
     "execution_count": 39,
     "metadata": {},
     "output_type": "execute_result"
    }
   ],
   "source": [
    "df>0"
   ]
  },
  {
   "cell_type": "code",
   "execution_count": 40,
   "metadata": {},
   "outputs": [
    {
     "data": {
      "text/html": [
       "<div>\n",
       "<style scoped>\n",
       "    .dataframe tbody tr th:only-of-type {\n",
       "        vertical-align: middle;\n",
       "    }\n",
       "\n",
       "    .dataframe tbody tr th {\n",
       "        vertical-align: top;\n",
       "    }\n",
       "\n",
       "    .dataframe thead th {\n",
       "        text-align: right;\n",
       "    }\n",
       "</style>\n",
       "<table border=\"1\" class=\"dataframe\">\n",
       "  <thead>\n",
       "    <tr style=\"text-align: right;\">\n",
       "      <th></th>\n",
       "      <th>W</th>\n",
       "      <th>X</th>\n",
       "      <th>Y</th>\n",
       "      <th>Z</th>\n",
       "    </tr>\n",
       "  </thead>\n",
       "  <tbody>\n",
       "    <tr>\n",
       "      <th>A</th>\n",
       "      <td>NaN</td>\n",
       "      <td>NaN</td>\n",
       "      <td>1.550688</td>\n",
       "      <td>NaN</td>\n",
       "    </tr>\n",
       "    <tr>\n",
       "      <th>B</th>\n",
       "      <td>0.250881</td>\n",
       "      <td>1.561496</td>\n",
       "      <td>NaN</td>\n",
       "      <td>0.895329</td>\n",
       "    </tr>\n",
       "    <tr>\n",
       "      <th>C</th>\n",
       "      <td>1.998788</td>\n",
       "      <td>NaN</td>\n",
       "      <td>NaN</td>\n",
       "      <td>NaN</td>\n",
       "    </tr>\n",
       "    <tr>\n",
       "      <th>D</th>\n",
       "      <td>0.931698</td>\n",
       "      <td>NaN</td>\n",
       "      <td>0.095641</td>\n",
       "      <td>1.571638</td>\n",
       "    </tr>\n",
       "  </tbody>\n",
       "</table>\n",
       "</div>"
      ],
      "text/plain": [
       "          W         X         Y         Z\n",
       "A       NaN       NaN  1.550688       NaN\n",
       "B  0.250881  1.561496       NaN  0.895329\n",
       "C  1.998788       NaN       NaN       NaN\n",
       "D  0.931698       NaN  0.095641  1.571638"
      ]
     },
     "execution_count": 40,
     "metadata": {},
     "output_type": "execute_result"
    }
   ],
   "source": [
    "df[df>0]"
   ]
  },
  {
   "cell_type": "code",
   "execution_count": 41,
   "metadata": {},
   "outputs": [
    {
     "data": {
      "text/html": [
       "<div>\n",
       "<style scoped>\n",
       "    .dataframe tbody tr th:only-of-type {\n",
       "        vertical-align: middle;\n",
       "    }\n",
       "\n",
       "    .dataframe tbody tr th {\n",
       "        vertical-align: top;\n",
       "    }\n",
       "\n",
       "    .dataframe thead th {\n",
       "        text-align: right;\n",
       "    }\n",
       "</style>\n",
       "<table border=\"1\" class=\"dataframe\">\n",
       "  <thead>\n",
       "    <tr style=\"text-align: right;\">\n",
       "      <th></th>\n",
       "      <th>W</th>\n",
       "      <th>X</th>\n",
       "      <th>Y</th>\n",
       "      <th>Z</th>\n",
       "    </tr>\n",
       "  </thead>\n",
       "  <tbody>\n",
       "    <tr>\n",
       "      <th>B</th>\n",
       "      <td>0.250881</td>\n",
       "      <td>1.561496</td>\n",
       "      <td>-0.806814</td>\n",
       "      <td>0.895329</td>\n",
       "    </tr>\n",
       "    <tr>\n",
       "      <th>C</th>\n",
       "      <td>1.998788</td>\n",
       "      <td>-0.997966</td>\n",
       "      <td>-0.056742</td>\n",
       "      <td>-0.980185</td>\n",
       "    </tr>\n",
       "    <tr>\n",
       "      <th>D</th>\n",
       "      <td>0.931698</td>\n",
       "      <td>-0.839301</td>\n",
       "      <td>0.095641</td>\n",
       "      <td>1.571638</td>\n",
       "    </tr>\n",
       "  </tbody>\n",
       "</table>\n",
       "</div>"
      ],
      "text/plain": [
       "          W         X         Y         Z\n",
       "B  0.250881  1.561496 -0.806814  0.895329\n",
       "C  1.998788 -0.997966 -0.056742 -0.980185\n",
       "D  0.931698 -0.839301  0.095641  1.571638"
      ]
     },
     "execution_count": 41,
     "metadata": {},
     "output_type": "execute_result"
    }
   ],
   "source": [
    "df[df['W']>0]"
   ]
  },
  {
   "cell_type": "code",
   "execution_count": 42,
   "metadata": {},
   "outputs": [
    {
     "data": {
      "text/plain": [
       "B   -0.806814\n",
       "C   -0.056742\n",
       "D    0.095641\n",
       "Name: Y, dtype: float64"
      ]
     },
     "execution_count": 42,
     "metadata": {},
     "output_type": "execute_result"
    }
   ],
   "source": [
    "df[df['W']>0]['Y']"
   ]
  },
  {
   "cell_type": "code",
   "execution_count": 43,
   "metadata": {},
   "outputs": [
    {
     "data": {
      "text/html": [
       "<div>\n",
       "<style scoped>\n",
       "    .dataframe tbody tr th:only-of-type {\n",
       "        vertical-align: middle;\n",
       "    }\n",
       "\n",
       "    .dataframe tbody tr th {\n",
       "        vertical-align: top;\n",
       "    }\n",
       "\n",
       "    .dataframe thead th {\n",
       "        text-align: right;\n",
       "    }\n",
       "</style>\n",
       "<table border=\"1\" class=\"dataframe\">\n",
       "  <thead>\n",
       "    <tr style=\"text-align: right;\">\n",
       "      <th></th>\n",
       "      <th>Y</th>\n",
       "      <th>X</th>\n",
       "    </tr>\n",
       "  </thead>\n",
       "  <tbody>\n",
       "    <tr>\n",
       "      <th>B</th>\n",
       "      <td>-0.806814</td>\n",
       "      <td>1.561496</td>\n",
       "    </tr>\n",
       "    <tr>\n",
       "      <th>C</th>\n",
       "      <td>-0.056742</td>\n",
       "      <td>-0.997966</td>\n",
       "    </tr>\n",
       "    <tr>\n",
       "      <th>D</th>\n",
       "      <td>0.095641</td>\n",
       "      <td>-0.839301</td>\n",
       "    </tr>\n",
       "  </tbody>\n",
       "</table>\n",
       "</div>"
      ],
      "text/plain": [
       "          Y         X\n",
       "B -0.806814  1.561496\n",
       "C -0.056742 -0.997966\n",
       "D  0.095641 -0.839301"
      ]
     },
     "execution_count": 43,
     "metadata": {},
     "output_type": "execute_result"
    }
   ],
   "source": [
    "df[df['W']>0][['Y','X']]"
   ]
  },
  {
   "cell_type": "markdown",
   "metadata": {},
   "source": [
    "For two conditions you can use | and & with parenthesis:"
   ]
  },
  {
   "cell_type": "code",
   "execution_count": 44,
   "metadata": {},
   "outputs": [
    {
     "data": {
      "text/html": [
       "<div>\n",
       "<style scoped>\n",
       "    .dataframe tbody tr th:only-of-type {\n",
       "        vertical-align: middle;\n",
       "    }\n",
       "\n",
       "    .dataframe tbody tr th {\n",
       "        vertical-align: top;\n",
       "    }\n",
       "\n",
       "    .dataframe thead th {\n",
       "        text-align: right;\n",
       "    }\n",
       "</style>\n",
       "<table border=\"1\" class=\"dataframe\">\n",
       "  <thead>\n",
       "    <tr style=\"text-align: right;\">\n",
       "      <th></th>\n",
       "      <th>W</th>\n",
       "      <th>X</th>\n",
       "      <th>Y</th>\n",
       "      <th>Z</th>\n",
       "    </tr>\n",
       "  </thead>\n",
       "  <tbody>\n",
       "  </tbody>\n",
       "</table>\n",
       "</div>"
      ],
      "text/plain": [
       "Empty DataFrame\n",
       "Columns: [W, X, Y, Z]\n",
       "Index: []"
      ]
     },
     "execution_count": 44,
     "metadata": {},
     "output_type": "execute_result"
    }
   ],
   "source": [
    "df[(df['W']>0) & (df['Y'] > 1)]"
   ]
  },
  {
   "cell_type": "markdown",
   "metadata": {},
   "source": [
    "## More Index Details\n",
    "\n",
    "Let's discuss some more features of indexing, including resetting the index or setting it something else. We'll also talk about index hierarchy!"
   ]
  },
  {
   "cell_type": "code",
   "execution_count": 45,
   "metadata": {},
   "outputs": [
    {
     "data": {
      "text/html": [
       "<div>\n",
       "<style scoped>\n",
       "    .dataframe tbody tr th:only-of-type {\n",
       "        vertical-align: middle;\n",
       "    }\n",
       "\n",
       "    .dataframe tbody tr th {\n",
       "        vertical-align: top;\n",
       "    }\n",
       "\n",
       "    .dataframe thead th {\n",
       "        text-align: right;\n",
       "    }\n",
       "</style>\n",
       "<table border=\"1\" class=\"dataframe\">\n",
       "  <thead>\n",
       "    <tr style=\"text-align: right;\">\n",
       "      <th></th>\n",
       "      <th>W</th>\n",
       "      <th>X</th>\n",
       "      <th>Y</th>\n",
       "      <th>Z</th>\n",
       "    </tr>\n",
       "  </thead>\n",
       "  <tbody>\n",
       "    <tr>\n",
       "      <th>A</th>\n",
       "      <td>-0.250223</td>\n",
       "      <td>-0.563542</td>\n",
       "      <td>1.550688</td>\n",
       "      <td>-0.972780</td>\n",
       "    </tr>\n",
       "    <tr>\n",
       "      <th>B</th>\n",
       "      <td>0.250881</td>\n",
       "      <td>1.561496</td>\n",
       "      <td>-0.806814</td>\n",
       "      <td>0.895329</td>\n",
       "    </tr>\n",
       "    <tr>\n",
       "      <th>C</th>\n",
       "      <td>1.998788</td>\n",
       "      <td>-0.997966</td>\n",
       "      <td>-0.056742</td>\n",
       "      <td>-0.980185</td>\n",
       "    </tr>\n",
       "    <tr>\n",
       "      <th>D</th>\n",
       "      <td>0.931698</td>\n",
       "      <td>-0.839301</td>\n",
       "      <td>0.095641</td>\n",
       "      <td>1.571638</td>\n",
       "    </tr>\n",
       "  </tbody>\n",
       "</table>\n",
       "</div>"
      ],
      "text/plain": [
       "          W         X         Y         Z\n",
       "A -0.250223 -0.563542  1.550688 -0.972780\n",
       "B  0.250881  1.561496 -0.806814  0.895329\n",
       "C  1.998788 -0.997966 -0.056742 -0.980185\n",
       "D  0.931698 -0.839301  0.095641  1.571638"
      ]
     },
     "execution_count": 45,
     "metadata": {},
     "output_type": "execute_result"
    }
   ],
   "source": [
    "df"
   ]
  },
  {
   "cell_type": "code",
   "execution_count": 46,
   "metadata": {},
   "outputs": [
    {
     "data": {
      "text/html": [
       "<div>\n",
       "<style scoped>\n",
       "    .dataframe tbody tr th:only-of-type {\n",
       "        vertical-align: middle;\n",
       "    }\n",
       "\n",
       "    .dataframe tbody tr th {\n",
       "        vertical-align: top;\n",
       "    }\n",
       "\n",
       "    .dataframe thead th {\n",
       "        text-align: right;\n",
       "    }\n",
       "</style>\n",
       "<table border=\"1\" class=\"dataframe\">\n",
       "  <thead>\n",
       "    <tr style=\"text-align: right;\">\n",
       "      <th></th>\n",
       "      <th>index</th>\n",
       "      <th>W</th>\n",
       "      <th>X</th>\n",
       "      <th>Y</th>\n",
       "      <th>Z</th>\n",
       "    </tr>\n",
       "  </thead>\n",
       "  <tbody>\n",
       "    <tr>\n",
       "      <th>0</th>\n",
       "      <td>A</td>\n",
       "      <td>-0.250223</td>\n",
       "      <td>-0.563542</td>\n",
       "      <td>1.550688</td>\n",
       "      <td>-0.972780</td>\n",
       "    </tr>\n",
       "    <tr>\n",
       "      <th>1</th>\n",
       "      <td>B</td>\n",
       "      <td>0.250881</td>\n",
       "      <td>1.561496</td>\n",
       "      <td>-0.806814</td>\n",
       "      <td>0.895329</td>\n",
       "    </tr>\n",
       "    <tr>\n",
       "      <th>2</th>\n",
       "      <td>C</td>\n",
       "      <td>1.998788</td>\n",
       "      <td>-0.997966</td>\n",
       "      <td>-0.056742</td>\n",
       "      <td>-0.980185</td>\n",
       "    </tr>\n",
       "    <tr>\n",
       "      <th>3</th>\n",
       "      <td>D</td>\n",
       "      <td>0.931698</td>\n",
       "      <td>-0.839301</td>\n",
       "      <td>0.095641</td>\n",
       "      <td>1.571638</td>\n",
       "    </tr>\n",
       "  </tbody>\n",
       "</table>\n",
       "</div>"
      ],
      "text/plain": [
       "  index         W         X         Y         Z\n",
       "0     A -0.250223 -0.563542  1.550688 -0.972780\n",
       "1     B  0.250881  1.561496 -0.806814  0.895329\n",
       "2     C  1.998788 -0.997966 -0.056742 -0.980185\n",
       "3     D  0.931698 -0.839301  0.095641  1.571638"
      ]
     },
     "execution_count": 46,
     "metadata": {},
     "output_type": "execute_result"
    }
   ],
   "source": [
    "# Reset to default 0,1...n index\n",
    "df.reset_index()"
   ]
  },
  {
   "cell_type": "code",
   "execution_count": 47,
   "metadata": {
    "collapsed": true
   },
   "outputs": [],
   "source": [
    "#newind = 'CA NY WY OR CO'.split()\n",
    "newind = 'CA NY WY OR'.split()"
   ]
  },
  {
   "cell_type": "code",
   "execution_count": 48,
   "metadata": {
    "collapsed": true
   },
   "outputs": [],
   "source": [
    "df['States'] = newind"
   ]
  },
  {
   "cell_type": "code",
   "execution_count": 49,
   "metadata": {},
   "outputs": [
    {
     "data": {
      "text/html": [
       "<div>\n",
       "<style scoped>\n",
       "    .dataframe tbody tr th:only-of-type {\n",
       "        vertical-align: middle;\n",
       "    }\n",
       "\n",
       "    .dataframe tbody tr th {\n",
       "        vertical-align: top;\n",
       "    }\n",
       "\n",
       "    .dataframe thead th {\n",
       "        text-align: right;\n",
       "    }\n",
       "</style>\n",
       "<table border=\"1\" class=\"dataframe\">\n",
       "  <thead>\n",
       "    <tr style=\"text-align: right;\">\n",
       "      <th></th>\n",
       "      <th>W</th>\n",
       "      <th>X</th>\n",
       "      <th>Y</th>\n",
       "      <th>Z</th>\n",
       "      <th>States</th>\n",
       "    </tr>\n",
       "  </thead>\n",
       "  <tbody>\n",
       "    <tr>\n",
       "      <th>A</th>\n",
       "      <td>-0.250223</td>\n",
       "      <td>-0.563542</td>\n",
       "      <td>1.550688</td>\n",
       "      <td>-0.972780</td>\n",
       "      <td>CA</td>\n",
       "    </tr>\n",
       "    <tr>\n",
       "      <th>B</th>\n",
       "      <td>0.250881</td>\n",
       "      <td>1.561496</td>\n",
       "      <td>-0.806814</td>\n",
       "      <td>0.895329</td>\n",
       "      <td>NY</td>\n",
       "    </tr>\n",
       "    <tr>\n",
       "      <th>C</th>\n",
       "      <td>1.998788</td>\n",
       "      <td>-0.997966</td>\n",
       "      <td>-0.056742</td>\n",
       "      <td>-0.980185</td>\n",
       "      <td>WY</td>\n",
       "    </tr>\n",
       "    <tr>\n",
       "      <th>D</th>\n",
       "      <td>0.931698</td>\n",
       "      <td>-0.839301</td>\n",
       "      <td>0.095641</td>\n",
       "      <td>1.571638</td>\n",
       "      <td>OR</td>\n",
       "    </tr>\n",
       "  </tbody>\n",
       "</table>\n",
       "</div>"
      ],
      "text/plain": [
       "          W         X         Y         Z States\n",
       "A -0.250223 -0.563542  1.550688 -0.972780     CA\n",
       "B  0.250881  1.561496 -0.806814  0.895329     NY\n",
       "C  1.998788 -0.997966 -0.056742 -0.980185     WY\n",
       "D  0.931698 -0.839301  0.095641  1.571638     OR"
      ]
     },
     "execution_count": 49,
     "metadata": {},
     "output_type": "execute_result"
    }
   ],
   "source": [
    "df"
   ]
  },
  {
   "cell_type": "code",
   "execution_count": 50,
   "metadata": {},
   "outputs": [
    {
     "data": {
      "text/html": [
       "<div>\n",
       "<style scoped>\n",
       "    .dataframe tbody tr th:only-of-type {\n",
       "        vertical-align: middle;\n",
       "    }\n",
       "\n",
       "    .dataframe tbody tr th {\n",
       "        vertical-align: top;\n",
       "    }\n",
       "\n",
       "    .dataframe thead th {\n",
       "        text-align: right;\n",
       "    }\n",
       "</style>\n",
       "<table border=\"1\" class=\"dataframe\">\n",
       "  <thead>\n",
       "    <tr style=\"text-align: right;\">\n",
       "      <th></th>\n",
       "      <th>W</th>\n",
       "      <th>X</th>\n",
       "      <th>Y</th>\n",
       "      <th>Z</th>\n",
       "    </tr>\n",
       "    <tr>\n",
       "      <th>States</th>\n",
       "      <th></th>\n",
       "      <th></th>\n",
       "      <th></th>\n",
       "      <th></th>\n",
       "    </tr>\n",
       "  </thead>\n",
       "  <tbody>\n",
       "    <tr>\n",
       "      <th>CA</th>\n",
       "      <td>-0.250223</td>\n",
       "      <td>-0.563542</td>\n",
       "      <td>1.550688</td>\n",
       "      <td>-0.972780</td>\n",
       "    </tr>\n",
       "    <tr>\n",
       "      <th>NY</th>\n",
       "      <td>0.250881</td>\n",
       "      <td>1.561496</td>\n",
       "      <td>-0.806814</td>\n",
       "      <td>0.895329</td>\n",
       "    </tr>\n",
       "    <tr>\n",
       "      <th>WY</th>\n",
       "      <td>1.998788</td>\n",
       "      <td>-0.997966</td>\n",
       "      <td>-0.056742</td>\n",
       "      <td>-0.980185</td>\n",
       "    </tr>\n",
       "    <tr>\n",
       "      <th>OR</th>\n",
       "      <td>0.931698</td>\n",
       "      <td>-0.839301</td>\n",
       "      <td>0.095641</td>\n",
       "      <td>1.571638</td>\n",
       "    </tr>\n",
       "  </tbody>\n",
       "</table>\n",
       "</div>"
      ],
      "text/plain": [
       "               W         X         Y         Z\n",
       "States                                        \n",
       "CA     -0.250223 -0.563542  1.550688 -0.972780\n",
       "NY      0.250881  1.561496 -0.806814  0.895329\n",
       "WY      1.998788 -0.997966 -0.056742 -0.980185\n",
       "OR      0.931698 -0.839301  0.095641  1.571638"
      ]
     },
     "execution_count": 50,
     "metadata": {},
     "output_type": "execute_result"
    }
   ],
   "source": [
    "df.set_index('States')"
   ]
  },
  {
   "cell_type": "code",
   "execution_count": 51,
   "metadata": {},
   "outputs": [
    {
     "data": {
      "text/html": [
       "<div>\n",
       "<style scoped>\n",
       "    .dataframe tbody tr th:only-of-type {\n",
       "        vertical-align: middle;\n",
       "    }\n",
       "\n",
       "    .dataframe tbody tr th {\n",
       "        vertical-align: top;\n",
       "    }\n",
       "\n",
       "    .dataframe thead th {\n",
       "        text-align: right;\n",
       "    }\n",
       "</style>\n",
       "<table border=\"1\" class=\"dataframe\">\n",
       "  <thead>\n",
       "    <tr style=\"text-align: right;\">\n",
       "      <th></th>\n",
       "      <th>W</th>\n",
       "      <th>X</th>\n",
       "      <th>Y</th>\n",
       "      <th>Z</th>\n",
       "      <th>States</th>\n",
       "    </tr>\n",
       "  </thead>\n",
       "  <tbody>\n",
       "    <tr>\n",
       "      <th>A</th>\n",
       "      <td>-0.250223</td>\n",
       "      <td>-0.563542</td>\n",
       "      <td>1.550688</td>\n",
       "      <td>-0.972780</td>\n",
       "      <td>CA</td>\n",
       "    </tr>\n",
       "    <tr>\n",
       "      <th>B</th>\n",
       "      <td>0.250881</td>\n",
       "      <td>1.561496</td>\n",
       "      <td>-0.806814</td>\n",
       "      <td>0.895329</td>\n",
       "      <td>NY</td>\n",
       "    </tr>\n",
       "    <tr>\n",
       "      <th>C</th>\n",
       "      <td>1.998788</td>\n",
       "      <td>-0.997966</td>\n",
       "      <td>-0.056742</td>\n",
       "      <td>-0.980185</td>\n",
       "      <td>WY</td>\n",
       "    </tr>\n",
       "    <tr>\n",
       "      <th>D</th>\n",
       "      <td>0.931698</td>\n",
       "      <td>-0.839301</td>\n",
       "      <td>0.095641</td>\n",
       "      <td>1.571638</td>\n",
       "      <td>OR</td>\n",
       "    </tr>\n",
       "  </tbody>\n",
       "</table>\n",
       "</div>"
      ],
      "text/plain": [
       "          W         X         Y         Z States\n",
       "A -0.250223 -0.563542  1.550688 -0.972780     CA\n",
       "B  0.250881  1.561496 -0.806814  0.895329     NY\n",
       "C  1.998788 -0.997966 -0.056742 -0.980185     WY\n",
       "D  0.931698 -0.839301  0.095641  1.571638     OR"
      ]
     },
     "execution_count": 51,
     "metadata": {},
     "output_type": "execute_result"
    }
   ],
   "source": [
    "df"
   ]
  },
  {
   "cell_type": "code",
   "execution_count": 52,
   "metadata": {
    "collapsed": true
   },
   "outputs": [],
   "source": [
    "df.set_index('States',inplace=True)"
   ]
  },
  {
   "cell_type": "code",
   "execution_count": 53,
   "metadata": {},
   "outputs": [
    {
     "data": {
      "text/html": [
       "<div>\n",
       "<style scoped>\n",
       "    .dataframe tbody tr th:only-of-type {\n",
       "        vertical-align: middle;\n",
       "    }\n",
       "\n",
       "    .dataframe tbody tr th {\n",
       "        vertical-align: top;\n",
       "    }\n",
       "\n",
       "    .dataframe thead th {\n",
       "        text-align: right;\n",
       "    }\n",
       "</style>\n",
       "<table border=\"1\" class=\"dataframe\">\n",
       "  <thead>\n",
       "    <tr style=\"text-align: right;\">\n",
       "      <th></th>\n",
       "      <th>W</th>\n",
       "      <th>X</th>\n",
       "      <th>Y</th>\n",
       "      <th>Z</th>\n",
       "    </tr>\n",
       "    <tr>\n",
       "      <th>States</th>\n",
       "      <th></th>\n",
       "      <th></th>\n",
       "      <th></th>\n",
       "      <th></th>\n",
       "    </tr>\n",
       "  </thead>\n",
       "  <tbody>\n",
       "    <tr>\n",
       "      <th>CA</th>\n",
       "      <td>-0.250223</td>\n",
       "      <td>-0.563542</td>\n",
       "      <td>1.550688</td>\n",
       "      <td>-0.972780</td>\n",
       "    </tr>\n",
       "    <tr>\n",
       "      <th>NY</th>\n",
       "      <td>0.250881</td>\n",
       "      <td>1.561496</td>\n",
       "      <td>-0.806814</td>\n",
       "      <td>0.895329</td>\n",
       "    </tr>\n",
       "    <tr>\n",
       "      <th>WY</th>\n",
       "      <td>1.998788</td>\n",
       "      <td>-0.997966</td>\n",
       "      <td>-0.056742</td>\n",
       "      <td>-0.980185</td>\n",
       "    </tr>\n",
       "    <tr>\n",
       "      <th>OR</th>\n",
       "      <td>0.931698</td>\n",
       "      <td>-0.839301</td>\n",
       "      <td>0.095641</td>\n",
       "      <td>1.571638</td>\n",
       "    </tr>\n",
       "  </tbody>\n",
       "</table>\n",
       "</div>"
      ],
      "text/plain": [
       "               W         X         Y         Z\n",
       "States                                        \n",
       "CA     -0.250223 -0.563542  1.550688 -0.972780\n",
       "NY      0.250881  1.561496 -0.806814  0.895329\n",
       "WY      1.998788 -0.997966 -0.056742 -0.980185\n",
       "OR      0.931698 -0.839301  0.095641  1.571638"
      ]
     },
     "execution_count": 53,
     "metadata": {},
     "output_type": "execute_result"
    }
   ],
   "source": [
    "df"
   ]
  },
  {
   "cell_type": "markdown",
   "metadata": {},
   "source": [
    "# Groupby\n",
    "The groupby method allows you to group rows of data together and call aggregate functions"
   ]
  },
  {
   "cell_type": "code",
   "execution_count": 54,
   "metadata": {
    "collapsed": true
   },
   "outputs": [],
   "source": [
    "# Create dataframe\n",
    "data = {'Company':['GOOG','GOOG','MSFT','MSFT','FB','FB'],\n",
    "       'Person':['Sam','Charlie','Amy','Vanessa','Carl','Sarah'],\n",
    "       'Sales':[200,120,340,124,243,350],\n",
    "       'Revenue':[100,520,30,14,43,50]}"
   ]
  },
  {
   "cell_type": "code",
   "execution_count": 55,
   "metadata": {
    "collapsed": true
   },
   "outputs": [],
   "source": [
    "df = pd.DataFrame(data)"
   ]
  },
  {
   "cell_type": "code",
   "execution_count": 56,
   "metadata": {},
   "outputs": [
    {
     "data": {
      "text/html": [
       "<div>\n",
       "<style scoped>\n",
       "    .dataframe tbody tr th:only-of-type {\n",
       "        vertical-align: middle;\n",
       "    }\n",
       "\n",
       "    .dataframe tbody tr th {\n",
       "        vertical-align: top;\n",
       "    }\n",
       "\n",
       "    .dataframe thead th {\n",
       "        text-align: right;\n",
       "    }\n",
       "</style>\n",
       "<table border=\"1\" class=\"dataframe\">\n",
       "  <thead>\n",
       "    <tr style=\"text-align: right;\">\n",
       "      <th></th>\n",
       "      <th>Company</th>\n",
       "      <th>Person</th>\n",
       "      <th>Sales</th>\n",
       "      <th>Revenue</th>\n",
       "    </tr>\n",
       "  </thead>\n",
       "  <tbody>\n",
       "    <tr>\n",
       "      <th>0</th>\n",
       "      <td>GOOG</td>\n",
       "      <td>Sam</td>\n",
       "      <td>200</td>\n",
       "      <td>100</td>\n",
       "    </tr>\n",
       "    <tr>\n",
       "      <th>1</th>\n",
       "      <td>GOOG</td>\n",
       "      <td>Charlie</td>\n",
       "      <td>120</td>\n",
       "      <td>520</td>\n",
       "    </tr>\n",
       "    <tr>\n",
       "      <th>2</th>\n",
       "      <td>MSFT</td>\n",
       "      <td>Amy</td>\n",
       "      <td>340</td>\n",
       "      <td>30</td>\n",
       "    </tr>\n",
       "    <tr>\n",
       "      <th>3</th>\n",
       "      <td>MSFT</td>\n",
       "      <td>Vanessa</td>\n",
       "      <td>124</td>\n",
       "      <td>14</td>\n",
       "    </tr>\n",
       "    <tr>\n",
       "      <th>4</th>\n",
       "      <td>FB</td>\n",
       "      <td>Carl</td>\n",
       "      <td>243</td>\n",
       "      <td>43</td>\n",
       "    </tr>\n",
       "    <tr>\n",
       "      <th>5</th>\n",
       "      <td>FB</td>\n",
       "      <td>Sarah</td>\n",
       "      <td>350</td>\n",
       "      <td>50</td>\n",
       "    </tr>\n",
       "  </tbody>\n",
       "</table>\n",
       "</div>"
      ],
      "text/plain": [
       "  Company   Person  Sales  Revenue\n",
       "0    GOOG      Sam    200      100\n",
       "1    GOOG  Charlie    120      520\n",
       "2    MSFT      Amy    340       30\n",
       "3    MSFT  Vanessa    124       14\n",
       "4      FB     Carl    243       43\n",
       "5      FB    Sarah    350       50"
      ]
     },
     "execution_count": 56,
     "metadata": {},
     "output_type": "execute_result"
    }
   ],
   "source": [
    "df"
   ]
  },
  {
   "cell_type": "markdown",
   "metadata": {},
   "source": [
    "** Now you can use the .groupby() method to group rows together based on a column name. For instance let's group based on of Company. This will create a DataFrameGroupBy object:**"
   ]
  },
  {
   "cell_type": "code",
   "execution_count": 57,
   "metadata": {},
   "outputs": [
    {
     "data": {
      "text/plain": [
       "<pandas.core.groupby.groupby.DataFrameGroupBy object at 0x7fcc50ab5940>"
      ]
     },
     "execution_count": 57,
     "metadata": {},
     "output_type": "execute_result"
    }
   ],
   "source": [
    "df.groupby('Company')"
   ]
  },
  {
   "cell_type": "markdown",
   "metadata": {},
   "source": [
    "You can save this object as a new variable:"
   ]
  },
  {
   "cell_type": "code",
   "execution_count": 58,
   "metadata": {
    "collapsed": true
   },
   "outputs": [],
   "source": [
    "by_comp = df.groupby(\"Company\")"
   ]
  },
  {
   "cell_type": "markdown",
   "metadata": {},
   "source": [
    "And then call aggregate methods off the object:"
   ]
  },
  {
   "cell_type": "code",
   "execution_count": 59,
   "metadata": {},
   "outputs": [
    {
     "data": {
      "text/html": [
       "<div>\n",
       "<style scoped>\n",
       "    .dataframe tbody tr th:only-of-type {\n",
       "        vertical-align: middle;\n",
       "    }\n",
       "\n",
       "    .dataframe tbody tr th {\n",
       "        vertical-align: top;\n",
       "    }\n",
       "\n",
       "    .dataframe thead th {\n",
       "        text-align: right;\n",
       "    }\n",
       "</style>\n",
       "<table border=\"1\" class=\"dataframe\">\n",
       "  <thead>\n",
       "    <tr style=\"text-align: right;\">\n",
       "      <th></th>\n",
       "      <th>Sales</th>\n",
       "      <th>Revenue</th>\n",
       "    </tr>\n",
       "    <tr>\n",
       "      <th>Company</th>\n",
       "      <th></th>\n",
       "      <th></th>\n",
       "    </tr>\n",
       "  </thead>\n",
       "  <tbody>\n",
       "    <tr>\n",
       "      <th>FB</th>\n",
       "      <td>296.5</td>\n",
       "      <td>46.5</td>\n",
       "    </tr>\n",
       "    <tr>\n",
       "      <th>GOOG</th>\n",
       "      <td>160.0</td>\n",
       "      <td>310.0</td>\n",
       "    </tr>\n",
       "    <tr>\n",
       "      <th>MSFT</th>\n",
       "      <td>232.0</td>\n",
       "      <td>22.0</td>\n",
       "    </tr>\n",
       "  </tbody>\n",
       "</table>\n",
       "</div>"
      ],
      "text/plain": [
       "         Sales  Revenue\n",
       "Company                \n",
       "FB       296.5     46.5\n",
       "GOOG     160.0    310.0\n",
       "MSFT     232.0     22.0"
      ]
     },
     "execution_count": 59,
     "metadata": {},
     "output_type": "execute_result"
    }
   ],
   "source": [
    "by_comp.mean()"
   ]
  },
  {
   "cell_type": "code",
   "execution_count": 60,
   "metadata": {},
   "outputs": [
    {
     "data": {
      "text/html": [
       "<div>\n",
       "<style scoped>\n",
       "    .dataframe tbody tr th:only-of-type {\n",
       "        vertical-align: middle;\n",
       "    }\n",
       "\n",
       "    .dataframe tbody tr th {\n",
       "        vertical-align: top;\n",
       "    }\n",
       "\n",
       "    .dataframe thead th {\n",
       "        text-align: right;\n",
       "    }\n",
       "</style>\n",
       "<table border=\"1\" class=\"dataframe\">\n",
       "  <thead>\n",
       "    <tr style=\"text-align: right;\">\n",
       "      <th></th>\n",
       "      <th>Sales</th>\n",
       "      <th>Revenue</th>\n",
       "    </tr>\n",
       "    <tr>\n",
       "      <th>Company</th>\n",
       "      <th></th>\n",
       "      <th></th>\n",
       "    </tr>\n",
       "  </thead>\n",
       "  <tbody>\n",
       "    <tr>\n",
       "      <th>FB</th>\n",
       "      <td>296.5</td>\n",
       "      <td>46.5</td>\n",
       "    </tr>\n",
       "    <tr>\n",
       "      <th>GOOG</th>\n",
       "      <td>160.0</td>\n",
       "      <td>310.0</td>\n",
       "    </tr>\n",
       "    <tr>\n",
       "      <th>MSFT</th>\n",
       "      <td>232.0</td>\n",
       "      <td>22.0</td>\n",
       "    </tr>\n",
       "  </tbody>\n",
       "</table>\n",
       "</div>"
      ],
      "text/plain": [
       "         Sales  Revenue\n",
       "Company                \n",
       "FB       296.5     46.5\n",
       "GOOG     160.0    310.0\n",
       "MSFT     232.0     22.0"
      ]
     },
     "execution_count": 60,
     "metadata": {},
     "output_type": "execute_result"
    }
   ],
   "source": [
    "df.groupby('Company').mean()"
   ]
  },
  {
   "cell_type": "markdown",
   "metadata": {},
   "source": [
    "More examples of aggregate methods:"
   ]
  },
  {
   "cell_type": "markdown",
   "metadata": {},
   "source": [
    "by_comp.std()"
   ]
  },
  {
   "cell_type": "code",
   "execution_count": 61,
   "metadata": {},
   "outputs": [
    {
     "data": {
      "text/html": [
       "<div>\n",
       "<style scoped>\n",
       "    .dataframe tbody tr th:only-of-type {\n",
       "        vertical-align: middle;\n",
       "    }\n",
       "\n",
       "    .dataframe tbody tr th {\n",
       "        vertical-align: top;\n",
       "    }\n",
       "\n",
       "    .dataframe thead th {\n",
       "        text-align: right;\n",
       "    }\n",
       "</style>\n",
       "<table border=\"1\" class=\"dataframe\">\n",
       "  <thead>\n",
       "    <tr style=\"text-align: right;\">\n",
       "      <th></th>\n",
       "      <th>Person</th>\n",
       "      <th>Sales</th>\n",
       "      <th>Revenue</th>\n",
       "    </tr>\n",
       "    <tr>\n",
       "      <th>Company</th>\n",
       "      <th></th>\n",
       "      <th></th>\n",
       "      <th></th>\n",
       "    </tr>\n",
       "  </thead>\n",
       "  <tbody>\n",
       "    <tr>\n",
       "      <th>FB</th>\n",
       "      <td>Carl</td>\n",
       "      <td>243</td>\n",
       "      <td>43</td>\n",
       "    </tr>\n",
       "    <tr>\n",
       "      <th>GOOG</th>\n",
       "      <td>Charlie</td>\n",
       "      <td>120</td>\n",
       "      <td>100</td>\n",
       "    </tr>\n",
       "    <tr>\n",
       "      <th>MSFT</th>\n",
       "      <td>Amy</td>\n",
       "      <td>124</td>\n",
       "      <td>14</td>\n",
       "    </tr>\n",
       "  </tbody>\n",
       "</table>\n",
       "</div>"
      ],
      "text/plain": [
       "          Person  Sales  Revenue\n",
       "Company                         \n",
       "FB          Carl    243       43\n",
       "GOOG     Charlie    120      100\n",
       "MSFT         Amy    124       14"
      ]
     },
     "execution_count": 61,
     "metadata": {},
     "output_type": "execute_result"
    }
   ],
   "source": [
    "by_comp.min()"
   ]
  },
  {
   "cell_type": "code",
   "execution_count": 62,
   "metadata": {},
   "outputs": [
    {
     "data": {
      "text/html": [
       "<div>\n",
       "<style scoped>\n",
       "    .dataframe tbody tr th:only-of-type {\n",
       "        vertical-align: middle;\n",
       "    }\n",
       "\n",
       "    .dataframe tbody tr th {\n",
       "        vertical-align: top;\n",
       "    }\n",
       "\n",
       "    .dataframe thead th {\n",
       "        text-align: right;\n",
       "    }\n",
       "</style>\n",
       "<table border=\"1\" class=\"dataframe\">\n",
       "  <thead>\n",
       "    <tr style=\"text-align: right;\">\n",
       "      <th></th>\n",
       "      <th>Person</th>\n",
       "      <th>Sales</th>\n",
       "      <th>Revenue</th>\n",
       "    </tr>\n",
       "    <tr>\n",
       "      <th>Company</th>\n",
       "      <th></th>\n",
       "      <th></th>\n",
       "      <th></th>\n",
       "    </tr>\n",
       "  </thead>\n",
       "  <tbody>\n",
       "    <tr>\n",
       "      <th>FB</th>\n",
       "      <td>Sarah</td>\n",
       "      <td>350</td>\n",
       "      <td>50</td>\n",
       "    </tr>\n",
       "    <tr>\n",
       "      <th>GOOG</th>\n",
       "      <td>Sam</td>\n",
       "      <td>200</td>\n",
       "      <td>520</td>\n",
       "    </tr>\n",
       "    <tr>\n",
       "      <th>MSFT</th>\n",
       "      <td>Vanessa</td>\n",
       "      <td>340</td>\n",
       "      <td>30</td>\n",
       "    </tr>\n",
       "  </tbody>\n",
       "</table>\n",
       "</div>"
      ],
      "text/plain": [
       "          Person  Sales  Revenue\n",
       "Company                         \n",
       "FB         Sarah    350       50\n",
       "GOOG         Sam    200      520\n",
       "MSFT     Vanessa    340       30"
      ]
     },
     "execution_count": 62,
     "metadata": {},
     "output_type": "execute_result"
    }
   ],
   "source": [
    "by_comp.max()"
   ]
  },
  {
   "cell_type": "code",
   "execution_count": 63,
   "metadata": {},
   "outputs": [
    {
     "data": {
      "text/html": [
       "<div>\n",
       "<style scoped>\n",
       "    .dataframe tbody tr th:only-of-type {\n",
       "        vertical-align: middle;\n",
       "    }\n",
       "\n",
       "    .dataframe tbody tr th {\n",
       "        vertical-align: top;\n",
       "    }\n",
       "\n",
       "    .dataframe thead th {\n",
       "        text-align: right;\n",
       "    }\n",
       "</style>\n",
       "<table border=\"1\" class=\"dataframe\">\n",
       "  <thead>\n",
       "    <tr style=\"text-align: right;\">\n",
       "      <th></th>\n",
       "      <th>Person</th>\n",
       "      <th>Sales</th>\n",
       "      <th>Revenue</th>\n",
       "    </tr>\n",
       "    <tr>\n",
       "      <th>Company</th>\n",
       "      <th></th>\n",
       "      <th></th>\n",
       "      <th></th>\n",
       "    </tr>\n",
       "  </thead>\n",
       "  <tbody>\n",
       "    <tr>\n",
       "      <th>FB</th>\n",
       "      <td>2</td>\n",
       "      <td>2</td>\n",
       "      <td>2</td>\n",
       "    </tr>\n",
       "    <tr>\n",
       "      <th>GOOG</th>\n",
       "      <td>2</td>\n",
       "      <td>2</td>\n",
       "      <td>2</td>\n",
       "    </tr>\n",
       "    <tr>\n",
       "      <th>MSFT</th>\n",
       "      <td>2</td>\n",
       "      <td>2</td>\n",
       "      <td>2</td>\n",
       "    </tr>\n",
       "  </tbody>\n",
       "</table>\n",
       "</div>"
      ],
      "text/plain": [
       "         Person  Sales  Revenue\n",
       "Company                        \n",
       "FB            2      2        2\n",
       "GOOG          2      2        2\n",
       "MSFT          2      2        2"
      ]
     },
     "execution_count": 63,
     "metadata": {},
     "output_type": "execute_result"
    }
   ],
   "source": [
    "by_comp.count()"
   ]
  },
  {
   "cell_type": "code",
   "execution_count": 64,
   "metadata": {},
   "outputs": [
    {
     "data": {
      "text/html": [
       "<div>\n",
       "<style scoped>\n",
       "    .dataframe tbody tr th:only-of-type {\n",
       "        vertical-align: middle;\n",
       "    }\n",
       "\n",
       "    .dataframe tbody tr th {\n",
       "        vertical-align: top;\n",
       "    }\n",
       "\n",
       "    .dataframe thead tr th {\n",
       "        text-align: left;\n",
       "    }\n",
       "\n",
       "    .dataframe thead tr:last-of-type th {\n",
       "        text-align: right;\n",
       "    }\n",
       "</style>\n",
       "<table border=\"1\" class=\"dataframe\">\n",
       "  <thead>\n",
       "    <tr>\n",
       "      <th></th>\n",
       "      <th colspan=\"8\" halign=\"left\">Revenue</th>\n",
       "      <th colspan=\"8\" halign=\"left\">Sales</th>\n",
       "    </tr>\n",
       "    <tr>\n",
       "      <th></th>\n",
       "      <th>count</th>\n",
       "      <th>mean</th>\n",
       "      <th>std</th>\n",
       "      <th>min</th>\n",
       "      <th>25%</th>\n",
       "      <th>50%</th>\n",
       "      <th>75%</th>\n",
       "      <th>max</th>\n",
       "      <th>count</th>\n",
       "      <th>mean</th>\n",
       "      <th>std</th>\n",
       "      <th>min</th>\n",
       "      <th>25%</th>\n",
       "      <th>50%</th>\n",
       "      <th>75%</th>\n",
       "      <th>max</th>\n",
       "    </tr>\n",
       "    <tr>\n",
       "      <th>Company</th>\n",
       "      <th></th>\n",
       "      <th></th>\n",
       "      <th></th>\n",
       "      <th></th>\n",
       "      <th></th>\n",
       "      <th></th>\n",
       "      <th></th>\n",
       "      <th></th>\n",
       "      <th></th>\n",
       "      <th></th>\n",
       "      <th></th>\n",
       "      <th></th>\n",
       "      <th></th>\n",
       "      <th></th>\n",
       "      <th></th>\n",
       "      <th></th>\n",
       "    </tr>\n",
       "  </thead>\n",
       "  <tbody>\n",
       "    <tr>\n",
       "      <th>FB</th>\n",
       "      <td>2.0</td>\n",
       "      <td>46.5</td>\n",
       "      <td>4.949747</td>\n",
       "      <td>43.0</td>\n",
       "      <td>44.75</td>\n",
       "      <td>46.5</td>\n",
       "      <td>48.25</td>\n",
       "      <td>50.0</td>\n",
       "      <td>2.0</td>\n",
       "      <td>296.5</td>\n",
       "      <td>75.660426</td>\n",
       "      <td>243.0</td>\n",
       "      <td>269.75</td>\n",
       "      <td>296.5</td>\n",
       "      <td>323.25</td>\n",
       "      <td>350.0</td>\n",
       "    </tr>\n",
       "    <tr>\n",
       "      <th>GOOG</th>\n",
       "      <td>2.0</td>\n",
       "      <td>310.0</td>\n",
       "      <td>296.984848</td>\n",
       "      <td>100.0</td>\n",
       "      <td>205.00</td>\n",
       "      <td>310.0</td>\n",
       "      <td>415.00</td>\n",
       "      <td>520.0</td>\n",
       "      <td>2.0</td>\n",
       "      <td>160.0</td>\n",
       "      <td>56.568542</td>\n",
       "      <td>120.0</td>\n",
       "      <td>140.00</td>\n",
       "      <td>160.0</td>\n",
       "      <td>180.00</td>\n",
       "      <td>200.0</td>\n",
       "    </tr>\n",
       "    <tr>\n",
       "      <th>MSFT</th>\n",
       "      <td>2.0</td>\n",
       "      <td>22.0</td>\n",
       "      <td>11.313708</td>\n",
       "      <td>14.0</td>\n",
       "      <td>18.00</td>\n",
       "      <td>22.0</td>\n",
       "      <td>26.00</td>\n",
       "      <td>30.0</td>\n",
       "      <td>2.0</td>\n",
       "      <td>232.0</td>\n",
       "      <td>152.735065</td>\n",
       "      <td>124.0</td>\n",
       "      <td>178.00</td>\n",
       "      <td>232.0</td>\n",
       "      <td>286.00</td>\n",
       "      <td>340.0</td>\n",
       "    </tr>\n",
       "  </tbody>\n",
       "</table>\n",
       "</div>"
      ],
      "text/plain": [
       "        Revenue                                                         Sales  \\\n",
       "          count   mean         std    min     25%    50%     75%    max count   \n",
       "Company                                                                         \n",
       "FB          2.0   46.5    4.949747   43.0   44.75   46.5   48.25   50.0   2.0   \n",
       "GOOG        2.0  310.0  296.984848  100.0  205.00  310.0  415.00  520.0   2.0   \n",
       "MSFT        2.0   22.0   11.313708   14.0   18.00   22.0   26.00   30.0   2.0   \n",
       "\n",
       "                                                                 \n",
       "          mean         std    min     25%    50%     75%    max  \n",
       "Company                                                          \n",
       "FB       296.5   75.660426  243.0  269.75  296.5  323.25  350.0  \n",
       "GOOG     160.0   56.568542  120.0  140.00  160.0  180.00  200.0  \n",
       "MSFT     232.0  152.735065  124.0  178.00  232.0  286.00  340.0  "
      ]
     },
     "execution_count": 64,
     "metadata": {},
     "output_type": "execute_result"
    }
   ],
   "source": [
    "by_comp.describe()"
   ]
  },
  {
   "cell_type": "code",
   "execution_count": 65,
   "metadata": {},
   "outputs": [
    {
     "data": {
      "text/html": [
       "<div>\n",
       "<style scoped>\n",
       "    .dataframe tbody tr th:only-of-type {\n",
       "        vertical-align: middle;\n",
       "    }\n",
       "\n",
       "    .dataframe tbody tr th {\n",
       "        vertical-align: top;\n",
       "    }\n",
       "\n",
       "    .dataframe thead th {\n",
       "        text-align: right;\n",
       "    }\n",
       "</style>\n",
       "<table border=\"1\" class=\"dataframe\">\n",
       "  <thead>\n",
       "    <tr style=\"text-align: right;\">\n",
       "      <th></th>\n",
       "      <th>Company</th>\n",
       "      <th>FB</th>\n",
       "      <th>GOOG</th>\n",
       "      <th>MSFT</th>\n",
       "    </tr>\n",
       "  </thead>\n",
       "  <tbody>\n",
       "    <tr>\n",
       "      <th rowspan=\"8\" valign=\"top\">Revenue</th>\n",
       "      <th>count</th>\n",
       "      <td>2.000000</td>\n",
       "      <td>2.000000</td>\n",
       "      <td>2.000000</td>\n",
       "    </tr>\n",
       "    <tr>\n",
       "      <th>mean</th>\n",
       "      <td>46.500000</td>\n",
       "      <td>310.000000</td>\n",
       "      <td>22.000000</td>\n",
       "    </tr>\n",
       "    <tr>\n",
       "      <th>std</th>\n",
       "      <td>4.949747</td>\n",
       "      <td>296.984848</td>\n",
       "      <td>11.313708</td>\n",
       "    </tr>\n",
       "    <tr>\n",
       "      <th>min</th>\n",
       "      <td>43.000000</td>\n",
       "      <td>100.000000</td>\n",
       "      <td>14.000000</td>\n",
       "    </tr>\n",
       "    <tr>\n",
       "      <th>25%</th>\n",
       "      <td>44.750000</td>\n",
       "      <td>205.000000</td>\n",
       "      <td>18.000000</td>\n",
       "    </tr>\n",
       "    <tr>\n",
       "      <th>50%</th>\n",
       "      <td>46.500000</td>\n",
       "      <td>310.000000</td>\n",
       "      <td>22.000000</td>\n",
       "    </tr>\n",
       "    <tr>\n",
       "      <th>75%</th>\n",
       "      <td>48.250000</td>\n",
       "      <td>415.000000</td>\n",
       "      <td>26.000000</td>\n",
       "    </tr>\n",
       "    <tr>\n",
       "      <th>max</th>\n",
       "      <td>50.000000</td>\n",
       "      <td>520.000000</td>\n",
       "      <td>30.000000</td>\n",
       "    </tr>\n",
       "    <tr>\n",
       "      <th rowspan=\"8\" valign=\"top\">Sales</th>\n",
       "      <th>count</th>\n",
       "      <td>2.000000</td>\n",
       "      <td>2.000000</td>\n",
       "      <td>2.000000</td>\n",
       "    </tr>\n",
       "    <tr>\n",
       "      <th>mean</th>\n",
       "      <td>296.500000</td>\n",
       "      <td>160.000000</td>\n",
       "      <td>232.000000</td>\n",
       "    </tr>\n",
       "    <tr>\n",
       "      <th>std</th>\n",
       "      <td>75.660426</td>\n",
       "      <td>56.568542</td>\n",
       "      <td>152.735065</td>\n",
       "    </tr>\n",
       "    <tr>\n",
       "      <th>min</th>\n",
       "      <td>243.000000</td>\n",
       "      <td>120.000000</td>\n",
       "      <td>124.000000</td>\n",
       "    </tr>\n",
       "    <tr>\n",
       "      <th>25%</th>\n",
       "      <td>269.750000</td>\n",
       "      <td>140.000000</td>\n",
       "      <td>178.000000</td>\n",
       "    </tr>\n",
       "    <tr>\n",
       "      <th>50%</th>\n",
       "      <td>296.500000</td>\n",
       "      <td>160.000000</td>\n",
       "      <td>232.000000</td>\n",
       "    </tr>\n",
       "    <tr>\n",
       "      <th>75%</th>\n",
       "      <td>323.250000</td>\n",
       "      <td>180.000000</td>\n",
       "      <td>286.000000</td>\n",
       "    </tr>\n",
       "    <tr>\n",
       "      <th>max</th>\n",
       "      <td>350.000000</td>\n",
       "      <td>200.000000</td>\n",
       "      <td>340.000000</td>\n",
       "    </tr>\n",
       "  </tbody>\n",
       "</table>\n",
       "</div>"
      ],
      "text/plain": [
       "Company                FB        GOOG        MSFT\n",
       "Revenue count    2.000000    2.000000    2.000000\n",
       "        mean    46.500000  310.000000   22.000000\n",
       "        std      4.949747  296.984848   11.313708\n",
       "        min     43.000000  100.000000   14.000000\n",
       "        25%     44.750000  205.000000   18.000000\n",
       "        50%     46.500000  310.000000   22.000000\n",
       "        75%     48.250000  415.000000   26.000000\n",
       "        max     50.000000  520.000000   30.000000\n",
       "Sales   count    2.000000    2.000000    2.000000\n",
       "        mean   296.500000  160.000000  232.000000\n",
       "        std     75.660426   56.568542  152.735065\n",
       "        min    243.000000  120.000000  124.000000\n",
       "        25%    269.750000  140.000000  178.000000\n",
       "        50%    296.500000  160.000000  232.000000\n",
       "        75%    323.250000  180.000000  286.000000\n",
       "        max    350.000000  200.000000  340.000000"
      ]
     },
     "execution_count": 65,
     "metadata": {},
     "output_type": "execute_result"
    }
   ],
   "source": [
    "by_comp.describe().transpose()"
   ]
  },
  {
   "cell_type": "code",
   "execution_count": 66,
   "metadata": {},
   "outputs": [
    {
     "data": {
      "text/plain": [
       "Revenue  count      2.000000\n",
       "         mean     310.000000\n",
       "         std      296.984848\n",
       "         min      100.000000\n",
       "         25%      205.000000\n",
       "         50%      310.000000\n",
       "         75%      415.000000\n",
       "         max      520.000000\n",
       "Sales    count      2.000000\n",
       "         mean     160.000000\n",
       "         std       56.568542\n",
       "         min      120.000000\n",
       "         25%      140.000000\n",
       "         50%      160.000000\n",
       "         75%      180.000000\n",
       "         max      200.000000\n",
       "Name: GOOG, dtype: float64"
      ]
     },
     "execution_count": 66,
     "metadata": {},
     "output_type": "execute_result"
    }
   ],
   "source": [
    "by_comp.describe().transpose()['GOOG']"
   ]
  },
  {
   "cell_type": "markdown",
   "metadata": {},
   "source": [
    "# Operations\n",
    "\n",
    "There are lots of operations with pandas that will be really useful"
   ]
  },
  {
   "cell_type": "code",
   "execution_count": 67,
   "metadata": {
    "collapsed": true
   },
   "outputs": [],
   "source": [
    "df = pd.DataFrame({'col1':[1,2,3,4],'col2':[444,555,666,444],'col3':['abc','def','ghi','xyz']})"
   ]
  },
  {
   "cell_type": "code",
   "execution_count": 68,
   "metadata": {},
   "outputs": [
    {
     "data": {
      "text/html": [
       "<div>\n",
       "<style scoped>\n",
       "    .dataframe tbody tr th:only-of-type {\n",
       "        vertical-align: middle;\n",
       "    }\n",
       "\n",
       "    .dataframe tbody tr th {\n",
       "        vertical-align: top;\n",
       "    }\n",
       "\n",
       "    .dataframe thead th {\n",
       "        text-align: right;\n",
       "    }\n",
       "</style>\n",
       "<table border=\"1\" class=\"dataframe\">\n",
       "  <thead>\n",
       "    <tr style=\"text-align: right;\">\n",
       "      <th></th>\n",
       "      <th>col1</th>\n",
       "      <th>col2</th>\n",
       "      <th>col3</th>\n",
       "    </tr>\n",
       "  </thead>\n",
       "  <tbody>\n",
       "    <tr>\n",
       "      <th>0</th>\n",
       "      <td>1</td>\n",
       "      <td>444</td>\n",
       "      <td>abc</td>\n",
       "    </tr>\n",
       "    <tr>\n",
       "      <th>1</th>\n",
       "      <td>2</td>\n",
       "      <td>555</td>\n",
       "      <td>def</td>\n",
       "    </tr>\n",
       "  </tbody>\n",
       "</table>\n",
       "</div>"
      ],
      "text/plain": [
       "   col1  col2 col3\n",
       "0     1   444  abc\n",
       "1     2   555  def"
      ]
     },
     "execution_count": 68,
     "metadata": {},
     "output_type": "execute_result"
    }
   ],
   "source": [
    "df.head(2)"
   ]
  },
  {
   "cell_type": "code",
   "execution_count": 69,
   "metadata": {},
   "outputs": [
    {
     "data": {
      "text/html": [
       "<div>\n",
       "<style scoped>\n",
       "    .dataframe tbody tr th:only-of-type {\n",
       "        vertical-align: middle;\n",
       "    }\n",
       "\n",
       "    .dataframe tbody tr th {\n",
       "        vertical-align: top;\n",
       "    }\n",
       "\n",
       "    .dataframe thead th {\n",
       "        text-align: right;\n",
       "    }\n",
       "</style>\n",
       "<table border=\"1\" class=\"dataframe\">\n",
       "  <thead>\n",
       "    <tr style=\"text-align: right;\">\n",
       "      <th></th>\n",
       "      <th>col1</th>\n",
       "      <th>col2</th>\n",
       "      <th>col3</th>\n",
       "    </tr>\n",
       "  </thead>\n",
       "  <tbody>\n",
       "    <tr>\n",
       "      <th>2</th>\n",
       "      <td>3</td>\n",
       "      <td>666</td>\n",
       "      <td>ghi</td>\n",
       "    </tr>\n",
       "    <tr>\n",
       "      <th>3</th>\n",
       "      <td>4</td>\n",
       "      <td>444</td>\n",
       "      <td>xyz</td>\n",
       "    </tr>\n",
       "  </tbody>\n",
       "</table>\n",
       "</div>"
      ],
      "text/plain": [
       "   col1  col2 col3\n",
       "2     3   666  ghi\n",
       "3     4   444  xyz"
      ]
     },
     "execution_count": 69,
     "metadata": {},
     "output_type": "execute_result"
    }
   ],
   "source": [
    "df.tail(2)"
   ]
  },
  {
   "cell_type": "markdown",
   "metadata": {},
   "source": [
    "### Info on Unique Values"
   ]
  },
  {
   "cell_type": "code",
   "execution_count": 70,
   "metadata": {},
   "outputs": [
    {
     "data": {
      "text/plain": [
       "array([444, 555, 666])"
      ]
     },
     "execution_count": 70,
     "metadata": {},
     "output_type": "execute_result"
    }
   ],
   "source": [
    "df['col2'].unique()"
   ]
  },
  {
   "cell_type": "code",
   "execution_count": 71,
   "metadata": {},
   "outputs": [
    {
     "data": {
      "text/plain": [
       "3"
      ]
     },
     "execution_count": 71,
     "metadata": {},
     "output_type": "execute_result"
    }
   ],
   "source": [
    "df['col2'].nunique()"
   ]
  },
  {
   "cell_type": "code",
   "execution_count": 72,
   "metadata": {},
   "outputs": [
    {
     "data": {
      "text/plain": [
       "444    2\n",
       "555    1\n",
       "666    1\n",
       "Name: col2, dtype: int64"
      ]
     },
     "execution_count": 72,
     "metadata": {},
     "output_type": "execute_result"
    }
   ],
   "source": [
    "df['col2'].value_counts()"
   ]
  },
  {
   "cell_type": "code",
   "execution_count": 73,
   "metadata": {
    "collapsed": true
   },
   "outputs": [],
   "source": [
    "### Selecting Data"
   ]
  },
  {
   "cell_type": "code",
   "execution_count": 74,
   "metadata": {
    "collapsed": true
   },
   "outputs": [],
   "source": [
    "#Select from DataFrame using criteria from multiple columns\n",
    "newdf = df[(df['col1']>2) & (df['col2']==444)]"
   ]
  },
  {
   "cell_type": "code",
   "execution_count": 75,
   "metadata": {},
   "outputs": [
    {
     "data": {
      "text/html": [
       "<div>\n",
       "<style scoped>\n",
       "    .dataframe tbody tr th:only-of-type {\n",
       "        vertical-align: middle;\n",
       "    }\n",
       "\n",
       "    .dataframe tbody tr th {\n",
       "        vertical-align: top;\n",
       "    }\n",
       "\n",
       "    .dataframe thead th {\n",
       "        text-align: right;\n",
       "    }\n",
       "</style>\n",
       "<table border=\"1\" class=\"dataframe\">\n",
       "  <thead>\n",
       "    <tr style=\"text-align: right;\">\n",
       "      <th></th>\n",
       "      <th>col1</th>\n",
       "      <th>col2</th>\n",
       "      <th>col3</th>\n",
       "    </tr>\n",
       "  </thead>\n",
       "  <tbody>\n",
       "    <tr>\n",
       "      <th>3</th>\n",
       "      <td>4</td>\n",
       "      <td>444</td>\n",
       "      <td>xyz</td>\n",
       "    </tr>\n",
       "  </tbody>\n",
       "</table>\n",
       "</div>"
      ],
      "text/plain": [
       "   col1  col2 col3\n",
       "3     4   444  xyz"
      ]
     },
     "execution_count": 75,
     "metadata": {},
     "output_type": "execute_result"
    }
   ],
   "source": [
    "newdf"
   ]
  },
  {
   "cell_type": "code",
   "execution_count": 76,
   "metadata": {
    "collapsed": true
   },
   "outputs": [],
   "source": [
    "### Applying Functions"
   ]
  },
  {
   "cell_type": "code",
   "execution_count": 77,
   "metadata": {
    "collapsed": true
   },
   "outputs": [],
   "source": [
    "def times2(x):\n",
    "    return x*2"
   ]
  },
  {
   "cell_type": "code",
   "execution_count": 78,
   "metadata": {},
   "outputs": [
    {
     "data": {
      "text/plain": [
       "0    2\n",
       "1    4\n",
       "2    6\n",
       "3    8\n",
       "Name: col1, dtype: int64"
      ]
     },
     "execution_count": 78,
     "metadata": {},
     "output_type": "execute_result"
    }
   ],
   "source": [
    "df['col1'].apply(times2)"
   ]
  },
  {
   "cell_type": "code",
   "execution_count": 79,
   "metadata": {},
   "outputs": [
    {
     "data": {
      "text/plain": [
       "0    3\n",
       "1    3\n",
       "2    3\n",
       "3    3\n",
       "Name: col3, dtype: int64"
      ]
     },
     "execution_count": 79,
     "metadata": {},
     "output_type": "execute_result"
    }
   ],
   "source": [
    "df['col3'].apply(len)"
   ]
  },
  {
   "cell_type": "code",
   "execution_count": 80,
   "metadata": {},
   "outputs": [
    {
     "data": {
      "text/plain": [
       "10"
      ]
     },
     "execution_count": 80,
     "metadata": {},
     "output_type": "execute_result"
    }
   ],
   "source": [
    "df['col1'].sum()"
   ]
  },
  {
   "cell_type": "markdown",
   "metadata": {},
   "source": [
    "** Permanently Removing a Column**"
   ]
  },
  {
   "cell_type": "code",
   "execution_count": 82,
   "metadata": {
    "collapsed": true
   },
   "outputs": [],
   "source": [
    "del df['col1']"
   ]
  },
  {
   "cell_type": "code",
   "execution_count": 83,
   "metadata": {},
   "outputs": [
    {
     "data": {
      "text/html": [
       "<div>\n",
       "<style scoped>\n",
       "    .dataframe tbody tr th:only-of-type {\n",
       "        vertical-align: middle;\n",
       "    }\n",
       "\n",
       "    .dataframe tbody tr th {\n",
       "        vertical-align: top;\n",
       "    }\n",
       "\n",
       "    .dataframe thead th {\n",
       "        text-align: right;\n",
       "    }\n",
       "</style>\n",
       "<table border=\"1\" class=\"dataframe\">\n",
       "  <thead>\n",
       "    <tr style=\"text-align: right;\">\n",
       "      <th></th>\n",
       "      <th>col2</th>\n",
       "      <th>col3</th>\n",
       "    </tr>\n",
       "  </thead>\n",
       "  <tbody>\n",
       "    <tr>\n",
       "      <th>0</th>\n",
       "      <td>444</td>\n",
       "      <td>abc</td>\n",
       "    </tr>\n",
       "    <tr>\n",
       "      <th>1</th>\n",
       "      <td>555</td>\n",
       "      <td>def</td>\n",
       "    </tr>\n",
       "    <tr>\n",
       "      <th>2</th>\n",
       "      <td>666</td>\n",
       "      <td>ghi</td>\n",
       "    </tr>\n",
       "    <tr>\n",
       "      <th>3</th>\n",
       "      <td>444</td>\n",
       "      <td>xyz</td>\n",
       "    </tr>\n",
       "  </tbody>\n",
       "</table>\n",
       "</div>"
      ],
      "text/plain": [
       "   col2 col3\n",
       "0   444  abc\n",
       "1   555  def\n",
       "2   666  ghi\n",
       "3   444  xyz"
      ]
     },
     "execution_count": 83,
     "metadata": {},
     "output_type": "execute_result"
    }
   ],
   "source": [
    "df"
   ]
  },
  {
   "cell_type": "markdown",
   "metadata": {},
   "source": [
    "** Get column and index names: **"
   ]
  },
  {
   "cell_type": "code",
   "execution_count": 85,
   "metadata": {},
   "outputs": [
    {
     "data": {
      "text/plain": [
       "Index(['col2', 'col3'], dtype='object')"
      ]
     },
     "execution_count": 85,
     "metadata": {},
     "output_type": "execute_result"
    }
   ],
   "source": [
    "df.columns"
   ]
  },
  {
   "cell_type": "code",
   "execution_count": 86,
   "metadata": {},
   "outputs": [
    {
     "data": {
      "text/plain": [
       "RangeIndex(start=0, stop=4, step=1)"
      ]
     },
     "execution_count": 86,
     "metadata": {},
     "output_type": "execute_result"
    }
   ],
   "source": [
    "df.index"
   ]
  },
  {
   "cell_type": "markdown",
   "metadata": {},
   "source": [
    "** Sorting and Ordering a DataFrame:**"
   ]
  },
  {
   "cell_type": "code",
   "execution_count": 88,
   "metadata": {},
   "outputs": [
    {
     "data": {
      "text/html": [
       "<div>\n",
       "<style scoped>\n",
       "    .dataframe tbody tr th:only-of-type {\n",
       "        vertical-align: middle;\n",
       "    }\n",
       "\n",
       "    .dataframe tbody tr th {\n",
       "        vertical-align: top;\n",
       "    }\n",
       "\n",
       "    .dataframe thead th {\n",
       "        text-align: right;\n",
       "    }\n",
       "</style>\n",
       "<table border=\"1\" class=\"dataframe\">\n",
       "  <thead>\n",
       "    <tr style=\"text-align: right;\">\n",
       "      <th></th>\n",
       "      <th>col2</th>\n",
       "      <th>col3</th>\n",
       "    </tr>\n",
       "  </thead>\n",
       "  <tbody>\n",
       "    <tr>\n",
       "      <th>0</th>\n",
       "      <td>444</td>\n",
       "      <td>abc</td>\n",
       "    </tr>\n",
       "    <tr>\n",
       "      <th>1</th>\n",
       "      <td>555</td>\n",
       "      <td>def</td>\n",
       "    </tr>\n",
       "    <tr>\n",
       "      <th>2</th>\n",
       "      <td>666</td>\n",
       "      <td>ghi</td>\n",
       "    </tr>\n",
       "    <tr>\n",
       "      <th>3</th>\n",
       "      <td>444</td>\n",
       "      <td>xyz</td>\n",
       "    </tr>\n",
       "  </tbody>\n",
       "</table>\n",
       "</div>"
      ],
      "text/plain": [
       "   col2 col3\n",
       "0   444  abc\n",
       "1   555  def\n",
       "2   666  ghi\n",
       "3   444  xyz"
      ]
     },
     "execution_count": 88,
     "metadata": {},
     "output_type": "execute_result"
    }
   ],
   "source": [
    "df"
   ]
  },
  {
   "cell_type": "code",
   "execution_count": 89,
   "metadata": {},
   "outputs": [
    {
     "data": {
      "text/html": [
       "<div>\n",
       "<style scoped>\n",
       "    .dataframe tbody tr th:only-of-type {\n",
       "        vertical-align: middle;\n",
       "    }\n",
       "\n",
       "    .dataframe tbody tr th {\n",
       "        vertical-align: top;\n",
       "    }\n",
       "\n",
       "    .dataframe thead th {\n",
       "        text-align: right;\n",
       "    }\n",
       "</style>\n",
       "<table border=\"1\" class=\"dataframe\">\n",
       "  <thead>\n",
       "    <tr style=\"text-align: right;\">\n",
       "      <th></th>\n",
       "      <th>col2</th>\n",
       "      <th>col3</th>\n",
       "    </tr>\n",
       "  </thead>\n",
       "  <tbody>\n",
       "    <tr>\n",
       "      <th>0</th>\n",
       "      <td>444</td>\n",
       "      <td>abc</td>\n",
       "    </tr>\n",
       "    <tr>\n",
       "      <th>3</th>\n",
       "      <td>444</td>\n",
       "      <td>xyz</td>\n",
       "    </tr>\n",
       "    <tr>\n",
       "      <th>1</th>\n",
       "      <td>555</td>\n",
       "      <td>def</td>\n",
       "    </tr>\n",
       "    <tr>\n",
       "      <th>2</th>\n",
       "      <td>666</td>\n",
       "      <td>ghi</td>\n",
       "    </tr>\n",
       "  </tbody>\n",
       "</table>\n",
       "</div>"
      ],
      "text/plain": [
       "   col2 col3\n",
       "0   444  abc\n",
       "3   444  xyz\n",
       "1   555  def\n",
       "2   666  ghi"
      ]
     },
     "execution_count": 89,
     "metadata": {},
     "output_type": "execute_result"
    }
   ],
   "source": [
    "df.sort_values(by='col2') #inplace=False by default"
   ]
  },
  {
   "cell_type": "code",
   "execution_count": null,
   "metadata": {
    "collapsed": true
   },
   "outputs": [],
   "source": []
  },
  {
   "cell_type": "markdown",
   "metadata": {},
   "source": [
    "# Data Input and Output\n",
    "\n",
    "This notebook is the reference code for getting input and output, pandas can read a variety of file types using its pd.read_ methods. Let's take a look at the most common data types:"
   ]
  },
  {
   "cell_type": "markdown",
   "metadata": {},
   "source": [
    "## CSV\n",
    "\n",
    "### CSV Input"
   ]
  },
  {
   "cell_type": "code",
   "execution_count": 96,
   "metadata": {},
   "outputs": [
    {
     "data": {
      "text/html": [
       "<div>\n",
       "<style scoped>\n",
       "    .dataframe tbody tr th:only-of-type {\n",
       "        vertical-align: middle;\n",
       "    }\n",
       "\n",
       "    .dataframe tbody tr th {\n",
       "        vertical-align: top;\n",
       "    }\n",
       "\n",
       "    .dataframe thead th {\n",
       "        text-align: right;\n",
       "    }\n",
       "</style>\n",
       "<table border=\"1\" class=\"dataframe\">\n",
       "  <thead>\n",
       "    <tr style=\"text-align: right;\">\n",
       "      <th></th>\n",
       "      <th>Date</th>\n",
       "      <th>OpenPrice</th>\n",
       "      <th>HighPrice</th>\n",
       "      <th>LowPrice</th>\n",
       "      <th>ClosePrice</th>\n",
       "      <th>VolumeTraded</th>\n",
       "      <th>AdjustedPrice</th>\n",
       "    </tr>\n",
       "  </thead>\n",
       "  <tbody>\n",
       "    <tr>\n",
       "      <th>0</th>\n",
       "      <td>03-01-2007</td>\n",
       "      <td>200.600006</td>\n",
       "      <td>203.320007</td>\n",
       "      <td>197.820007</td>\n",
       "      <td>200.720001</td>\n",
       "      <td>6494900.0</td>\n",
       "      <td>175.871643</td>\n",
       "    </tr>\n",
       "    <tr>\n",
       "      <th>1</th>\n",
       "      <td>04-01-2007</td>\n",
       "      <td>200.220001</td>\n",
       "      <td>200.669998</td>\n",
       "      <td>198.070007</td>\n",
       "      <td>198.850006</td>\n",
       "      <td>6460200.0</td>\n",
       "      <td>174.233185</td>\n",
       "    </tr>\n",
       "    <tr>\n",
       "      <th>2</th>\n",
       "      <td>05-01-2007</td>\n",
       "      <td>198.429993</td>\n",
       "      <td>200.000000</td>\n",
       "      <td>197.899994</td>\n",
       "      <td>199.050003</td>\n",
       "      <td>5892900.0</td>\n",
       "      <td>174.408432</td>\n",
       "    </tr>\n",
       "    <tr>\n",
       "      <th>3</th>\n",
       "      <td>08-01-2007</td>\n",
       "      <td>199.050003</td>\n",
       "      <td>203.949997</td>\n",
       "      <td>198.100006</td>\n",
       "      <td>203.729996</td>\n",
       "      <td>7851000.0</td>\n",
       "      <td>178.509064</td>\n",
       "    </tr>\n",
       "    <tr>\n",
       "      <th>4</th>\n",
       "      <td>09-01-2007</td>\n",
       "      <td>203.539993</td>\n",
       "      <td>204.899994</td>\n",
       "      <td>202.000000</td>\n",
       "      <td>204.080002</td>\n",
       "      <td>7147100.0</td>\n",
       "      <td>178.815659</td>\n",
       "    </tr>\n",
       "    <tr>\n",
       "      <th>5</th>\n",
       "      <td>10-01-2007</td>\n",
       "      <td>203.399994</td>\n",
       "      <td>208.440002</td>\n",
       "      <td>201.500000</td>\n",
       "      <td>208.110001</td>\n",
       "      <td>8025700.0</td>\n",
       "      <td>182.346817</td>\n",
       "    </tr>\n",
       "    <tr>\n",
       "      <th>6</th>\n",
       "      <td>11-01-2007</td>\n",
       "      <td>208.339996</td>\n",
       "      <td>213.169998</td>\n",
       "      <td>207.600006</td>\n",
       "      <td>211.880005</td>\n",
       "      <td>9039400.0</td>\n",
       "      <td>185.650101</td>\n",
       "    </tr>\n",
       "    <tr>\n",
       "      <th>7</th>\n",
       "      <td>12-01-2007</td>\n",
       "      <td>210.899994</td>\n",
       "      <td>214.220001</td>\n",
       "      <td>210.399994</td>\n",
       "      <td>213.990005</td>\n",
       "      <td>6618900.0</td>\n",
       "      <td>187.498932</td>\n",
       "    </tr>\n",
       "    <tr>\n",
       "      <th>8</th>\n",
       "      <td>16-01-2007</td>\n",
       "      <td>210.850006</td>\n",
       "      <td>215.130005</td>\n",
       "      <td>210.850006</td>\n",
       "      <td>213.589996</td>\n",
       "      <td>5846600.0</td>\n",
       "      <td>187.148438</td>\n",
       "    </tr>\n",
       "    <tr>\n",
       "      <th>9</th>\n",
       "      <td>17-01-2007</td>\n",
       "      <td>212.199997</td>\n",
       "      <td>214.089996</td>\n",
       "      <td>210.850006</td>\n",
       "      <td>213.229996</td>\n",
       "      <td>5306300.0</td>\n",
       "      <td>186.832977</td>\n",
       "    </tr>\n",
       "    <tr>\n",
       "      <th>10</th>\n",
       "      <td>18-01-2007</td>\n",
       "      <td>213.750000</td>\n",
       "      <td>214.809998</td>\n",
       "      <td>209.100006</td>\n",
       "      <td>209.679993</td>\n",
       "      <td>6423200.0</td>\n",
       "      <td>183.722458</td>\n",
       "    </tr>\n",
       "    <tr>\n",
       "      <th>11</th>\n",
       "      <td>19-01-2007</td>\n",
       "      <td>209.080002</td>\n",
       "      <td>211.440002</td>\n",
       "      <td>208.839996</td>\n",
       "      <td>210.289993</td>\n",
       "      <td>5333700.0</td>\n",
       "      <td>184.564987</td>\n",
       "    </tr>\n",
       "    <tr>\n",
       "      <th>12</th>\n",
       "      <td>22-01-2007</td>\n",
       "      <td>211.089996</td>\n",
       "      <td>213.250000</td>\n",
       "      <td>209.600006</td>\n",
       "      <td>212.970001</td>\n",
       "      <td>4980700.0</td>\n",
       "      <td>186.917145</td>\n",
       "    </tr>\n",
       "    <tr>\n",
       "      <th>13</th>\n",
       "      <td>23-01-2007</td>\n",
       "      <td>212.820007</td>\n",
       "      <td>213.419998</td>\n",
       "      <td>210.649994</td>\n",
       "      <td>212.639999</td>\n",
       "      <td>6293400.0</td>\n",
       "      <td>186.627502</td>\n",
       "    </tr>\n",
       "    <tr>\n",
       "      <th>14</th>\n",
       "      <td>24-01-2007</td>\n",
       "      <td>213.509995</td>\n",
       "      <td>220.169998</td>\n",
       "      <td>213.029999</td>\n",
       "      <td>220.100006</td>\n",
       "      <td>6386800.0</td>\n",
       "      <td>193.174973</td>\n",
       "    </tr>\n",
       "    <tr>\n",
       "      <th>15</th>\n",
       "      <td>25-01-2007</td>\n",
       "      <td>219.830002</td>\n",
       "      <td>220.509995</td>\n",
       "      <td>212.509995</td>\n",
       "      <td>213.070007</td>\n",
       "      <td>7853800.0</td>\n",
       "      <td>187.004913</td>\n",
       "    </tr>\n",
       "    <tr>\n",
       "      <th>16</th>\n",
       "      <td>26-01-2007</td>\n",
       "      <td>214.559998</td>\n",
       "      <td>214.899994</td>\n",
       "      <td>210.600006</td>\n",
       "      <td>213.500000</td>\n",
       "      <td>7458200.0</td>\n",
       "      <td>187.382324</td>\n",
       "    </tr>\n",
       "    <tr>\n",
       "      <th>17</th>\n",
       "      <td>29-01-2007</td>\n",
       "      <td>213.899994</td>\n",
       "      <td>215.080002</td>\n",
       "      <td>210.130005</td>\n",
       "      <td>211.039993</td>\n",
       "      <td>5890700.0</td>\n",
       "      <td>185.223206</td>\n",
       "    </tr>\n",
       "    <tr>\n",
       "      <th>18</th>\n",
       "      <td>30-01-2007</td>\n",
       "      <td>211.080002</td>\n",
       "      <td>212.309998</td>\n",
       "      <td>208.369995</td>\n",
       "      <td>208.779999</td>\n",
       "      <td>6001000.0</td>\n",
       "      <td>183.239761</td>\n",
       "    </tr>\n",
       "    <tr>\n",
       "      <th>19</th>\n",
       "      <td>31-01-2007</td>\n",
       "      <td>208.300003</td>\n",
       "      <td>212.750000</td>\n",
       "      <td>207.289993</td>\n",
       "      <td>212.160004</td>\n",
       "      <td>7235100.0</td>\n",
       "      <td>186.206299</td>\n",
       "    </tr>\n",
       "    <tr>\n",
       "      <th>20</th>\n",
       "      <td>01-02-2007</td>\n",
       "      <td>213.440002</td>\n",
       "      <td>213.899994</td>\n",
       "      <td>209.729996</td>\n",
       "      <td>212.000000</td>\n",
       "      <td>5734500.0</td>\n",
       "      <td>186.065811</td>\n",
       "    </tr>\n",
       "    <tr>\n",
       "      <th>21</th>\n",
       "      <td>02-02-2007</td>\n",
       "      <td>211.000000</td>\n",
       "      <td>213.899994</td>\n",
       "      <td>211.000000</td>\n",
       "      <td>213.429993</td>\n",
       "      <td>3527000.0</td>\n",
       "      <td>187.320831</td>\n",
       "    </tr>\n",
       "    <tr>\n",
       "      <th>22</th>\n",
       "      <td>05-02-2007</td>\n",
       "      <td>213.300003</td>\n",
       "      <td>213.720001</td>\n",
       "      <td>211.500000</td>\n",
       "      <td>212.550003</td>\n",
       "      <td>2995700.0</td>\n",
       "      <td>186.548538</td>\n",
       "    </tr>\n",
       "    <tr>\n",
       "      <th>23</th>\n",
       "      <td>06-02-2007</td>\n",
       "      <td>213.289993</td>\n",
       "      <td>215.860001</td>\n",
       "      <td>212.699997</td>\n",
       "      <td>214.649994</td>\n",
       "      <td>3803100.0</td>\n",
       "      <td>188.391647</td>\n",
       "    </tr>\n",
       "    <tr>\n",
       "      <th>24</th>\n",
       "      <td>07-02-2007</td>\n",
       "      <td>215.029999</td>\n",
       "      <td>215.850006</td>\n",
       "      <td>213.100006</td>\n",
       "      <td>213.550003</td>\n",
       "      <td>3621700.0</td>\n",
       "      <td>187.426193</td>\n",
       "    </tr>\n",
       "    <tr>\n",
       "      <th>25</th>\n",
       "      <td>08-02-2007</td>\n",
       "      <td>212.089996</td>\n",
       "      <td>215.210007</td>\n",
       "      <td>209.809998</td>\n",
       "      <td>213.899994</td>\n",
       "      <td>5410500.0</td>\n",
       "      <td>187.733368</td>\n",
       "    </tr>\n",
       "    <tr>\n",
       "      <th>26</th>\n",
       "      <td>09-02-2007</td>\n",
       "      <td>215.770004</td>\n",
       "      <td>219.259995</td>\n",
       "      <td>210.580002</td>\n",
       "      <td>213.279999</td>\n",
       "      <td>9109300.0</td>\n",
       "      <td>187.189224</td>\n",
       "    </tr>\n",
       "    <tr>\n",
       "      <th>27</th>\n",
       "      <td>12-02-2007</td>\n",
       "      <td>213.750000</td>\n",
       "      <td>214.000000</td>\n",
       "      <td>209.869995</td>\n",
       "      <td>211.130005</td>\n",
       "      <td>5384400.0</td>\n",
       "      <td>185.302261</td>\n",
       "    </tr>\n",
       "    <tr>\n",
       "      <th>28</th>\n",
       "      <td>13-02-2007</td>\n",
       "      <td>211.979996</td>\n",
       "      <td>213.300003</td>\n",
       "      <td>210.470001</td>\n",
       "      <td>212.529999</td>\n",
       "      <td>4022000.0</td>\n",
       "      <td>186.531036</td>\n",
       "    </tr>\n",
       "    <tr>\n",
       "      <th>29</th>\n",
       "      <td>14-02-2007</td>\n",
       "      <td>213.699997</td>\n",
       "      <td>219.100006</td>\n",
       "      <td>212.789993</td>\n",
       "      <td>217.399994</td>\n",
       "      <td>7696400.0</td>\n",
       "      <td>190.805222</td>\n",
       "    </tr>\n",
       "    <tr>\n",
       "      <th>...</th>\n",
       "      <td>...</td>\n",
       "      <td>...</td>\n",
       "      <td>...</td>\n",
       "      <td>...</td>\n",
       "      <td>...</td>\n",
       "      <td>...</td>\n",
       "      <td>...</td>\n",
       "    </tr>\n",
       "    <tr>\n",
       "      <th>2730</th>\n",
       "      <td>03-11-2017</td>\n",
       "      <td>245.369995</td>\n",
       "      <td>246.279999</td>\n",
       "      <td>243.190002</td>\n",
       "      <td>244.399994</td>\n",
       "      <td>1954600.0</td>\n",
       "      <td>243.634369</td>\n",
       "    </tr>\n",
       "    <tr>\n",
       "      <th>2731</th>\n",
       "      <td>06-11-2017</td>\n",
       "      <td>243.500000</td>\n",
       "      <td>244.580002</td>\n",
       "      <td>241.669998</td>\n",
       "      <td>243.490005</td>\n",
       "      <td>1744800.0</td>\n",
       "      <td>242.727219</td>\n",
       "    </tr>\n",
       "    <tr>\n",
       "      <th>2732</th>\n",
       "      <td>07-11-2017</td>\n",
       "      <td>243.910004</td>\n",
       "      <td>244.979996</td>\n",
       "      <td>238.839996</td>\n",
       "      <td>239.809998</td>\n",
       "      <td>2483900.0</td>\n",
       "      <td>239.058746</td>\n",
       "    </tr>\n",
       "    <tr>\n",
       "      <th>2733</th>\n",
       "      <td>08-11-2017</td>\n",
       "      <td>239.199997</td>\n",
       "      <td>242.320007</td>\n",
       "      <td>237.550003</td>\n",
       "      <td>241.250000</td>\n",
       "      <td>2349800.0</td>\n",
       "      <td>240.494232</td>\n",
       "    </tr>\n",
       "    <tr>\n",
       "      <th>2734</th>\n",
       "      <td>09-11-2017</td>\n",
       "      <td>239.509995</td>\n",
       "      <td>242.369995</td>\n",
       "      <td>237.839996</td>\n",
       "      <td>240.789993</td>\n",
       "      <td>2122400.0</td>\n",
       "      <td>240.035675</td>\n",
       "    </tr>\n",
       "    <tr>\n",
       "      <th>2735</th>\n",
       "      <td>10-11-2017</td>\n",
       "      <td>241.690002</td>\n",
       "      <td>243.320007</td>\n",
       "      <td>240.000000</td>\n",
       "      <td>240.149994</td>\n",
       "      <td>1845600.0</td>\n",
       "      <td>239.397675</td>\n",
       "    </tr>\n",
       "    <tr>\n",
       "      <th>2736</th>\n",
       "      <td>13-11-2017</td>\n",
       "      <td>237.970001</td>\n",
       "      <td>240.899994</td>\n",
       "      <td>237.160004</td>\n",
       "      <td>240.270004</td>\n",
       "      <td>1953900.0</td>\n",
       "      <td>239.517303</td>\n",
       "    </tr>\n",
       "    <tr>\n",
       "      <th>2737</th>\n",
       "      <td>14-11-2017</td>\n",
       "      <td>239.649994</td>\n",
       "      <td>240.880005</td>\n",
       "      <td>235.630005</td>\n",
       "      <td>237.240005</td>\n",
       "      <td>3000200.0</td>\n",
       "      <td>236.496811</td>\n",
       "    </tr>\n",
       "    <tr>\n",
       "      <th>2738</th>\n",
       "      <td>15-11-2017</td>\n",
       "      <td>234.970001</td>\n",
       "      <td>238.149994</td>\n",
       "      <td>233.550003</td>\n",
       "      <td>237.610001</td>\n",
       "      <td>2564100.0</td>\n",
       "      <td>236.865646</td>\n",
       "    </tr>\n",
       "    <tr>\n",
       "      <th>2739</th>\n",
       "      <td>16-11-2017</td>\n",
       "      <td>238.380005</td>\n",
       "      <td>240.690002</td>\n",
       "      <td>238.199997</td>\n",
       "      <td>239.369995</td>\n",
       "      <td>2304300.0</td>\n",
       "      <td>238.620117</td>\n",
       "    </tr>\n",
       "    <tr>\n",
       "      <th>2740</th>\n",
       "      <td>17-11-2017</td>\n",
       "      <td>238.860001</td>\n",
       "      <td>239.080002</td>\n",
       "      <td>237.119995</td>\n",
       "      <td>238.020004</td>\n",
       "      <td>2826400.0</td>\n",
       "      <td>237.274353</td>\n",
       "    </tr>\n",
       "    <tr>\n",
       "      <th>2741</th>\n",
       "      <td>20-11-2017</td>\n",
       "      <td>238.779999</td>\n",
       "      <td>238.779999</td>\n",
       "      <td>237.110001</td>\n",
       "      <td>238.130005</td>\n",
       "      <td>2000700.0</td>\n",
       "      <td>237.384018</td>\n",
       "    </tr>\n",
       "    <tr>\n",
       "      <th>2742</th>\n",
       "      <td>21-11-2017</td>\n",
       "      <td>239.410004</td>\n",
       "      <td>239.589996</td>\n",
       "      <td>237.539993</td>\n",
       "      <td>238.020004</td>\n",
       "      <td>2223800.0</td>\n",
       "      <td>237.274353</td>\n",
       "    </tr>\n",
       "    <tr>\n",
       "      <th>2743</th>\n",
       "      <td>22-11-2017</td>\n",
       "      <td>237.940002</td>\n",
       "      <td>238.949997</td>\n",
       "      <td>236.360001</td>\n",
       "      <td>236.429993</td>\n",
       "      <td>2177200.0</td>\n",
       "      <td>235.689331</td>\n",
       "    </tr>\n",
       "    <tr>\n",
       "      <th>2744</th>\n",
       "      <td>24-11-2017</td>\n",
       "      <td>237.419998</td>\n",
       "      <td>238.559998</td>\n",
       "      <td>235.550003</td>\n",
       "      <td>235.949997</td>\n",
       "      <td>1268500.0</td>\n",
       "      <td>235.210831</td>\n",
       "    </tr>\n",
       "    <tr>\n",
       "      <th>2745</th>\n",
       "      <td>27-11-2017</td>\n",
       "      <td>235.750000</td>\n",
       "      <td>236.880005</td>\n",
       "      <td>234.800003</td>\n",
       "      <td>235.110001</td>\n",
       "      <td>1999600.0</td>\n",
       "      <td>234.373474</td>\n",
       "    </tr>\n",
       "    <tr>\n",
       "      <th>2746</th>\n",
       "      <td>28-11-2017</td>\n",
       "      <td>236.089996</td>\n",
       "      <td>240.000000</td>\n",
       "      <td>234.330002</td>\n",
       "      <td>239.410004</td>\n",
       "      <td>3212900.0</td>\n",
       "      <td>238.660004</td>\n",
       "    </tr>\n",
       "    <tr>\n",
       "      <th>2747</th>\n",
       "      <td>29-11-2017</td>\n",
       "      <td>241.250000</td>\n",
       "      <td>244.470001</td>\n",
       "      <td>240.399994</td>\n",
       "      <td>241.360001</td>\n",
       "      <td>4500000.0</td>\n",
       "      <td>241.360001</td>\n",
       "    </tr>\n",
       "    <tr>\n",
       "      <th>2748</th>\n",
       "      <td>30-11-2017</td>\n",
       "      <td>244.070007</td>\n",
       "      <td>250.789993</td>\n",
       "      <td>244.000000</td>\n",
       "      <td>247.639999</td>\n",
       "      <td>6364600.0</td>\n",
       "      <td>247.639999</td>\n",
       "    </tr>\n",
       "    <tr>\n",
       "      <th>2749</th>\n",
       "      <td>01-12-2017</td>\n",
       "      <td>249.779999</td>\n",
       "      <td>250.679993</td>\n",
       "      <td>244.009995</td>\n",
       "      <td>248.949997</td>\n",
       "      <td>4765400.0</td>\n",
       "      <td>248.949997</td>\n",
       "    </tr>\n",
       "    <tr>\n",
       "      <th>2750</th>\n",
       "      <td>04-12-2017</td>\n",
       "      <td>254.889999</td>\n",
       "      <td>254.899994</td>\n",
       "      <td>250.009995</td>\n",
       "      <td>250.649994</td>\n",
       "      <td>3326100.0</td>\n",
       "      <td>250.649994</td>\n",
       "    </tr>\n",
       "    <tr>\n",
       "      <th>2751</th>\n",
       "      <td>05-12-2017</td>\n",
       "      <td>250.800003</td>\n",
       "      <td>251.350006</td>\n",
       "      <td>247.410004</td>\n",
       "      <td>248.330002</td>\n",
       "      <td>2526800.0</td>\n",
       "      <td>248.330002</td>\n",
       "    </tr>\n",
       "    <tr>\n",
       "      <th>2752</th>\n",
       "      <td>06-12-2017</td>\n",
       "      <td>246.240005</td>\n",
       "      <td>248.080002</td>\n",
       "      <td>245.130005</td>\n",
       "      <td>245.949997</td>\n",
       "      <td>2331400.0</td>\n",
       "      <td>245.949997</td>\n",
       "    </tr>\n",
       "    <tr>\n",
       "      <th>2753</th>\n",
       "      <td>07-12-2017</td>\n",
       "      <td>244.619995</td>\n",
       "      <td>249.479996</td>\n",
       "      <td>244.399994</td>\n",
       "      <td>248.559998</td>\n",
       "      <td>2667000.0</td>\n",
       "      <td>248.559998</td>\n",
       "    </tr>\n",
       "    <tr>\n",
       "      <th>2754</th>\n",
       "      <td>08-12-2017</td>\n",
       "      <td>250.500000</td>\n",
       "      <td>250.679993</td>\n",
       "      <td>247.199997</td>\n",
       "      <td>250.350006</td>\n",
       "      <td>1959100.0</td>\n",
       "      <td>250.350006</td>\n",
       "    </tr>\n",
       "    <tr>\n",
       "      <th>2755</th>\n",
       "      <td>11-12-2017</td>\n",
       "      <td>250.000000</td>\n",
       "      <td>251.399994</td>\n",
       "      <td>248.759995</td>\n",
       "      <td>250.130005</td>\n",
       "      <td>1494200.0</td>\n",
       "      <td>250.130005</td>\n",
       "    </tr>\n",
       "    <tr>\n",
       "      <th>2756</th>\n",
       "      <td>12-12-2017</td>\n",
       "      <td>250.809998</td>\n",
       "      <td>258.200012</td>\n",
       "      <td>250.690002</td>\n",
       "      <td>257.679993</td>\n",
       "      <td>3464200.0</td>\n",
       "      <td>257.679993</td>\n",
       "    </tr>\n",
       "    <tr>\n",
       "      <th>2757</th>\n",
       "      <td>13-12-2017</td>\n",
       "      <td>257.809998</td>\n",
       "      <td>260.500000</td>\n",
       "      <td>255.559998</td>\n",
       "      <td>255.559998</td>\n",
       "      <td>3482300.0</td>\n",
       "      <td>255.559998</td>\n",
       "    </tr>\n",
       "    <tr>\n",
       "      <th>2758</th>\n",
       "      <td>14-12-2017</td>\n",
       "      <td>257.130005</td>\n",
       "      <td>259.549988</td>\n",
       "      <td>255.479996</td>\n",
       "      <td>255.479996</td>\n",
       "      <td>2522000.0</td>\n",
       "      <td>255.479996</td>\n",
       "    </tr>\n",
       "    <tr>\n",
       "      <th>2759</th>\n",
       "      <td>15-12-2017</td>\n",
       "      <td>256.700012</td>\n",
       "      <td>258.970001</td>\n",
       "      <td>254.759995</td>\n",
       "      <td>257.170013</td>\n",
       "      <td>5280619.0</td>\n",
       "      <td>257.170013</td>\n",
       "    </tr>\n",
       "  </tbody>\n",
       "</table>\n",
       "<p>2760 rows × 7 columns</p>\n",
       "</div>"
      ],
      "text/plain": [
       "            Date   OpenPrice   HighPrice    LowPrice  ClosePrice  \\\n",
       "0     03-01-2007  200.600006  203.320007  197.820007  200.720001   \n",
       "1     04-01-2007  200.220001  200.669998  198.070007  198.850006   \n",
       "2     05-01-2007  198.429993  200.000000  197.899994  199.050003   \n",
       "3     08-01-2007  199.050003  203.949997  198.100006  203.729996   \n",
       "4     09-01-2007  203.539993  204.899994  202.000000  204.080002   \n",
       "5     10-01-2007  203.399994  208.440002  201.500000  208.110001   \n",
       "6     11-01-2007  208.339996  213.169998  207.600006  211.880005   \n",
       "7     12-01-2007  210.899994  214.220001  210.399994  213.990005   \n",
       "8     16-01-2007  210.850006  215.130005  210.850006  213.589996   \n",
       "9     17-01-2007  212.199997  214.089996  210.850006  213.229996   \n",
       "10    18-01-2007  213.750000  214.809998  209.100006  209.679993   \n",
       "11    19-01-2007  209.080002  211.440002  208.839996  210.289993   \n",
       "12    22-01-2007  211.089996  213.250000  209.600006  212.970001   \n",
       "13    23-01-2007  212.820007  213.419998  210.649994  212.639999   \n",
       "14    24-01-2007  213.509995  220.169998  213.029999  220.100006   \n",
       "15    25-01-2007  219.830002  220.509995  212.509995  213.070007   \n",
       "16    26-01-2007  214.559998  214.899994  210.600006  213.500000   \n",
       "17    29-01-2007  213.899994  215.080002  210.130005  211.039993   \n",
       "18    30-01-2007  211.080002  212.309998  208.369995  208.779999   \n",
       "19    31-01-2007  208.300003  212.750000  207.289993  212.160004   \n",
       "20    01-02-2007  213.440002  213.899994  209.729996  212.000000   \n",
       "21    02-02-2007  211.000000  213.899994  211.000000  213.429993   \n",
       "22    05-02-2007  213.300003  213.720001  211.500000  212.550003   \n",
       "23    06-02-2007  213.289993  215.860001  212.699997  214.649994   \n",
       "24    07-02-2007  215.029999  215.850006  213.100006  213.550003   \n",
       "25    08-02-2007  212.089996  215.210007  209.809998  213.899994   \n",
       "26    09-02-2007  215.770004  219.259995  210.580002  213.279999   \n",
       "27    12-02-2007  213.750000  214.000000  209.869995  211.130005   \n",
       "28    13-02-2007  211.979996  213.300003  210.470001  212.529999   \n",
       "29    14-02-2007  213.699997  219.100006  212.789993  217.399994   \n",
       "...          ...         ...         ...         ...         ...   \n",
       "2730  03-11-2017  245.369995  246.279999  243.190002  244.399994   \n",
       "2731  06-11-2017  243.500000  244.580002  241.669998  243.490005   \n",
       "2732  07-11-2017  243.910004  244.979996  238.839996  239.809998   \n",
       "2733  08-11-2017  239.199997  242.320007  237.550003  241.250000   \n",
       "2734  09-11-2017  239.509995  242.369995  237.839996  240.789993   \n",
       "2735  10-11-2017  241.690002  243.320007  240.000000  240.149994   \n",
       "2736  13-11-2017  237.970001  240.899994  237.160004  240.270004   \n",
       "2737  14-11-2017  239.649994  240.880005  235.630005  237.240005   \n",
       "2738  15-11-2017  234.970001  238.149994  233.550003  237.610001   \n",
       "2739  16-11-2017  238.380005  240.690002  238.199997  239.369995   \n",
       "2740  17-11-2017  238.860001  239.080002  237.119995  238.020004   \n",
       "2741  20-11-2017  238.779999  238.779999  237.110001  238.130005   \n",
       "2742  21-11-2017  239.410004  239.589996  237.539993  238.020004   \n",
       "2743  22-11-2017  237.940002  238.949997  236.360001  236.429993   \n",
       "2744  24-11-2017  237.419998  238.559998  235.550003  235.949997   \n",
       "2745  27-11-2017  235.750000  236.880005  234.800003  235.110001   \n",
       "2746  28-11-2017  236.089996  240.000000  234.330002  239.410004   \n",
       "2747  29-11-2017  241.250000  244.470001  240.399994  241.360001   \n",
       "2748  30-11-2017  244.070007  250.789993  244.000000  247.639999   \n",
       "2749  01-12-2017  249.779999  250.679993  244.009995  248.949997   \n",
       "2750  04-12-2017  254.889999  254.899994  250.009995  250.649994   \n",
       "2751  05-12-2017  250.800003  251.350006  247.410004  248.330002   \n",
       "2752  06-12-2017  246.240005  248.080002  245.130005  245.949997   \n",
       "2753  07-12-2017  244.619995  249.479996  244.399994  248.559998   \n",
       "2754  08-12-2017  250.500000  250.679993  247.199997  250.350006   \n",
       "2755  11-12-2017  250.000000  251.399994  248.759995  250.130005   \n",
       "2756  12-12-2017  250.809998  258.200012  250.690002  257.679993   \n",
       "2757  13-12-2017  257.809998  260.500000  255.559998  255.559998   \n",
       "2758  14-12-2017  257.130005  259.549988  255.479996  255.479996   \n",
       "2759  15-12-2017  256.700012  258.970001  254.759995  257.170013   \n",
       "\n",
       "      VolumeTraded  AdjustedPrice  \n",
       "0        6494900.0     175.871643  \n",
       "1        6460200.0     174.233185  \n",
       "2        5892900.0     174.408432  \n",
       "3        7851000.0     178.509064  \n",
       "4        7147100.0     178.815659  \n",
       "5        8025700.0     182.346817  \n",
       "6        9039400.0     185.650101  \n",
       "7        6618900.0     187.498932  \n",
       "8        5846600.0     187.148438  \n",
       "9        5306300.0     186.832977  \n",
       "10       6423200.0     183.722458  \n",
       "11       5333700.0     184.564987  \n",
       "12       4980700.0     186.917145  \n",
       "13       6293400.0     186.627502  \n",
       "14       6386800.0     193.174973  \n",
       "15       7853800.0     187.004913  \n",
       "16       7458200.0     187.382324  \n",
       "17       5890700.0     185.223206  \n",
       "18       6001000.0     183.239761  \n",
       "19       7235100.0     186.206299  \n",
       "20       5734500.0     186.065811  \n",
       "21       3527000.0     187.320831  \n",
       "22       2995700.0     186.548538  \n",
       "23       3803100.0     188.391647  \n",
       "24       3621700.0     187.426193  \n",
       "25       5410500.0     187.733368  \n",
       "26       9109300.0     187.189224  \n",
       "27       5384400.0     185.302261  \n",
       "28       4022000.0     186.531036  \n",
       "29       7696400.0     190.805222  \n",
       "...            ...            ...  \n",
       "2730     1954600.0     243.634369  \n",
       "2731     1744800.0     242.727219  \n",
       "2732     2483900.0     239.058746  \n",
       "2733     2349800.0     240.494232  \n",
       "2734     2122400.0     240.035675  \n",
       "2735     1845600.0     239.397675  \n",
       "2736     1953900.0     239.517303  \n",
       "2737     3000200.0     236.496811  \n",
       "2738     2564100.0     236.865646  \n",
       "2739     2304300.0     238.620117  \n",
       "2740     2826400.0     237.274353  \n",
       "2741     2000700.0     237.384018  \n",
       "2742     2223800.0     237.274353  \n",
       "2743     2177200.0     235.689331  \n",
       "2744     1268500.0     235.210831  \n",
       "2745     1999600.0     234.373474  \n",
       "2746     3212900.0     238.660004  \n",
       "2747     4500000.0     241.360001  \n",
       "2748     6364600.0     247.639999  \n",
       "2749     4765400.0     248.949997  \n",
       "2750     3326100.0     250.649994  \n",
       "2751     2526800.0     248.330002  \n",
       "2752     2331400.0     245.949997  \n",
       "2753     2667000.0     248.559998  \n",
       "2754     1959100.0     250.350006  \n",
       "2755     1494200.0     250.130005  \n",
       "2756     3464200.0     257.679993  \n",
       "2757     3482300.0     255.559998  \n",
       "2758     2522000.0     255.479996  \n",
       "2759     5280619.0     257.170013  \n",
       "\n",
       "[2760 rows x 7 columns]"
      ]
     },
     "execution_count": 96,
     "metadata": {},
     "output_type": "execute_result"
    }
   ],
   "source": [
    "df = pd.read_csv('gs.csv')\n",
    "df"
   ]
  },
  {
   "cell_type": "markdown",
   "metadata": {},
   "source": [
    "### CSV Output"
   ]
  },
  {
   "cell_type": "code",
   "execution_count": 97,
   "metadata": {
    "collapsed": true
   },
   "outputs": [],
   "source": [
    "df.to_csv('gsTemp.csv',index=False)"
   ]
  },
  {
   "cell_type": "markdown",
   "metadata": {},
   "source": [
    "## Excel\n",
    "Pandas can read and write excel files, keep in mind, this only imports data. Not formulas or images, having images or macros may cause this read_excel method to crash. "
   ]
  },
  {
   "cell_type": "markdown",
   "metadata": {},
   "source": [
    "### Excel Input"
   ]
  },
  {
   "cell_type": "code",
   "execution_count": 98,
   "metadata": {},
   "outputs": [
    {
     "data": {
      "text/html": [
       "<div>\n",
       "<style scoped>\n",
       "    .dataframe tbody tr th:only-of-type {\n",
       "        vertical-align: middle;\n",
       "    }\n",
       "\n",
       "    .dataframe tbody tr th {\n",
       "        vertical-align: top;\n",
       "    }\n",
       "\n",
       "    .dataframe thead th {\n",
       "        text-align: right;\n",
       "    }\n",
       "</style>\n",
       "<table border=\"1\" class=\"dataframe\">\n",
       "  <thead>\n",
       "    <tr style=\"text-align: right;\">\n",
       "      <th></th>\n",
       "      <th>Date</th>\n",
       "      <th>OpenPrice</th>\n",
       "      <th>HighPrice</th>\n",
       "      <th>LowPrice</th>\n",
       "      <th>ClosePrice</th>\n",
       "      <th>VolumeTraded</th>\n",
       "      <th>AdjustedPrice</th>\n",
       "    </tr>\n",
       "  </thead>\n",
       "  <tbody>\n",
       "    <tr>\n",
       "      <th>0</th>\n",
       "      <td>2007-01-03</td>\n",
       "      <td>200.600006</td>\n",
       "      <td>203.320007</td>\n",
       "      <td>197.820007</td>\n",
       "      <td>200.720001</td>\n",
       "      <td>6494900</td>\n",
       "      <td>175.871643</td>\n",
       "    </tr>\n",
       "    <tr>\n",
       "      <th>1</th>\n",
       "      <td>2007-01-04</td>\n",
       "      <td>200.220001</td>\n",
       "      <td>200.669998</td>\n",
       "      <td>198.070007</td>\n",
       "      <td>198.850006</td>\n",
       "      <td>6460200</td>\n",
       "      <td>174.233185</td>\n",
       "    </tr>\n",
       "    <tr>\n",
       "      <th>2</th>\n",
       "      <td>2007-01-05</td>\n",
       "      <td>198.429993</td>\n",
       "      <td>200.000000</td>\n",
       "      <td>197.899994</td>\n",
       "      <td>199.050003</td>\n",
       "      <td>5892900</td>\n",
       "      <td>174.408432</td>\n",
       "    </tr>\n",
       "    <tr>\n",
       "      <th>3</th>\n",
       "      <td>2007-01-08</td>\n",
       "      <td>199.050003</td>\n",
       "      <td>203.949997</td>\n",
       "      <td>198.100006</td>\n",
       "      <td>203.729996</td>\n",
       "      <td>7851000</td>\n",
       "      <td>178.509064</td>\n",
       "    </tr>\n",
       "    <tr>\n",
       "      <th>4</th>\n",
       "      <td>2007-01-09</td>\n",
       "      <td>203.539993</td>\n",
       "      <td>204.899994</td>\n",
       "      <td>202.000000</td>\n",
       "      <td>204.080002</td>\n",
       "      <td>7147100</td>\n",
       "      <td>178.815659</td>\n",
       "    </tr>\n",
       "    <tr>\n",
       "      <th>5</th>\n",
       "      <td>2007-01-10</td>\n",
       "      <td>203.399994</td>\n",
       "      <td>208.440002</td>\n",
       "      <td>201.500000</td>\n",
       "      <td>208.110001</td>\n",
       "      <td>8025700</td>\n",
       "      <td>182.346817</td>\n",
       "    </tr>\n",
       "    <tr>\n",
       "      <th>6</th>\n",
       "      <td>2007-01-11</td>\n",
       "      <td>208.339996</td>\n",
       "      <td>213.169998</td>\n",
       "      <td>207.600006</td>\n",
       "      <td>211.880005</td>\n",
       "      <td>9039400</td>\n",
       "      <td>185.650101</td>\n",
       "    </tr>\n",
       "    <tr>\n",
       "      <th>7</th>\n",
       "      <td>2007-01-12</td>\n",
       "      <td>210.899994</td>\n",
       "      <td>214.220001</td>\n",
       "      <td>210.399994</td>\n",
       "      <td>213.990005</td>\n",
       "      <td>6618900</td>\n",
       "      <td>187.498932</td>\n",
       "    </tr>\n",
       "    <tr>\n",
       "      <th>8</th>\n",
       "      <td>2007-01-16</td>\n",
       "      <td>210.850006</td>\n",
       "      <td>215.130005</td>\n",
       "      <td>210.850006</td>\n",
       "      <td>213.589996</td>\n",
       "      <td>5846600</td>\n",
       "      <td>187.148438</td>\n",
       "    </tr>\n",
       "    <tr>\n",
       "      <th>9</th>\n",
       "      <td>2007-01-17</td>\n",
       "      <td>212.199997</td>\n",
       "      <td>214.089996</td>\n",
       "      <td>210.850006</td>\n",
       "      <td>213.229996</td>\n",
       "      <td>5306300</td>\n",
       "      <td>186.832977</td>\n",
       "    </tr>\n",
       "    <tr>\n",
       "      <th>10</th>\n",
       "      <td>2007-01-18</td>\n",
       "      <td>213.750000</td>\n",
       "      <td>214.809998</td>\n",
       "      <td>209.100006</td>\n",
       "      <td>209.679993</td>\n",
       "      <td>6423200</td>\n",
       "      <td>183.722458</td>\n",
       "    </tr>\n",
       "    <tr>\n",
       "      <th>11</th>\n",
       "      <td>2007-01-19</td>\n",
       "      <td>209.080002</td>\n",
       "      <td>211.440002</td>\n",
       "      <td>208.839996</td>\n",
       "      <td>210.289993</td>\n",
       "      <td>5333700</td>\n",
       "      <td>184.564987</td>\n",
       "    </tr>\n",
       "    <tr>\n",
       "      <th>12</th>\n",
       "      <td>2007-01-22</td>\n",
       "      <td>211.089996</td>\n",
       "      <td>213.250000</td>\n",
       "      <td>209.600006</td>\n",
       "      <td>212.970001</td>\n",
       "      <td>4980700</td>\n",
       "      <td>186.917145</td>\n",
       "    </tr>\n",
       "    <tr>\n",
       "      <th>13</th>\n",
       "      <td>2007-01-23</td>\n",
       "      <td>212.820007</td>\n",
       "      <td>213.419998</td>\n",
       "      <td>210.649994</td>\n",
       "      <td>212.639999</td>\n",
       "      <td>6293400</td>\n",
       "      <td>186.627502</td>\n",
       "    </tr>\n",
       "    <tr>\n",
       "      <th>14</th>\n",
       "      <td>2007-01-24</td>\n",
       "      <td>213.509995</td>\n",
       "      <td>220.169998</td>\n",
       "      <td>213.029999</td>\n",
       "      <td>220.100006</td>\n",
       "      <td>6386800</td>\n",
       "      <td>193.174973</td>\n",
       "    </tr>\n",
       "    <tr>\n",
       "      <th>15</th>\n",
       "      <td>2007-01-25</td>\n",
       "      <td>219.830002</td>\n",
       "      <td>220.509995</td>\n",
       "      <td>212.509995</td>\n",
       "      <td>213.070007</td>\n",
       "      <td>7853800</td>\n",
       "      <td>187.004913</td>\n",
       "    </tr>\n",
       "    <tr>\n",
       "      <th>16</th>\n",
       "      <td>2007-01-26</td>\n",
       "      <td>214.559998</td>\n",
       "      <td>214.899994</td>\n",
       "      <td>210.600006</td>\n",
       "      <td>213.500000</td>\n",
       "      <td>7458200</td>\n",
       "      <td>187.382324</td>\n",
       "    </tr>\n",
       "    <tr>\n",
       "      <th>17</th>\n",
       "      <td>2007-01-29</td>\n",
       "      <td>213.899994</td>\n",
       "      <td>215.080002</td>\n",
       "      <td>210.130005</td>\n",
       "      <td>211.039993</td>\n",
       "      <td>5890700</td>\n",
       "      <td>185.223206</td>\n",
       "    </tr>\n",
       "    <tr>\n",
       "      <th>18</th>\n",
       "      <td>2007-01-30</td>\n",
       "      <td>211.080002</td>\n",
       "      <td>212.309998</td>\n",
       "      <td>208.369995</td>\n",
       "      <td>208.779999</td>\n",
       "      <td>6001000</td>\n",
       "      <td>183.239761</td>\n",
       "    </tr>\n",
       "    <tr>\n",
       "      <th>19</th>\n",
       "      <td>2007-01-31</td>\n",
       "      <td>208.300003</td>\n",
       "      <td>212.750000</td>\n",
       "      <td>207.289993</td>\n",
       "      <td>212.160004</td>\n",
       "      <td>7235100</td>\n",
       "      <td>186.206299</td>\n",
       "    </tr>\n",
       "    <tr>\n",
       "      <th>20</th>\n",
       "      <td>2007-02-01</td>\n",
       "      <td>213.440002</td>\n",
       "      <td>213.899994</td>\n",
       "      <td>209.729996</td>\n",
       "      <td>212.000000</td>\n",
       "      <td>5734500</td>\n",
       "      <td>186.065811</td>\n",
       "    </tr>\n",
       "    <tr>\n",
       "      <th>21</th>\n",
       "      <td>2007-02-02</td>\n",
       "      <td>211.000000</td>\n",
       "      <td>213.899994</td>\n",
       "      <td>211.000000</td>\n",
       "      <td>213.429993</td>\n",
       "      <td>3527000</td>\n",
       "      <td>187.320831</td>\n",
       "    </tr>\n",
       "    <tr>\n",
       "      <th>22</th>\n",
       "      <td>2007-02-05</td>\n",
       "      <td>213.300003</td>\n",
       "      <td>213.720001</td>\n",
       "      <td>211.500000</td>\n",
       "      <td>212.550003</td>\n",
       "      <td>2995700</td>\n",
       "      <td>186.548538</td>\n",
       "    </tr>\n",
       "    <tr>\n",
       "      <th>23</th>\n",
       "      <td>2007-02-06</td>\n",
       "      <td>213.289993</td>\n",
       "      <td>215.860001</td>\n",
       "      <td>212.699997</td>\n",
       "      <td>214.649994</td>\n",
       "      <td>3803100</td>\n",
       "      <td>188.391647</td>\n",
       "    </tr>\n",
       "    <tr>\n",
       "      <th>24</th>\n",
       "      <td>2007-02-07</td>\n",
       "      <td>215.029999</td>\n",
       "      <td>215.850006</td>\n",
       "      <td>213.100006</td>\n",
       "      <td>213.550003</td>\n",
       "      <td>3621700</td>\n",
       "      <td>187.426193</td>\n",
       "    </tr>\n",
       "    <tr>\n",
       "      <th>25</th>\n",
       "      <td>2007-02-08</td>\n",
       "      <td>212.089996</td>\n",
       "      <td>215.210007</td>\n",
       "      <td>209.809998</td>\n",
       "      <td>213.899994</td>\n",
       "      <td>5410500</td>\n",
       "      <td>187.733368</td>\n",
       "    </tr>\n",
       "    <tr>\n",
       "      <th>26</th>\n",
       "      <td>2007-02-09</td>\n",
       "      <td>215.770004</td>\n",
       "      <td>219.259995</td>\n",
       "      <td>210.580002</td>\n",
       "      <td>213.279999</td>\n",
       "      <td>9109300</td>\n",
       "      <td>187.189224</td>\n",
       "    </tr>\n",
       "    <tr>\n",
       "      <th>27</th>\n",
       "      <td>2007-02-12</td>\n",
       "      <td>213.750000</td>\n",
       "      <td>214.000000</td>\n",
       "      <td>209.869995</td>\n",
       "      <td>211.130005</td>\n",
       "      <td>5384400</td>\n",
       "      <td>185.302261</td>\n",
       "    </tr>\n",
       "    <tr>\n",
       "      <th>28</th>\n",
       "      <td>2007-02-13</td>\n",
       "      <td>211.979996</td>\n",
       "      <td>213.300003</td>\n",
       "      <td>210.470001</td>\n",
       "      <td>212.529999</td>\n",
       "      <td>4022000</td>\n",
       "      <td>186.531036</td>\n",
       "    </tr>\n",
       "    <tr>\n",
       "      <th>29</th>\n",
       "      <td>2007-02-14</td>\n",
       "      <td>213.699997</td>\n",
       "      <td>219.100006</td>\n",
       "      <td>212.789993</td>\n",
       "      <td>217.399994</td>\n",
       "      <td>7696400</td>\n",
       "      <td>190.805222</td>\n",
       "    </tr>\n",
       "    <tr>\n",
       "      <th>...</th>\n",
       "      <td>...</td>\n",
       "      <td>...</td>\n",
       "      <td>...</td>\n",
       "      <td>...</td>\n",
       "      <td>...</td>\n",
       "      <td>...</td>\n",
       "      <td>...</td>\n",
       "    </tr>\n",
       "    <tr>\n",
       "      <th>2730</th>\n",
       "      <td>2017-11-03</td>\n",
       "      <td>245.369995</td>\n",
       "      <td>246.279999</td>\n",
       "      <td>243.190002</td>\n",
       "      <td>244.399994</td>\n",
       "      <td>1954600</td>\n",
       "      <td>243.634369</td>\n",
       "    </tr>\n",
       "    <tr>\n",
       "      <th>2731</th>\n",
       "      <td>2017-11-06</td>\n",
       "      <td>243.500000</td>\n",
       "      <td>244.580002</td>\n",
       "      <td>241.669998</td>\n",
       "      <td>243.490005</td>\n",
       "      <td>1744800</td>\n",
       "      <td>242.727219</td>\n",
       "    </tr>\n",
       "    <tr>\n",
       "      <th>2732</th>\n",
       "      <td>2017-11-07</td>\n",
       "      <td>243.910004</td>\n",
       "      <td>244.979996</td>\n",
       "      <td>238.839996</td>\n",
       "      <td>239.809998</td>\n",
       "      <td>2483900</td>\n",
       "      <td>239.058746</td>\n",
       "    </tr>\n",
       "    <tr>\n",
       "      <th>2733</th>\n",
       "      <td>2017-11-08</td>\n",
       "      <td>239.199997</td>\n",
       "      <td>242.320007</td>\n",
       "      <td>237.550003</td>\n",
       "      <td>241.250000</td>\n",
       "      <td>2349800</td>\n",
       "      <td>240.494232</td>\n",
       "    </tr>\n",
       "    <tr>\n",
       "      <th>2734</th>\n",
       "      <td>2017-11-09</td>\n",
       "      <td>239.509995</td>\n",
       "      <td>242.369995</td>\n",
       "      <td>237.839996</td>\n",
       "      <td>240.789993</td>\n",
       "      <td>2122400</td>\n",
       "      <td>240.035675</td>\n",
       "    </tr>\n",
       "    <tr>\n",
       "      <th>2735</th>\n",
       "      <td>2017-11-10</td>\n",
       "      <td>241.690002</td>\n",
       "      <td>243.320007</td>\n",
       "      <td>240.000000</td>\n",
       "      <td>240.149994</td>\n",
       "      <td>1845600</td>\n",
       "      <td>239.397675</td>\n",
       "    </tr>\n",
       "    <tr>\n",
       "      <th>2736</th>\n",
       "      <td>2017-11-13</td>\n",
       "      <td>237.970001</td>\n",
       "      <td>240.899994</td>\n",
       "      <td>237.160004</td>\n",
       "      <td>240.270004</td>\n",
       "      <td>1953900</td>\n",
       "      <td>239.517303</td>\n",
       "    </tr>\n",
       "    <tr>\n",
       "      <th>2737</th>\n",
       "      <td>2017-11-14</td>\n",
       "      <td>239.649994</td>\n",
       "      <td>240.880005</td>\n",
       "      <td>235.630005</td>\n",
       "      <td>237.240005</td>\n",
       "      <td>3000200</td>\n",
       "      <td>236.496811</td>\n",
       "    </tr>\n",
       "    <tr>\n",
       "      <th>2738</th>\n",
       "      <td>2017-11-15</td>\n",
       "      <td>234.970001</td>\n",
       "      <td>238.149994</td>\n",
       "      <td>233.550003</td>\n",
       "      <td>237.610001</td>\n",
       "      <td>2564100</td>\n",
       "      <td>236.865646</td>\n",
       "    </tr>\n",
       "    <tr>\n",
       "      <th>2739</th>\n",
       "      <td>2017-11-16</td>\n",
       "      <td>238.380005</td>\n",
       "      <td>240.690002</td>\n",
       "      <td>238.199997</td>\n",
       "      <td>239.369995</td>\n",
       "      <td>2304300</td>\n",
       "      <td>238.620117</td>\n",
       "    </tr>\n",
       "    <tr>\n",
       "      <th>2740</th>\n",
       "      <td>2017-11-17</td>\n",
       "      <td>238.860001</td>\n",
       "      <td>239.080002</td>\n",
       "      <td>237.119995</td>\n",
       "      <td>238.020004</td>\n",
       "      <td>2826400</td>\n",
       "      <td>237.274353</td>\n",
       "    </tr>\n",
       "    <tr>\n",
       "      <th>2741</th>\n",
       "      <td>2017-11-20</td>\n",
       "      <td>238.779999</td>\n",
       "      <td>238.779999</td>\n",
       "      <td>237.110001</td>\n",
       "      <td>238.130005</td>\n",
       "      <td>2000700</td>\n",
       "      <td>237.384018</td>\n",
       "    </tr>\n",
       "    <tr>\n",
       "      <th>2742</th>\n",
       "      <td>2017-11-21</td>\n",
       "      <td>239.410004</td>\n",
       "      <td>239.589996</td>\n",
       "      <td>237.539993</td>\n",
       "      <td>238.020004</td>\n",
       "      <td>2223800</td>\n",
       "      <td>237.274353</td>\n",
       "    </tr>\n",
       "    <tr>\n",
       "      <th>2743</th>\n",
       "      <td>2017-11-22</td>\n",
       "      <td>237.940002</td>\n",
       "      <td>238.949997</td>\n",
       "      <td>236.360001</td>\n",
       "      <td>236.429993</td>\n",
       "      <td>2177200</td>\n",
       "      <td>235.689331</td>\n",
       "    </tr>\n",
       "    <tr>\n",
       "      <th>2744</th>\n",
       "      <td>2017-11-24</td>\n",
       "      <td>237.419998</td>\n",
       "      <td>238.559998</td>\n",
       "      <td>235.550003</td>\n",
       "      <td>235.949997</td>\n",
       "      <td>1268500</td>\n",
       "      <td>235.210831</td>\n",
       "    </tr>\n",
       "    <tr>\n",
       "      <th>2745</th>\n",
       "      <td>2017-11-27</td>\n",
       "      <td>235.750000</td>\n",
       "      <td>236.880005</td>\n",
       "      <td>234.800003</td>\n",
       "      <td>235.110001</td>\n",
       "      <td>1999600</td>\n",
       "      <td>234.373474</td>\n",
       "    </tr>\n",
       "    <tr>\n",
       "      <th>2746</th>\n",
       "      <td>2017-11-28</td>\n",
       "      <td>236.089996</td>\n",
       "      <td>240.000000</td>\n",
       "      <td>234.330002</td>\n",
       "      <td>239.410004</td>\n",
       "      <td>3212900</td>\n",
       "      <td>238.660004</td>\n",
       "    </tr>\n",
       "    <tr>\n",
       "      <th>2747</th>\n",
       "      <td>2017-11-29</td>\n",
       "      <td>241.250000</td>\n",
       "      <td>244.470001</td>\n",
       "      <td>240.399994</td>\n",
       "      <td>241.360001</td>\n",
       "      <td>4500000</td>\n",
       "      <td>241.360001</td>\n",
       "    </tr>\n",
       "    <tr>\n",
       "      <th>2748</th>\n",
       "      <td>2017-11-30</td>\n",
       "      <td>244.070007</td>\n",
       "      <td>250.789993</td>\n",
       "      <td>244.000000</td>\n",
       "      <td>247.639999</td>\n",
       "      <td>6364600</td>\n",
       "      <td>247.639999</td>\n",
       "    </tr>\n",
       "    <tr>\n",
       "      <th>2749</th>\n",
       "      <td>2017-12-01</td>\n",
       "      <td>249.779999</td>\n",
       "      <td>250.679993</td>\n",
       "      <td>244.009995</td>\n",
       "      <td>248.949997</td>\n",
       "      <td>4765400</td>\n",
       "      <td>248.949997</td>\n",
       "    </tr>\n",
       "    <tr>\n",
       "      <th>2750</th>\n",
       "      <td>2017-12-04</td>\n",
       "      <td>254.889999</td>\n",
       "      <td>254.899994</td>\n",
       "      <td>250.009995</td>\n",
       "      <td>250.649994</td>\n",
       "      <td>3326100</td>\n",
       "      <td>250.649994</td>\n",
       "    </tr>\n",
       "    <tr>\n",
       "      <th>2751</th>\n",
       "      <td>2017-12-05</td>\n",
       "      <td>250.800003</td>\n",
       "      <td>251.350006</td>\n",
       "      <td>247.410004</td>\n",
       "      <td>248.330002</td>\n",
       "      <td>2526800</td>\n",
       "      <td>248.330002</td>\n",
       "    </tr>\n",
       "    <tr>\n",
       "      <th>2752</th>\n",
       "      <td>2017-12-06</td>\n",
       "      <td>246.240005</td>\n",
       "      <td>248.080002</td>\n",
       "      <td>245.130005</td>\n",
       "      <td>245.949997</td>\n",
       "      <td>2331400</td>\n",
       "      <td>245.949997</td>\n",
       "    </tr>\n",
       "    <tr>\n",
       "      <th>2753</th>\n",
       "      <td>2017-12-07</td>\n",
       "      <td>244.619995</td>\n",
       "      <td>249.479996</td>\n",
       "      <td>244.399994</td>\n",
       "      <td>248.559998</td>\n",
       "      <td>2667000</td>\n",
       "      <td>248.559998</td>\n",
       "    </tr>\n",
       "    <tr>\n",
       "      <th>2754</th>\n",
       "      <td>2017-12-08</td>\n",
       "      <td>250.500000</td>\n",
       "      <td>250.679993</td>\n",
       "      <td>247.199997</td>\n",
       "      <td>250.350006</td>\n",
       "      <td>1959100</td>\n",
       "      <td>250.350006</td>\n",
       "    </tr>\n",
       "    <tr>\n",
       "      <th>2755</th>\n",
       "      <td>2017-12-11</td>\n",
       "      <td>250.000000</td>\n",
       "      <td>251.399994</td>\n",
       "      <td>248.759995</td>\n",
       "      <td>250.130005</td>\n",
       "      <td>1494200</td>\n",
       "      <td>250.130005</td>\n",
       "    </tr>\n",
       "    <tr>\n",
       "      <th>2756</th>\n",
       "      <td>2017-12-12</td>\n",
       "      <td>250.809998</td>\n",
       "      <td>258.200012</td>\n",
       "      <td>250.690002</td>\n",
       "      <td>257.679993</td>\n",
       "      <td>3464200</td>\n",
       "      <td>257.679993</td>\n",
       "    </tr>\n",
       "    <tr>\n",
       "      <th>2757</th>\n",
       "      <td>2017-12-13</td>\n",
       "      <td>257.809998</td>\n",
       "      <td>260.500000</td>\n",
       "      <td>255.559998</td>\n",
       "      <td>255.559998</td>\n",
       "      <td>3482300</td>\n",
       "      <td>255.559998</td>\n",
       "    </tr>\n",
       "    <tr>\n",
       "      <th>2758</th>\n",
       "      <td>2017-12-14</td>\n",
       "      <td>257.130005</td>\n",
       "      <td>259.549988</td>\n",
       "      <td>255.479996</td>\n",
       "      <td>255.479996</td>\n",
       "      <td>2522000</td>\n",
       "      <td>255.479996</td>\n",
       "    </tr>\n",
       "    <tr>\n",
       "      <th>2759</th>\n",
       "      <td>2017-12-15</td>\n",
       "      <td>256.700012</td>\n",
       "      <td>258.970001</td>\n",
       "      <td>254.759995</td>\n",
       "      <td>257.170013</td>\n",
       "      <td>5280619</td>\n",
       "      <td>257.170013</td>\n",
       "    </tr>\n",
       "  </tbody>\n",
       "</table>\n",
       "<p>2760 rows × 7 columns</p>\n",
       "</div>"
      ],
      "text/plain": [
       "           Date   OpenPrice   HighPrice    LowPrice  ClosePrice  VolumeTraded  \\\n",
       "0    2007-01-03  200.600006  203.320007  197.820007  200.720001       6494900   \n",
       "1    2007-01-04  200.220001  200.669998  198.070007  198.850006       6460200   \n",
       "2    2007-01-05  198.429993  200.000000  197.899994  199.050003       5892900   \n",
       "3    2007-01-08  199.050003  203.949997  198.100006  203.729996       7851000   \n",
       "4    2007-01-09  203.539993  204.899994  202.000000  204.080002       7147100   \n",
       "5    2007-01-10  203.399994  208.440002  201.500000  208.110001       8025700   \n",
       "6    2007-01-11  208.339996  213.169998  207.600006  211.880005       9039400   \n",
       "7    2007-01-12  210.899994  214.220001  210.399994  213.990005       6618900   \n",
       "8    2007-01-16  210.850006  215.130005  210.850006  213.589996       5846600   \n",
       "9    2007-01-17  212.199997  214.089996  210.850006  213.229996       5306300   \n",
       "10   2007-01-18  213.750000  214.809998  209.100006  209.679993       6423200   \n",
       "11   2007-01-19  209.080002  211.440002  208.839996  210.289993       5333700   \n",
       "12   2007-01-22  211.089996  213.250000  209.600006  212.970001       4980700   \n",
       "13   2007-01-23  212.820007  213.419998  210.649994  212.639999       6293400   \n",
       "14   2007-01-24  213.509995  220.169998  213.029999  220.100006       6386800   \n",
       "15   2007-01-25  219.830002  220.509995  212.509995  213.070007       7853800   \n",
       "16   2007-01-26  214.559998  214.899994  210.600006  213.500000       7458200   \n",
       "17   2007-01-29  213.899994  215.080002  210.130005  211.039993       5890700   \n",
       "18   2007-01-30  211.080002  212.309998  208.369995  208.779999       6001000   \n",
       "19   2007-01-31  208.300003  212.750000  207.289993  212.160004       7235100   \n",
       "20   2007-02-01  213.440002  213.899994  209.729996  212.000000       5734500   \n",
       "21   2007-02-02  211.000000  213.899994  211.000000  213.429993       3527000   \n",
       "22   2007-02-05  213.300003  213.720001  211.500000  212.550003       2995700   \n",
       "23   2007-02-06  213.289993  215.860001  212.699997  214.649994       3803100   \n",
       "24   2007-02-07  215.029999  215.850006  213.100006  213.550003       3621700   \n",
       "25   2007-02-08  212.089996  215.210007  209.809998  213.899994       5410500   \n",
       "26   2007-02-09  215.770004  219.259995  210.580002  213.279999       9109300   \n",
       "27   2007-02-12  213.750000  214.000000  209.869995  211.130005       5384400   \n",
       "28   2007-02-13  211.979996  213.300003  210.470001  212.529999       4022000   \n",
       "29   2007-02-14  213.699997  219.100006  212.789993  217.399994       7696400   \n",
       "...         ...         ...         ...         ...         ...           ...   \n",
       "2730 2017-11-03  245.369995  246.279999  243.190002  244.399994       1954600   \n",
       "2731 2017-11-06  243.500000  244.580002  241.669998  243.490005       1744800   \n",
       "2732 2017-11-07  243.910004  244.979996  238.839996  239.809998       2483900   \n",
       "2733 2017-11-08  239.199997  242.320007  237.550003  241.250000       2349800   \n",
       "2734 2017-11-09  239.509995  242.369995  237.839996  240.789993       2122400   \n",
       "2735 2017-11-10  241.690002  243.320007  240.000000  240.149994       1845600   \n",
       "2736 2017-11-13  237.970001  240.899994  237.160004  240.270004       1953900   \n",
       "2737 2017-11-14  239.649994  240.880005  235.630005  237.240005       3000200   \n",
       "2738 2017-11-15  234.970001  238.149994  233.550003  237.610001       2564100   \n",
       "2739 2017-11-16  238.380005  240.690002  238.199997  239.369995       2304300   \n",
       "2740 2017-11-17  238.860001  239.080002  237.119995  238.020004       2826400   \n",
       "2741 2017-11-20  238.779999  238.779999  237.110001  238.130005       2000700   \n",
       "2742 2017-11-21  239.410004  239.589996  237.539993  238.020004       2223800   \n",
       "2743 2017-11-22  237.940002  238.949997  236.360001  236.429993       2177200   \n",
       "2744 2017-11-24  237.419998  238.559998  235.550003  235.949997       1268500   \n",
       "2745 2017-11-27  235.750000  236.880005  234.800003  235.110001       1999600   \n",
       "2746 2017-11-28  236.089996  240.000000  234.330002  239.410004       3212900   \n",
       "2747 2017-11-29  241.250000  244.470001  240.399994  241.360001       4500000   \n",
       "2748 2017-11-30  244.070007  250.789993  244.000000  247.639999       6364600   \n",
       "2749 2017-12-01  249.779999  250.679993  244.009995  248.949997       4765400   \n",
       "2750 2017-12-04  254.889999  254.899994  250.009995  250.649994       3326100   \n",
       "2751 2017-12-05  250.800003  251.350006  247.410004  248.330002       2526800   \n",
       "2752 2017-12-06  246.240005  248.080002  245.130005  245.949997       2331400   \n",
       "2753 2017-12-07  244.619995  249.479996  244.399994  248.559998       2667000   \n",
       "2754 2017-12-08  250.500000  250.679993  247.199997  250.350006       1959100   \n",
       "2755 2017-12-11  250.000000  251.399994  248.759995  250.130005       1494200   \n",
       "2756 2017-12-12  250.809998  258.200012  250.690002  257.679993       3464200   \n",
       "2757 2017-12-13  257.809998  260.500000  255.559998  255.559998       3482300   \n",
       "2758 2017-12-14  257.130005  259.549988  255.479996  255.479996       2522000   \n",
       "2759 2017-12-15  256.700012  258.970001  254.759995  257.170013       5280619   \n",
       "\n",
       "      AdjustedPrice  \n",
       "0        175.871643  \n",
       "1        174.233185  \n",
       "2        174.408432  \n",
       "3        178.509064  \n",
       "4        178.815659  \n",
       "5        182.346817  \n",
       "6        185.650101  \n",
       "7        187.498932  \n",
       "8        187.148438  \n",
       "9        186.832977  \n",
       "10       183.722458  \n",
       "11       184.564987  \n",
       "12       186.917145  \n",
       "13       186.627502  \n",
       "14       193.174973  \n",
       "15       187.004913  \n",
       "16       187.382324  \n",
       "17       185.223206  \n",
       "18       183.239761  \n",
       "19       186.206299  \n",
       "20       186.065811  \n",
       "21       187.320831  \n",
       "22       186.548538  \n",
       "23       188.391647  \n",
       "24       187.426193  \n",
       "25       187.733368  \n",
       "26       187.189224  \n",
       "27       185.302261  \n",
       "28       186.531036  \n",
       "29       190.805222  \n",
       "...             ...  \n",
       "2730     243.634369  \n",
       "2731     242.727219  \n",
       "2732     239.058746  \n",
       "2733     240.494232  \n",
       "2734     240.035675  \n",
       "2735     239.397675  \n",
       "2736     239.517303  \n",
       "2737     236.496811  \n",
       "2738     236.865646  \n",
       "2739     238.620117  \n",
       "2740     237.274353  \n",
       "2741     237.384018  \n",
       "2742     237.274353  \n",
       "2743     235.689331  \n",
       "2744     235.210831  \n",
       "2745     234.373474  \n",
       "2746     238.660004  \n",
       "2747     241.360001  \n",
       "2748     247.639999  \n",
       "2749     248.949997  \n",
       "2750     250.649994  \n",
       "2751     248.330002  \n",
       "2752     245.949997  \n",
       "2753     248.559998  \n",
       "2754     250.350006  \n",
       "2755     250.130005  \n",
       "2756     257.679993  \n",
       "2757     255.559998  \n",
       "2758     255.479996  \n",
       "2759     257.170013  \n",
       "\n",
       "[2760 rows x 7 columns]"
      ]
     },
     "execution_count": 98,
     "metadata": {},
     "output_type": "execute_result"
    }
   ],
   "source": [
    "pd.read_excel('multipleStocksData.xlsx',sheet_name='gs')"
   ]
  },
  {
   "cell_type": "markdown",
   "metadata": {},
   "source": [
    "### Excel Output"
   ]
  },
  {
   "cell_type": "code",
   "execution_count": 99,
   "metadata": {
    "collapsed": true
   },
   "outputs": [],
   "source": [
    "df.to_excel('Excel_Sample.xlsx',sheet_name='apple')"
   ]
  },
  {
   "cell_type": "markdown",
   "metadata": {},
   "source": [
    "## HTML\n",
    "\n",
    "You may need to install htmllib5,lxml, and BeautifulSoup4. In your terminal/command prompt run:\n",
    "\n",
    "    conda install lxml\n",
    "    conda install html5lib\n",
    "    conda install BeautifulSoup4\n",
    "\n",
    "Then restart Jupyter Notebook.\n",
    "(or use pip install if you aren't using the Anaconda Distribution)\n",
    "\n",
    "Pandas can read table tabs off of html. For example:"
   ]
  },
  {
   "cell_type": "markdown",
   "metadata": {},
   "source": [
    "### HTML Input\n",
    "\n",
    "Pandas read_html function will read tables off of a webpage and return a list of DataFrame objects:"
   ]
  },
  {
   "cell_type": "code",
   "execution_count": 100,
   "metadata": {
    "collapsed": true
   },
   "outputs": [],
   "source": [
    "df = pd.read_html('http://www.fdic.gov/bank/individual/failed/banklist.html')"
   ]
  },
  {
   "cell_type": "code",
   "execution_count": 101,
   "metadata": {
    "collapsed": true
   },
   "outputs": [],
   "source": [
    "sampleDf = df[0]"
   ]
  },
  {
   "cell_type": "code",
   "execution_count": 102,
   "metadata": {},
   "outputs": [
    {
     "data": {
      "text/plain": [
       "[                                             Bank Name                City  \\\n",
       " 0                  Washington Federal Bank for Savings             Chicago   \n",
       " 1      The Farmers and Merchants State Bank of Argonia             Argonia   \n",
       " 2                                  Fayette County Bank          Saint Elmo   \n",
       " 3    Guaranty Bank, (d/b/a BestBank in Georgia & Mi...           Milwaukee   \n",
       " 4                                       First NBC Bank         New Orleans   \n",
       " 5                                        Proficio Bank  Cottonwood Heights   \n",
       " 6                        Seaway Bank and Trust Company             Chicago   \n",
       " 7                               Harvest Community Bank          Pennsville   \n",
       " 8                                          Allied Bank            Mulberry   \n",
       " 9                         The Woodbury Banking Company            Woodbury   \n",
       " 10                              First CornerStone Bank     King of Prussia   \n",
       " 11                                  Trust Company Bank             Memphis   \n",
       " 12                          North Milwaukee State Bank           Milwaukee   \n",
       " 13                              Hometown National Bank            Longview   \n",
       " 14                                 The Bank of Georgia      Peachtree City   \n",
       " 15                                        Premier Bank              Denver   \n",
       " 16                                      Edgebrook Bank             Chicago   \n",
       " 17                              Doral Bank  En Espanol            San Juan   \n",
       " 18                   Capitol City Bank & Trust Company             Atlanta   \n",
       " 19                             Highland Community Bank             Chicago   \n",
       " 20                    First National Bank of Crestview           Crestview   \n",
       " 21                                  Northern Star Bank             Mankato   \n",
       " 22              Frontier Bank, FSB D/B/A El Paseo Bank         Palm Desert   \n",
       " 23               The National Republic Bank of Chicago             Chicago   \n",
       " 24                                      NBRS Financial          Rising Sun   \n",
       " 25                               GreenChoice Bank, fsb             Chicago   \n",
       " 26                            Eastside Commercial Bank             Conyers   \n",
       " 27                              The Freedom State Bank             Freedom   \n",
       " 28                                         Valley Bank     Fort Lauderdale   \n",
       " 29                                         Valley Bank              Moline   \n",
       " ..                                                 ...                 ...   \n",
       " 525                                  ANB Financial, NA         Bentonville   \n",
       " 526                                          Hume Bank                Hume   \n",
       " 527                             Douglass National Bank         Kansas City   \n",
       " 528                                  Miami Valley Bank            Lakeview   \n",
       " 529                                            NetBank          Alpharetta   \n",
       " 530                          Metropolitan Savings Bank          Pittsburgh   \n",
       " 531                                    Bank of Ephraim             Ephraim   \n",
       " 532                                      Reliance Bank        White Plains   \n",
       " 533              Guaranty National Bank of Tallahassee         Tallahassee   \n",
       " 534                                Dollar Savings Bank              Newark   \n",
       " 535                               Pulaski Savings Bank        Philadelphia   \n",
       " 536              First National Bank of Blanchardville      Blanchardville   \n",
       " 537                              Southern Pacific Bank            Torrance   \n",
       " 538                        Farmers Bank of Cheneyville         Cheneyville   \n",
       " 539                                      Bank of Alamo               Alamo   \n",
       " 540             AmTrade International Bank  En Espanol             Atlanta   \n",
       " 541                     Universal Federal Savings Bank             Chicago   \n",
       " 542                       Connecticut Bank of Commerce            Stamford   \n",
       " 543                                   New Century Bank     Shelby Township   \n",
       " 544                              Net 1st National Bank          Boca Raton   \n",
       " 545                                       NextBank, NA             Phoenix   \n",
       " 546                           Oakwood Deposit Bank Co.             Oakwood   \n",
       " 547                              Bank of Sierra Blanca       Sierra Blanca   \n",
       " 548                      Hamilton Bank, NA  En Espanol               Miami   \n",
       " 549                             Sinclair National Bank            Gravette   \n",
       " 550                                 Superior Bank, FSB            Hinsdale   \n",
       " 551                                Malta National Bank               Malta   \n",
       " 552                    First Alliance Bank & Trust Co.          Manchester   \n",
       " 553                  National State Bank of Metropolis          Metropolis   \n",
       " 554                                   Bank of Honolulu            Honolulu   \n",
       " \n",
       "      ST   CERT                Acquiring Institution        Closing Date  \\\n",
       " 0    IL  30570                   Royal Savings Bank   December 15, 2017   \n",
       " 1    KS  17719                          Conway Bank    October 13, 2017   \n",
       " 2    IL   1802            United Fidelity Bank, fsb        May 26, 2017   \n",
       " 3    WI  30003  First-Citizens Bank & Trust Company         May 5, 2017   \n",
       " 4    LA  58302                         Whitney Bank      April 28, 2017   \n",
       " 5    UT  35495                    Cache Valley Bank       March 3, 2017   \n",
       " 6    IL  19328                  State Bank of Texas    January 27, 2017   \n",
       " 7    NJ  34951  First-Citizens Bank & Trust Company    January 13, 2017   \n",
       " 8    AR     91                         Today's Bank  September 23, 2016   \n",
       " 9    GA  11297                          United Bank     August 19, 2016   \n",
       " 10   PA  35312  First-Citizens Bank & Trust Company         May 6, 2016   \n",
       " 11   TN   9956           The Bank of Fayette County      April 29, 2016   \n",
       " 12   WI  20364  First-Citizens Bank & Trust Company      March 11, 2016   \n",
       " 13   WA  35156                       Twin City Bank     October 2, 2015   \n",
       " 14   GA  35259                        Fidelity Bank     October 2, 2015   \n",
       " 15   CO  34112            United Fidelity Bank, fsb       July 10, 2015   \n",
       " 16   IL  57772             Republic Bank of Chicago         May 8, 2015   \n",
       " 17   PR  32102         Banco Popular de Puerto Rico   February 27, 2015   \n",
       " 18   GA  33938  First-Citizens Bank & Trust Company   February 13, 2015   \n",
       " 19   IL  20290            United Fidelity Bank, fsb    January 23, 2015   \n",
       " 20   FL  17557                       First NBC Bank    January 16, 2015   \n",
       " 21   MN  34983                            BankVista   December 19, 2014   \n",
       " 22   CA  34738    Bank of Southern California, N.A.    November 7, 2014   \n",
       " 23   IL    916                  State Bank of Texas    October 24, 2014   \n",
       " 24   MD   4862                          Howard Bank    October 17, 2014   \n",
       " 25   IL  28462                 Providence Bank, LLC       July 25, 2014   \n",
       " 26   GA  58125            Community & Southern Bank       July 18, 2014   \n",
       " 27   OK  12483      Alva State Bank & Trust Company       June 27, 2014   \n",
       " 28   FL  21793  Landmark Bank, National Association       June 20, 2014   \n",
       " 29   IL  10450                  Great Southern Bank       June 20, 2014   \n",
       " ..   ..    ...                                  ...                 ...   \n",
       " 525  AR  33901       Pulaski Bank and Trust Company         May 9, 2008   \n",
       " 526  MO   1971                        Security Bank       March 7, 2008   \n",
       " 527  MO  24660       Liberty Bank and Trust Company    January 25, 2008   \n",
       " 528  OH  16848         The Citizens Banking Company     October 4, 2007   \n",
       " 529  GA  32575                           ING DIRECT  September 28, 2007   \n",
       " 530  PA  35353  Allegheny Valley Bank of Pittsburgh    February 2, 2007   \n",
       " 531  UT   1249                        Far West Bank       June 25, 2004   \n",
       " 532  NY  26778                     Union State Bank      March 19, 2004   \n",
       " 533  FL  26838              Hancock Bank of Florida      March 12, 2004   \n",
       " 534  NJ  31330                          No Acquirer   February 14, 2004   \n",
       " 535  PA  27203                       Earthstar Bank   November 14, 2003   \n",
       " 536  WI  11639                        The Park Bank         May 9, 2003   \n",
       " 537  CA  27094                            Beal Bank    February 7, 2003   \n",
       " 538  LA  16445            Sabine State Bank & Trust   December 17, 2002   \n",
       " 539  TN   9961                          No Acquirer    November 8, 2002   \n",
       " 540  GA  33784                          No Acquirer  September 30, 2002   \n",
       " 541  IL  29355               Chicago Community Bank       June 27, 2002   \n",
       " 542  CT  19183                   Hudson United Bank       June 26, 2002   \n",
       " 543  MI  34979                          No Acquirer      March 28, 2002   \n",
       " 544  FL  26652                       Bank Leumi USA       March 1, 2002   \n",
       " 545  AZ  22314                          No Acquirer    February 7, 2002   \n",
       " 546  OH   8966       The State Bank & Trust Company    February 1, 2002   \n",
       " 547  TX  22002     The Security State Bank of Pecos    January 18, 2002   \n",
       " 548  FL  24382     Israel Discount Bank of New York    January 11, 2002   \n",
       " 549  AR  34248                   Delta Trust & Bank   September 7, 2001   \n",
       " 550  IL  32646                Superior Federal, FSB       July 27, 2001   \n",
       " 551  OH   6629                    North Valley Bank         May 3, 2001   \n",
       " 552  NH  34264  Southern New Hampshire Bank & Trust    February 2, 2001   \n",
       " 553  IL   3815              Banterra Bank of Marion   December 14, 2000   \n",
       " 554  HI  21029                   Bank of the Orient    October 13, 2000   \n",
       " \n",
       "            Updated Date  \n",
       " 0     February 21, 2018  \n",
       " 1     February 21, 2018  \n",
       " 2         July 26, 2017  \n",
       " 3        March 22, 2018  \n",
       " 4      December 5, 2017  \n",
       " 5         March 7, 2018  \n",
       " 6          May 18, 2017  \n",
       " 7          May 18, 2017  \n",
       " 8    September 25, 2017  \n",
       " 9          June 1, 2017  \n",
       " 10    September 6, 2016  \n",
       " 11    September 6, 2016  \n",
       " 12       March 13, 2017  \n",
       " 13    February 19, 2018  \n",
       " 14         July 9, 2018  \n",
       " 15    February 20, 2018  \n",
       " 16        July 12, 2016  \n",
       " 17         May 13, 2015  \n",
       " 18       April 21, 2015  \n",
       " 19    November 15, 2017  \n",
       " 20    November 15, 2017  \n",
       " 21      January 3, 2018  \n",
       " 22    November 10, 2016  \n",
       " 23      January 6, 2016  \n",
       " 24    February 19, 2018  \n",
       " 25    December 12, 2016  \n",
       " 26      October 6, 2017  \n",
       " 27    February 21, 2018  \n",
       " 28    February 14, 2018  \n",
       " 29        June 26, 2015  \n",
       " ..                  ...  \n",
       " 525     August 28, 2012  \n",
       " 526     August 28, 2012  \n",
       " 527    October 26, 2012  \n",
       " 528  September 12, 2016  \n",
       " 529     August 28, 2012  \n",
       " 530    October 27, 2010  \n",
       " 531       April 9, 2008  \n",
       " 532       April 9, 2008  \n",
       " 533      April 17, 2018  \n",
       " 534       April 9, 2008  \n",
       " 535     October 6, 2017  \n",
       " 536        June 5, 2012  \n",
       " 537    October 20, 2008  \n",
       " 538    October 20, 2004  \n",
       " 539      March 18, 2005  \n",
       " 540  September 11, 2006  \n",
       " 541     October 6, 2017  \n",
       " 542   February 14, 2012  \n",
       " 543      March 18, 2005  \n",
       " 544       April 9, 2008  \n",
       " 545    February 5, 2015  \n",
       " 546    October 25, 2012  \n",
       " 547    November 6, 2003  \n",
       " 548  September 21, 2015  \n",
       " 549     October 6, 2017  \n",
       " 550     August 19, 2014  \n",
       " 551   November 18, 2002  \n",
       " 552   February 18, 2003  \n",
       " 553      March 17, 2005  \n",
       " 554      March 17, 2005  \n",
       " \n",
       " [555 rows x 7 columns]]"
      ]
     },
     "execution_count": 102,
     "metadata": {},
     "output_type": "execute_result"
    }
   ],
   "source": [
    "df"
   ]
  },
  {
   "cell_type": "code",
   "execution_count": 103,
   "metadata": {},
   "outputs": [
    {
     "data": {
      "text/plain": [
       "pandas.core.frame.DataFrame"
      ]
     },
     "execution_count": 103,
     "metadata": {},
     "output_type": "execute_result"
    }
   ],
   "source": [
    "type(sampleDf)"
   ]
  },
  {
   "cell_type": "code",
   "execution_count": 105,
   "metadata": {
    "collapsed": true
   },
   "outputs": [],
   "source": [
    "sampleDf.to_csv(\"sampleDf.csv\")"
   ]
  },
  {
   "cell_type": "code",
   "execution_count": null,
   "metadata": {
    "collapsed": true
   },
   "outputs": [],
   "source": []
  }
 ],
 "metadata": {
  "kernelspec": {
   "display_name": "Python 2",
   "language": "python",
   "name": "python2"
  },
  "language_info": {
   "codemirror_mode": {
    "name": "ipython",
    "version": 2
   },
   "file_extension": ".py",
   "mimetype": "text/x-python",
   "name": "python",
   "nbconvert_exporter": "python",
   "pygments_lexer": "ipython2",
   "version": "2.7.15"
  }
 },
 "nbformat": 4,
 "nbformat_minor": 2
}
