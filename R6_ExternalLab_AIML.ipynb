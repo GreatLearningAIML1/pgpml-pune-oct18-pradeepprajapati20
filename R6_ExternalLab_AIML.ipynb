{
  "nbformat": 4,
  "nbformat_minor": 0,
  "metadata": {
    "colab": {
      "name": "R6_ExternalLab_AIML.ipynb",
      "version": "0.3.2",
      "provenance": []
    },
    "kernelspec": {
      "name": "python2",
      "display_name": "Python 2"
    },
    "accelerator": "GPU"
  },
  "cells": [
    {
      "metadata": {
        "id": "YYk8NG3yOIT9",
        "colab_type": "text"
      },
      "cell_type": "markdown",
      "source": [
        "### A MNIST-like fashion product database\n",
        "\n",
        "In this, we classify the images into respective classes given in the dataset. We use a Neural Net and a Deep Neural Net in Keras to solve this and check the accuracy scores."
      ]
    },
    {
      "metadata": {
        "slideshow": {
          "slide_type": "slide"
        },
        "id": "tFO6PuxzOIT_",
        "colab_type": "text"
      },
      "cell_type": "markdown",
      "source": [
        "### Load tensorflow"
      ]
    },
    {
      "metadata": {
        "id": "efNjNImfOIUC",
        "colab_type": "code",
        "colab": {}
      },
      "cell_type": "code",
      "source": [
        "import tensorflow as tf\n",
        "tf.set_random_seed(42)"
      ],
      "execution_count": 0,
      "outputs": []
    },
    {
      "metadata": {
        "id": "Xt_ORM_O6Bll",
        "colab_type": "code",
        "colab": {}
      },
      "cell_type": "code",
      "source": [
        "import numpy as np\n",
        "import matplotlib.pyplot as plt"
      ],
      "execution_count": 0,
      "outputs": []
    },
    {
      "metadata": {
        "id": "l9C4aAIGOIUH",
        "colab_type": "code",
        "outputId": "f7dffab1-a048-49c0-ddd3-bc9710a80fe2",
        "colab": {
          "base_uri": "https://localhost:8080/",
          "height": 34
        }
      },
      "cell_type": "code",
      "source": [
        "tf.__version__"
      ],
      "execution_count": 47,
      "outputs": [
        {
          "output_type": "execute_result",
          "data": {
            "text/plain": [
              "'1.13.1'"
            ]
          },
          "metadata": {
            "tags": []
          },
          "execution_count": 47
        }
      ]
    },
    {
      "metadata": {
        "slideshow": {
          "slide_type": "slide"
        },
        "id": "HcoZBStrOIUQ",
        "colab_type": "text"
      },
      "cell_type": "markdown",
      "source": [
        "### Collect Data"
      ]
    },
    {
      "metadata": {
        "id": "XA1WsFSeOIUS",
        "colab_type": "code",
        "colab": {}
      },
      "cell_type": "code",
      "source": [
        "import keras"
      ],
      "execution_count": 0,
      "outputs": []
    },
    {
      "metadata": {
        "id": "qnbx7TyQOIUY",
        "colab_type": "code",
        "colab": {}
      },
      "cell_type": "code",
      "source": [
        "# Load the fashion-mnist pre-shuffled train data and test data\n",
        "(x_train, y_train), (x_test, y_test) = tf.keras.datasets.fashion_mnist.load_data()"
      ],
      "execution_count": 0,
      "outputs": []
    },
    {
      "metadata": {
        "slideshow": {
          "slide_type": "fragment"
        },
        "id": "UbiHj5YPOIUc",
        "colab_type": "code",
        "outputId": "123167a1-1b45-4675-f969-c190ecf216b5",
        "colab": {
          "base_uri": "https://localhost:8080/",
          "height": 34
        }
      },
      "cell_type": "code",
      "source": [
        "print(y_test[0:5])"
      ],
      "execution_count": 50,
      "outputs": [
        {
          "output_type": "stream",
          "text": [
            "[9 2 1 1 6]\n"
          ],
          "name": "stdout"
        }
      ]
    },
    {
      "metadata": {
        "id": "l0ZLOIa_6RJb",
        "colab_type": "code",
        "colab": {
          "base_uri": "https://localhost:8080/",
          "height": 34
        },
        "outputId": "efa63afe-f73d-49eb-d4ff-7c3040ac5df3"
      },
      "cell_type": "code",
      "source": [
        "print(\"x_train shape:\", x_train.shape, \"y_train shape:\", y_train.shape)"
      ],
      "execution_count": 51,
      "outputs": [
        {
          "output_type": "stream",
          "text": [
            "('x_train shape:', (60000, 28, 28), 'y_train shape:', (60000,))\n"
          ],
          "name": "stdout"
        }
      ]
    },
    {
      "metadata": {
        "slideshow": {
          "slide_type": "slide"
        },
        "id": "lDAYzkwyOIUj",
        "colab_type": "text"
      },
      "cell_type": "markdown",
      "source": [
        "### Convert both training and testing labels into one-hot vectors.\n",
        "\n",
        "**Hint:** check **tf.keras.utils.to_categorical()**"
      ]
    },
    {
      "metadata": {
        "id": "c0fNqnWb8P1h",
        "colab_type": "text"
      },
      "cell_type": "markdown",
      "source": [
        "Label Description \n",
        "0 T-shirt/top \n",
        "1 Trouser \n",
        "2 Pullover \n",
        "3 Dress \n",
        "4 Coat \n",
        "5 Sandal \n",
        "6 Shirt \n",
        "7 Sneaker \n",
        "8 Bag \n",
        "9 Ankle boot"
      ]
    },
    {
      "metadata": {
        "id": "vBlfYlANOIUk",
        "colab_type": "code",
        "colab": {}
      },
      "cell_type": "code",
      "source": [
        "x_train = x_train.astype('float32') / 255\n",
        "x_test = x_test.astype('float32') / 255"
      ],
      "execution_count": 0,
      "outputs": []
    },
    {
      "metadata": {
        "id": "Z6TAajxZ78Hb",
        "colab_type": "code",
        "colab": {}
      },
      "cell_type": "code",
      "source": [
        "y_train = keras.utils.to_categorical(y_train, 10)\n",
        "y_test = keras.utils.to_categorical(y_test, 10)"
      ],
      "execution_count": 0,
      "outputs": []
    },
    {
      "metadata": {
        "scrolled": true,
        "slideshow": {
          "slide_type": "fragment"
        },
        "id": "RHV3b9mzOIUq",
        "colab_type": "code",
        "outputId": "78901603-220f-4d70-a5f1-f48e251c5f36",
        "colab": {
          "base_uri": "https://localhost:8080/",
          "height": 119
        }
      },
      "cell_type": "code",
      "source": [
        "print(y_train.shape)\n",
        "print('First 5 examples now are: ', y_train[0:5])"
      ],
      "execution_count": 54,
      "outputs": [
        {
          "output_type": "stream",
          "text": [
            "(60000, 10)\n",
            "('First 5 examples now are: ', array([[0., 0., 0., 0., 0., 0., 0., 0., 0., 1.],\n",
            "       [1., 0., 0., 0., 0., 0., 0., 0., 0., 0.],\n",
            "       [1., 0., 0., 0., 0., 0., 0., 0., 0., 0.],\n",
            "       [0., 0., 0., 1., 0., 0., 0., 0., 0., 0.],\n",
            "       [1., 0., 0., 0., 0., 0., 0., 0., 0., 0.]], dtype=float32))\n"
          ],
          "name": "stdout"
        }
      ]
    },
    {
      "metadata": {
        "id": "FwhQ8e7VOIUw",
        "colab_type": "text"
      },
      "cell_type": "markdown",
      "source": [
        "### Visualize the data\n",
        "\n",
        "Plot first 10 images in the triaining set and their labels."
      ]
    },
    {
      "metadata": {
        "id": "AvDML2OoOIUx",
        "colab_type": "code",
        "outputId": "b2b6a3db-3263-43b0-f7ec-a2ca8497b059",
        "colab": {
          "base_uri": "https://localhost:8080/",
          "height": 237
        }
      },
      "cell_type": "code",
      "source": [
        "# Show one of the images from the training dataset\n",
        "plt.figure(figsize=(10,10))\n",
        "for i in range(10):\n",
        "    plt.subplot(5,5,i+1)\n",
        "    plt.xticks([])\n",
        "    plt.yticks([])\n",
        "    plt.grid(False)\n",
        "    plt.imshow(x_train[i], cmap=plt.cm.binary)\n",
        "plt.show()"
      ],
      "execution_count": 55,
      "outputs": [
        {
          "output_type": "display_data",
          "data": {
            "image/png": "[encoded data removed]",
            "text/plain": [
              "<Figure size 720x720 with 10 Axes>"
            ]
          },
          "metadata": {
            "tags": []
          }
        }
      ]
    },
    {
      "metadata": {
        "slideshow": {
          "slide_type": "slide"
        },
        "id": "l4TbJGeSOIU4",
        "colab_type": "text"
      },
      "cell_type": "markdown",
      "source": [
        "### Build a neural Network with a cross entropy loss function and sgd optimizer in Keras. The output layer with 10 neurons as we have 10 classes."
      ]
    },
    {
      "metadata": {
        "id": "Ac06XZZTOIU6",
        "colab_type": "code",
        "colab": {
          "base_uri": "https://localhost:8080/",
          "height": 238
        },
        "outputId": "25723e3f-8a6d-4404-d6a9-dd3d58c83bc2"
      },
      "cell_type": "code",
      "source": [
        "model = tf.keras.Sequential()\n",
        "\n",
        "#Reshape data from 2D to 1D -> 28x28 to 784\n",
        "model.add(tf.keras.layers.Reshape((784,),input_shape=(28,28,)))\n",
        "\n",
        "\n",
        "#Add 1st hidden layer\n",
        "model.add(tf.keras.layers.Dense(128, activation='sigmoid'))\n",
        "\n",
        "\n",
        "#Add OUTPUT layer\n",
        "model.add(tf.keras.layers.Dense(10, activation='softmax'))\n",
        "\n",
        "# Take a look at the model summary\n",
        "model.summary()"
      ],
      "execution_count": 60,
      "outputs": [
        {
          "output_type": "stream",
          "text": [
            "_________________________________________________________________\n",
            "Layer (type)                 Output Shape              Param #   \n",
            "=================================================================\n",
            "reshape_4 (Reshape)          (None, 784)               0         \n",
            "_________________________________________________________________\n",
            "dense_24 (Dense)             (None, 128)               100480    \n",
            "_________________________________________________________________\n",
            "dense_25 (Dense)             (None, 10)                1290      \n",
            "=================================================================\n",
            "Total params: 101,770\n",
            "Trainable params: 101,770\n",
            "Non-trainable params: 0\n",
            "_________________________________________________________________\n"
          ],
          "name": "stdout"
        }
      ]
    },
    {
      "metadata": {
        "slideshow": {
          "slide_type": "slide"
        },
        "id": "3hQpLv3aOIU_",
        "colab_type": "text"
      },
      "cell_type": "markdown",
      "source": [
        "### Execute the model using model.fit()"
      ]
    },
    {
      "metadata": {
        "id": "O59C_-IgOIVB",
        "colab_type": "code",
        "colab": {}
      },
      "cell_type": "code",
      "source": [
        "model.compile(loss='categorical_crossentropy',\n",
        "             optimizer='sgd',\n",
        "             metrics=['accuracy'])"
      ],
      "execution_count": 0,
      "outputs": []
    },
    {
      "metadata": {
        "id": "R9pu2BGG-82b",
        "colab_type": "code",
        "colab": {
          "base_uri": "https://localhost:8080/",
          "height": 391
        },
        "outputId": "eb5a68e8-36ae-4cb0-e139-9cebdfd12356"
      },
      "cell_type": "code",
      "source": [
        "model.fit(x_train,\n",
        "         y_train,\n",
        "         batch_size=64,\n",
        "         epochs=10,\n",
        "         validation_data=(x_test, y_test))"
      ],
      "execution_count": 62,
      "outputs": [
        {
          "output_type": "stream",
          "text": [
            "Train on 60000 samples, validate on 10000 samples\n",
            "Epoch 1/10\n",
            "60000/60000 [==============================] - 4s 63us/sample - loss: 1.5653 - acc: 0.5990 - val_loss: 1.1442 - val_acc: 0.7073\n",
            "Epoch 2/10\n",
            "60000/60000 [==============================] - 4s 61us/sample - loss: 0.9795 - acc: 0.7290 - val_loss: 0.8791 - val_acc: 0.7277\n",
            "Epoch 3/10\n",
            "60000/60000 [==============================] - 4s 61us/sample - loss: 0.8069 - acc: 0.7494 - val_loss: 0.7696 - val_acc: 0.7479\n",
            "Epoch 4/10\n",
            "60000/60000 [==============================] - 4s 61us/sample - loss: 0.7235 - acc: 0.7629 - val_loss: 0.7082 - val_acc: 0.7603\n",
            "Epoch 5/10\n",
            "60000/60000 [==============================] - 4s 61us/sample - loss: 0.6722 - acc: 0.7742 - val_loss: 0.6676 - val_acc: 0.7693\n",
            "Epoch 6/10\n",
            "60000/60000 [==============================] - 4s 62us/sample - loss: 0.6363 - acc: 0.7839 - val_loss: 0.6370 - val_acc: 0.7784\n",
            "Epoch 7/10\n",
            "60000/60000 [==============================] - 4s 61us/sample - loss: 0.6088 - acc: 0.7920 - val_loss: 0.6149 - val_acc: 0.7853\n",
            "Epoch 8/10\n",
            "60000/60000 [==============================] - 4s 62us/sample - loss: 0.5872 - acc: 0.7993 - val_loss: 0.5957 - val_acc: 0.7928\n",
            "Epoch 9/10\n",
            "60000/60000 [==============================] - 4s 62us/sample - loss: 0.5692 - acc: 0.8038 - val_loss: 0.5797 - val_acc: 0.7987\n",
            "Epoch 10/10\n",
            "60000/60000 [==============================] - 4s 62us/sample - loss: 0.5542 - acc: 0.8088 - val_loss: 0.5673 - val_acc: 0.8001\n"
          ],
          "name": "stdout"
        },
        {
          "output_type": "execute_result",
          "data": {
            "text/plain": [
              "<tensorflow.python.keras.callbacks.History at 0x7fc30d139510>"
            ]
          },
          "metadata": {
            "tags": []
          },
          "execution_count": 62
        }
      ]
    },
    {
      "metadata": {
        "id": "NenVLlGq_Vvb",
        "colab_type": "code",
        "colab": {
          "base_uri": "https://localhost:8080/",
          "height": 34
        },
        "outputId": "91fb6806-0cd0-4249-a4b8-1dee5b103273"
      },
      "cell_type": "code",
      "source": [
        "# Evaluate the model on test set\n",
        "score = model.evaluate(x_test, y_test, verbose=0)\n",
        "# Print test accuracy\n",
        "print('\\n', 'Test accuracy:', score[1])"
      ],
      "execution_count": 63,
      "outputs": [
        {
          "output_type": "stream",
          "text": [
            "('\\n', 'Test accuracy:', 0.8001)\n"
          ],
          "name": "stdout"
        }
      ]
    },
    {
      "metadata": {
        "id": "AeGujLJW_GJK",
        "colab_type": "code",
        "colab": {
          "base_uri": "https://localhost:8080/",
          "height": 238
        },
        "outputId": "bf3d3a2e-d7e4-4914-d5f1-6fedf3b7dfca"
      },
      "cell_type": "code",
      "source": [
        "model.predict(x_test)"
      ],
      "execution_count": 64,
      "outputs": [
        {
          "output_type": "execute_result",
          "data": {
            "text/plain": [
              "array([[1.8577202e-04, 9.6131887e-05, 8.3348725e-04, ..., 2.5909156e-01,\n",
              "        1.6395278e-02, 5.0458288e-01],\n",
              "       [2.7087408e-03, 2.0451970e-04, 8.4194881e-01, ..., 2.0902669e-05,\n",
              "        1.1857708e-03, 9.4576208e-05],\n",
              "       [3.6122973e-04, 9.9678552e-01, 2.0684050e-04, ..., 1.6797927e-05,\n",
              "        2.8276463e-06, 8.6486745e-07],\n",
              "       ...,\n",
              "       [1.0773549e-01, 1.7934300e-04, 2.8107462e-03, ..., 7.2256208e-04,\n",
              "        6.6424036e-01, 1.2382671e-03],\n",
              "       [2.2293462e-03, 9.2459863e-01, 1.8726925e-03, ..., 4.5108394e-04,\n",
              "        2.5328514e-05, 6.7363486e-05],\n",
              "       [1.1818355e-03, 1.4411708e-03, 6.0443133e-03, ..., 3.2106647e-01,\n",
              "        3.4863073e-02, 3.7044328e-02]], dtype=float32)"
            ]
          },
          "metadata": {
            "tags": []
          },
          "execution_count": 64
        }
      ]
    },
    {
      "metadata": {
        "slideshow": {
          "slide_type": "slide"
        },
        "id": "JdzDtGwDOIVF",
        "colab_type": "text"
      },
      "cell_type": "markdown",
      "source": [
        "### In the above Neural Network model add Batch Normalization layer after the input layer and repeat the steps."
      ]
    },
    {
      "metadata": {
        "id": "kndfpdidOIVI",
        "colab_type": "code",
        "colab": {
          "base_uri": "https://localhost:8080/",
          "height": 272
        },
        "outputId": "3d342c2a-93c7-4c0e-b539-69269b31f5aa"
      },
      "cell_type": "code",
      "source": [
        "model = tf.keras.Sequential()\n",
        "\n",
        "#Reshape data from 2D to 1D -> 28x28 to 784\n",
        "model.add(tf.keras.layers.Reshape((784,),input_shape=(28,28,)))\n",
        "\n",
        "\n",
        "\n",
        "#Normalize the data\n",
        "model.add(tf.keras.layers.BatchNormalization())\n",
        "\n",
        "\n",
        "#Add 1st hidden layer\n",
        "model.add(tf.keras.layers.Dense(128, activation='sigmoid'))\n",
        "\n",
        "\n",
        "#Add OUTPUT layer\n",
        "model.add(tf.keras.layers.Dense(10, activation='softmax'))\n",
        "\n",
        "# Take a look at the model summary\n",
        "model.summary()"
      ],
      "execution_count": 65,
      "outputs": [
        {
          "output_type": "stream",
          "text": [
            "_________________________________________________________________\n",
            "Layer (type)                 Output Shape              Param #   \n",
            "=================================================================\n",
            "reshape_5 (Reshape)          (None, 784)               0         \n",
            "_________________________________________________________________\n",
            "batch_normalization_v1_3 (Ba (None, 784)               3136      \n",
            "_________________________________________________________________\n",
            "dense_26 (Dense)             (None, 128)               100480    \n",
            "_________________________________________________________________\n",
            "dense_27 (Dense)             (None, 10)                1290      \n",
            "=================================================================\n",
            "Total params: 104,906\n",
            "Trainable params: 103,338\n",
            "Non-trainable params: 1,568\n",
            "_________________________________________________________________\n"
          ],
          "name": "stdout"
        }
      ]
    },
    {
      "metadata": {
        "id": "R8QrtgNpDXPj",
        "colab_type": "code",
        "colab": {}
      },
      "cell_type": "code",
      "source": [
        "model.compile(loss='categorical_crossentropy',\n",
        "             optimizer='sgd',\n",
        "             metrics=['accuracy'])"
      ],
      "execution_count": 0,
      "outputs": []
    },
    {
      "metadata": {
        "slideshow": {
          "slide_type": "slide"
        },
        "id": "mwk3T5LJOIVN",
        "colab_type": "text"
      },
      "cell_type": "markdown",
      "source": [
        "### Execute the model"
      ]
    },
    {
      "metadata": {
        "id": "JNLR8tcBOIVP",
        "colab_type": "code",
        "colab": {
          "base_uri": "https://localhost:8080/",
          "height": 391
        },
        "outputId": "6ab80c48-64cb-4104-b90f-ab5044ae4604"
      },
      "cell_type": "code",
      "source": [
        "model.fit(x_train,\n",
        "         y_train,\n",
        "         batch_size=64,\n",
        "         epochs=10,\n",
        "         validation_data=(x_test, y_test))"
      ],
      "execution_count": 67,
      "outputs": [
        {
          "output_type": "stream",
          "text": [
            "Train on 60000 samples, validate on 10000 samples\n",
            "Epoch 1/10\n",
            "60000/60000 [==============================] - 4s 71us/sample - loss: 0.9877 - acc: 0.7118 - val_loss: 0.7021 - val_acc: 0.7687\n",
            "Epoch 2/10\n",
            "60000/60000 [==============================] - 4s 70us/sample - loss: 0.6388 - acc: 0.7889 - val_loss: 0.5965 - val_acc: 0.7962\n",
            "Epoch 3/10\n",
            "60000/60000 [==============================] - 4s 70us/sample - loss: 0.5656 - acc: 0.8075 - val_loss: 0.5496 - val_acc: 0.8081\n",
            "Epoch 4/10\n",
            "60000/60000 [==============================] - 4s 70us/sample - loss: 0.5266 - acc: 0.8188 - val_loss: 0.5214 - val_acc: 0.8166\n",
            "Epoch 5/10\n",
            "60000/60000 [==============================] - 4s 71us/sample - loss: 0.5007 - acc: 0.8266 - val_loss: 0.5017 - val_acc: 0.8217\n",
            "Epoch 6/10\n",
            "60000/60000 [==============================] - 4s 71us/sample - loss: 0.4817 - acc: 0.8326 - val_loss: 0.4872 - val_acc: 0.8253\n",
            "Epoch 7/10\n",
            "60000/60000 [==============================] - 4s 71us/sample - loss: 0.4683 - acc: 0.8372 - val_loss: 0.4775 - val_acc: 0.8281\n",
            "Epoch 8/10\n",
            "60000/60000 [==============================] - 4s 71us/sample - loss: 0.4570 - acc: 0.8406 - val_loss: 0.4680 - val_acc: 0.8330\n",
            "Epoch 9/10\n",
            "60000/60000 [==============================] - 4s 70us/sample - loss: 0.4475 - acc: 0.8446 - val_loss: 0.4608 - val_acc: 0.8341\n",
            "Epoch 10/10\n",
            "60000/60000 [==============================] - 4s 70us/sample - loss: 0.4397 - acc: 0.8462 - val_loss: 0.4535 - val_acc: 0.8369\n"
          ],
          "name": "stdout"
        },
        {
          "output_type": "execute_result",
          "data": {
            "text/plain": [
              "<tensorflow.python.keras.callbacks.History at 0x7fc30d641110>"
            ]
          },
          "metadata": {
            "tags": []
          },
          "execution_count": 67
        }
      ]
    },
    {
      "metadata": {
        "id": "Py-KwkmjOIVU",
        "colab_type": "text"
      },
      "cell_type": "markdown",
      "source": [
        "### Customize the learning rate to 0.001 in sgd optimizer and run the model"
      ]
    },
    {
      "metadata": {
        "id": "SMmK7KgYDz46",
        "colab_type": "code",
        "colab": {}
      },
      "cell_type": "code",
      "source": [
        "# tried to pass the sgd but throwing error. :("
      ],
      "execution_count": 0,
      "outputs": []
    },
    {
      "metadata": {
        "id": "3Dy_4S0jEETT",
        "colab_type": "code",
        "colab": {}
      },
      "cell_type": "code",
      "source": [
        "from keras import optimizers\n",
        "\n",
        "sgd = optimizers.SGD(lr=0.001)"
      ],
      "execution_count": 0,
      "outputs": []
    },
    {
      "metadata": {
        "id": "yLXUE9jWOIVV",
        "colab_type": "code",
        "colab": {
          "base_uri": "https://localhost:8080/",
          "height": 520
        },
        "outputId": "7c093e88-1f3b-470e-f35a-f67a2fdcc163"
      },
      "cell_type": "code",
      "source": [
        "model.compile(optimizer=sgd, loss='categorical_crossentropy',\n",
        "             metrics=['accuracy']\n",
        "             )"
      ],
      "execution_count": 85,
      "outputs": [
        {
          "output_type": "error",
          "ename": "ValueError",
          "evalue": "ignored",
          "traceback": [
            "\u001b[0;31m\u001b[0m",
            "\u001b[0;31mValueError\u001b[0mTraceback (most recent call last)",
            "\u001b[0;32m<ipython-input-85-6b09e065b766>\u001b[0m in \u001b[0;36m<module>\u001b[0;34m()\u001b[0m\n\u001b[1;32m      1\u001b[0m model.compile(optimizer=sgd, loss='categorical_crossentropy',\n\u001b[0;32m----> 2\u001b[0;31m              \u001b[0mmetrics\u001b[0m\u001b[0;34m=\u001b[0m\u001b[0;34m[\u001b[0m\u001b[0;34m'accuracy'\u001b[0m\u001b[0;34m]\u001b[0m\u001b[0;34m\u001b[0m\u001b[0m\n\u001b[0m\u001b[1;32m      3\u001b[0m              )\n",
            "\u001b[0;32m/usr/local/lib/python2.7/dist-packages/tensorflow/python/training/checkpointable/base.pyc\u001b[0m in \u001b[0;36m_method_wrapper\u001b[0;34m(self, *args, **kwargs)\u001b[0m\n\u001b[1;32m    440\u001b[0m     \u001b[0mself\u001b[0m\u001b[0;34m.\u001b[0m\u001b[0m_setattr_tracking\u001b[0m \u001b[0;34m=\u001b[0m \u001b[0mFalse\u001b[0m  \u001b[0;31m# pylint: disable=protected-access\u001b[0m\u001b[0;34m\u001b[0m\u001b[0m\n\u001b[1;32m    441\u001b[0m     \u001b[0;32mtry\u001b[0m\u001b[0;34m:\u001b[0m\u001b[0;34m\u001b[0m\u001b[0m\n\u001b[0;32m--> 442\u001b[0;31m       \u001b[0mmethod\u001b[0m\u001b[0;34m(\u001b[0m\u001b[0mself\u001b[0m\u001b[0;34m,\u001b[0m \u001b[0;34m*\u001b[0m\u001b[0margs\u001b[0m\u001b[0;34m,\u001b[0m \u001b[0;34m**\u001b[0m\u001b[0mkwargs\u001b[0m\u001b[0;34m)\u001b[0m\u001b[0;34m\u001b[0m\u001b[0m\n\u001b[0m\u001b[1;32m    443\u001b[0m     \u001b[0;32mfinally\u001b[0m\u001b[0;34m:\u001b[0m\u001b[0;34m\u001b[0m\u001b[0m\n\u001b[1;32m    444\u001b[0m       \u001b[0mself\u001b[0m\u001b[0;34m.\u001b[0m\u001b[0m_setattr_tracking\u001b[0m \u001b[0;34m=\u001b[0m \u001b[0mprevious_value\u001b[0m  \u001b[0;31m# pylint: disable=protected-access\u001b[0m\u001b[0;34m\u001b[0m\u001b[0m\n",
            "\u001b[0;32m/usr/local/lib/python2.7/dist-packages/tensorflow/python/keras/engine/training.pyc\u001b[0m in \u001b[0;36mcompile\u001b[0;34m(self, optimizer, loss, metrics, loss_weights, sample_weight_mode, weighted_metrics, target_tensors, distribute, **kwargs)\u001b[0m\n\u001b[1;32m    192\u001b[0m     \u001b[0mrun_eagerly\u001b[0m \u001b[0;34m=\u001b[0m \u001b[0mkwargs\u001b[0m\u001b[0;34m.\u001b[0m\u001b[0mpop\u001b[0m\u001b[0;34m(\u001b[0m\u001b[0;34m'run_eagerly'\u001b[0m\u001b[0;34m,\u001b[0m \u001b[0mNone\u001b[0m\u001b[0;34m)\u001b[0m\u001b[0;34m\u001b[0m\u001b[0m\n\u001b[1;32m    193\u001b[0m     \u001b[0mself\u001b[0m\u001b[0;34m.\u001b[0m\u001b[0m_run_eagerly\u001b[0m \u001b[0;34m=\u001b[0m \u001b[0mrun_eagerly\u001b[0m\u001b[0;34m\u001b[0m\u001b[0m\n\u001b[0;32m--> 194\u001b[0;31m     \u001b[0moptimizer\u001b[0m \u001b[0;34m=\u001b[0m \u001b[0moptimizers\u001b[0m\u001b[0;34m.\u001b[0m\u001b[0mget\u001b[0m\u001b[0;34m(\u001b[0m\u001b[0moptimizer\u001b[0m\u001b[0;34m)\u001b[0m\u001b[0;34m\u001b[0m\u001b[0m\n\u001b[0m\u001b[1;32m    195\u001b[0m \u001b[0;34m\u001b[0m\u001b[0m\n\u001b[1;32m    196\u001b[0m     \u001b[0;31m# Validate that arguments passed by the user to `compile` are supported by\u001b[0m\u001b[0;34m\u001b[0m\u001b[0;34m\u001b[0m\u001b[0m\n",
            "\u001b[0;32m/usr/local/lib/python2.7/dist-packages/tensorflow/python/keras/optimizers.pyc\u001b[0m in \u001b[0;36mget\u001b[0;34m(identifier)\u001b[0m\n\u001b[1;32m    870\u001b[0m     \u001b[0;32mreturn\u001b[0m \u001b[0mdeserialize\u001b[0m\u001b[0;34m(\u001b[0m\u001b[0mconfig\u001b[0m\u001b[0;34m)\u001b[0m\u001b[0;34m\u001b[0m\u001b[0m\n\u001b[1;32m    871\u001b[0m   \u001b[0;32melse\u001b[0m\u001b[0;34m:\u001b[0m\u001b[0;34m\u001b[0m\u001b[0m\n\u001b[0;32m--> 872\u001b[0;31m     \u001b[0;32mraise\u001b[0m \u001b[0mValueError\u001b[0m\u001b[0;34m(\u001b[0m\u001b[0;34m'Could not interpret optimizer identifier:'\u001b[0m\u001b[0;34m,\u001b[0m \u001b[0midentifier\u001b[0m\u001b[0;34m)\u001b[0m\u001b[0;34m\u001b[0m\u001b[0m\n\u001b[0m",
            "\u001b[0;31mValueError\u001b[0m: ('Could not interpret optimizer identifier:', <keras.optimizers.SGD object at 0x7fc30d25a6d0>)"
          ]
        }
      ]
    },
    {
      "metadata": {
        "id": "pJUqA5T4OIVc",
        "colab_type": "code",
        "colab": {}
      },
      "cell_type": "code",
      "source": [
        ""
      ],
      "execution_count": 0,
      "outputs": []
    },
    {
      "metadata": {
        "slideshow": {
          "slide_type": "slide"
        },
        "id": "j9CSqKvpOIVk",
        "colab_type": "text"
      },
      "cell_type": "markdown",
      "source": [
        "### Build the Neural Network model with 3 Dense layers with 100,100,10 neurons respectively in each layer. Use cross entropy loss function and singmoid as activation in the hidden layers and softmax as activation function in the output layer. Use sgd optimizer with learning rate 0.03."
      ]
    },
    {
      "metadata": {
        "id": "GGAad54JOIVm",
        "colab_type": "code",
        "colab": {
          "base_uri": "https://localhost:8080/",
          "height": 306
        },
        "outputId": "fd01e996-e8d2-433e-8289-d83e6093d9c7"
      },
      "cell_type": "code",
      "source": [
        "model = tf.keras.Sequential()\n",
        "\n",
        "#Reshape data from 2D to 1D -> 28x28 to 784\n",
        "model.add(tf.keras.layers.Reshape((784,),input_shape=(28,28,)))\n",
        "\n",
        "\n",
        "\n",
        "#Normalize the data\n",
        "model.add(tf.keras.layers.BatchNormalization())\n",
        "\n",
        "\n",
        "#Add 1st hidden layer\n",
        "model.add(tf.keras.layers.Dense(100, activation='sigmoid'))\n",
        "\n",
        "#Add 2nt hidden layer\n",
        "model.add(tf.keras.layers.Dense(100, activation='sigmoid'))\n",
        "\n",
        "#Add OUTPUT layer\n",
        "model.add(tf.keras.layers.Dense(10, activation='softmax'))\n",
        "\n",
        "# Take a look at the model summary\n",
        "model.summary()"
      ],
      "execution_count": 86,
      "outputs": [
        {
          "output_type": "stream",
          "text": [
            "_________________________________________________________________\n",
            "Layer (type)                 Output Shape              Param #   \n",
            "=================================================================\n",
            "reshape_6 (Reshape)          (None, 784)               0         \n",
            "_________________________________________________________________\n",
            "batch_normalization_v1_4 (Ba (None, 784)               3136      \n",
            "_________________________________________________________________\n",
            "dense_28 (Dense)             (None, 100)               78500     \n",
            "_________________________________________________________________\n",
            "dense_29 (Dense)             (None, 100)               10100     \n",
            "_________________________________________________________________\n",
            "dense_30 (Dense)             (None, 10)                1010      \n",
            "=================================================================\n",
            "Total params: 92,746\n",
            "Trainable params: 91,178\n",
            "Non-trainable params: 1,568\n",
            "_________________________________________________________________\n"
          ],
          "name": "stdout"
        }
      ]
    },
    {
      "metadata": {
        "id": "MQ7oIymROIVp",
        "colab_type": "code",
        "colab": {}
      },
      "cell_type": "code",
      "source": [
        ""
      ],
      "execution_count": 0,
      "outputs": []
    },
    {
      "metadata": {
        "id": "X-O-fFxnOIVt",
        "colab_type": "code",
        "colab": {}
      },
      "cell_type": "code",
      "source": [
        ""
      ],
      "execution_count": 0,
      "outputs": []
    },
    {
      "metadata": {
        "id": "BiP7IL52OIVw",
        "colab_type": "code",
        "colab": {}
      },
      "cell_type": "code",
      "source": [
        ""
      ],
      "execution_count": 0,
      "outputs": []
    },
    {
      "metadata": {
        "slideshow": {
          "slide_type": "slide"
        },
        "id": "Nr2YsZV0OIV0",
        "colab_type": "text"
      },
      "cell_type": "markdown",
      "source": [
        "## Review model"
      ]
    },
    {
      "metadata": {
        "id": "h4ojW6-oOIV2",
        "colab_type": "code",
        "colab": {}
      },
      "cell_type": "code",
      "source": [
        "model.compile(loss='categorical_crossentropy',\n",
        "             optimizer='sgd',\n",
        "             metrics=['accuracy'])"
      ],
      "execution_count": 0,
      "outputs": []
    },
    {
      "metadata": {
        "slideshow": {
          "slide_type": "slide"
        },
        "id": "gfFGmbZLOIV5",
        "colab_type": "text"
      },
      "cell_type": "markdown",
      "source": [
        "### Run the model"
      ]
    },
    {
      "metadata": {
        "id": "bIkbMEN5OIV7",
        "colab_type": "code",
        "colab": {
          "base_uri": "https://localhost:8080/",
          "height": 391
        },
        "outputId": "8f802a2e-e574-4c88-fe3b-612b8a48faea"
      },
      "cell_type": "code",
      "source": [
        "model.fit(x_train,\n",
        "         y_train,\n",
        "         batch_size=64,\n",
        "         epochs=10,\n",
        "         validation_data=(x_test, y_test))"
      ],
      "execution_count": 88,
      "outputs": [
        {
          "output_type": "stream",
          "text": [
            "Train on 60000 samples, validate on 10000 samples\n",
            "Epoch 1/10\n",
            "60000/60000 [==============================] - 5s 76us/sample - loss: 1.8581 - acc: 0.5468 - val_loss: 1.4658 - val_acc: 0.6733\n",
            "Epoch 2/10\n",
            "60000/60000 [==============================] - 4s 75us/sample - loss: 1.2236 - acc: 0.7061 - val_loss: 1.0296 - val_acc: 0.7348\n",
            "Epoch 3/10\n",
            "60000/60000 [==============================] - 4s 75us/sample - loss: 0.9206 - acc: 0.7442 - val_loss: 0.8268 - val_acc: 0.7538\n",
            "Epoch 4/10\n",
            "60000/60000 [==============================] - 4s 75us/sample - loss: 0.7697 - acc: 0.7598 - val_loss: 0.7220 - val_acc: 0.7668\n",
            "Epoch 5/10\n",
            "60000/60000 [==============================] - 5s 75us/sample - loss: 0.6870 - acc: 0.7725 - val_loss: 0.6595 - val_acc: 0.7774\n",
            "Epoch 6/10\n",
            "60000/60000 [==============================] - 4s 74us/sample - loss: 0.6328 - acc: 0.7838 - val_loss: 0.6167 - val_acc: 0.7865\n",
            "Epoch 7/10\n",
            "60000/60000 [==============================] - 4s 74us/sample - loss: 0.5970 - acc: 0.7944 - val_loss: 0.5863 - val_acc: 0.7949\n",
            "Epoch 8/10\n",
            "60000/60000 [==============================] - 4s 74us/sample - loss: 0.5670 - acc: 0.8034 - val_loss: 0.5615 - val_acc: 0.8025\n",
            "Epoch 9/10\n",
            "60000/60000 [==============================] - 4s 74us/sample - loss: 0.5435 - acc: 0.8122 - val_loss: 0.5421 - val_acc: 0.8092\n",
            "Epoch 10/10\n",
            "60000/60000 [==============================] - 4s 74us/sample - loss: 0.5253 - acc: 0.8165 - val_loss: 0.5271 - val_acc: 0.8122\n"
          ],
          "name": "stdout"
        },
        {
          "output_type": "execute_result",
          "data": {
            "text/plain": [
              "<tensorflow.python.keras.callbacks.History at 0x7fc30c7f6650>"
            ]
          },
          "metadata": {
            "tags": []
          },
          "execution_count": 88
        }
      ]
    }
  ]
}